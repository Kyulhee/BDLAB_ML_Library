{
 "cells": [
  {
   "cell_type": "markdown",
   "metadata": {},
   "source": [
    "## Importing Library"
   ]
  },
  {
   "cell_type": "code",
   "execution_count": 1,
   "metadata": {},
   "outputs": [
    {
     "name": "stderr",
     "output_type": "stream",
     "text": [
      "Using TensorFlow backend.\n"
     ]
    },
    {
     "name": "stdout",
     "output_type": "stream",
     "text": [
      "1.10.0\n"
     ]
    }
   ],
   "source": [
    "# TensorFlow and tf.keras\n",
    "import tensorflow as tf\n",
    "from tensorflow import keras\n",
    "from keras import backend as K\n",
    "\n",
    "# Helper libraries\n",
    "import numpy as np\n",
    "import pandas as pd\n",
    "import matplotlib.pyplot as plt\n",
    "from sklearn.model_selection import train_test_split\n",
    "\n",
    "print(tf.__version__)"
   ]
  },
  {
   "cell_type": "markdown",
   "metadata": {},
   "source": [
    "## Import Data"
   ]
  },
  {
   "cell_type": "code",
   "execution_count": 2,
   "metadata": {},
   "outputs": [
    {
     "name": "stdout",
     "output_type": "stream",
     "text": [
      "sample : 1400  \n",
      "features : 311\n"
     ]
    }
   ],
   "source": [
    "path = \"/Users/chanhee/Desktop/foundation_toy.csv\"\n",
    "idx_col = 0\n",
    "\n",
    "data = pd.read_csv(path,index_col=idx_col)\n",
    "sample,features = data.shape\n",
    "\n",
    "print(\"sample : {}  \\nfeatures : {}\".format(sample,features))"
   ]
  },
  {
   "cell_type": "markdown",
   "metadata": {},
   "source": [
    "## Split Train Test Data"
   ]
  },
  {
   "cell_type": "code",
   "execution_count": 3,
   "metadata": {},
   "outputs": [],
   "source": [
    "train_data,test_data = train_test_split(data, test_size=0.2)\n",
    "y_val = train_data.result\n",
    "x_val = train_data.drop([\"patient\",\"cancer_code\",\"result\"],axis=1)\n",
    "\n",
    "test_y_val = test_data.result\n",
    "test_x_val = test_data.drop([\"patient\",\"cancer_code\",\"result\"],axis=1)"
   ]
  },
  {
   "cell_type": "markdown",
   "metadata": {},
   "source": [
    "## Modeling Seperate Model"
   ]
  },
  {
   "cell_type": "markdown",
   "metadata": {},
   "source": [
    "###  Building seperate model for ensemble(model 1, 2, 3)"
   ]
  },
  {
   "cell_type": "code",
   "execution_count": 4,
   "metadata": {},
   "outputs": [
    {
     "name": "stdout",
     "output_type": "stream",
     "text": [
      "Epoch 1/13\n",
      "1120/1120 [==============================] - 0s 408us/step - loss: 0.4162 - acc: 0.8054\n",
      "Epoch 2/13\n",
      "1120/1120 [==============================] - 0s 71us/step - loss: 0.2186 - acc: 0.9161\n",
      "Epoch 3/13\n",
      "1120/1120 [==============================] - 0s 70us/step - loss: 0.1846 - acc: 0.9312\n",
      "Epoch 4/13\n",
      "1120/1120 [==============================] - 0s 65us/step - loss: 0.1125 - acc: 0.9616\n",
      "Epoch 5/13\n",
      "1120/1120 [==============================] - 0s 63us/step - loss: 0.1435 - acc: 0.9411\n",
      "Epoch 6/13\n",
      "1120/1120 [==============================] - 0s 58us/step - loss: 0.1216 - acc: 0.9446\n",
      "Epoch 7/13\n",
      "1120/1120 [==============================] - 0s 64us/step - loss: 0.1075 - acc: 0.9589\n",
      "Epoch 8/13\n",
      "1120/1120 [==============================] - 0s 67us/step - loss: 0.0650 - acc: 0.9741\n",
      "Epoch 9/13\n",
      "1120/1120 [==============================] - 0s 67us/step - loss: 0.0534 - acc: 0.9821\n",
      "Epoch 10/13\n",
      "1120/1120 [==============================] - 0s 61us/step - loss: 0.0420 - acc: 0.9813\n",
      "Epoch 11/13\n",
      "1120/1120 [==============================] - 0s 63us/step - loss: 0.0735 - acc: 0.9714\n",
      "Epoch 12/13\n",
      "1120/1120 [==============================] - 0s 58us/step - loss: 0.0419 - acc: 0.9848\n",
      "Epoch 13/13\n",
      "1120/1120 [==============================] - 0s 61us/step - loss: 0.0283 - acc: 0.9884\n",
      "Epoch 1/13\n",
      "1120/1120 [==============================] - 0s 311us/step - loss: 0.5024 - acc: 0.7634\n",
      "Epoch 2/13\n",
      "1120/1120 [==============================] - 0s 60us/step - loss: 0.2552 - acc: 0.9107\n",
      "Epoch 3/13\n",
      "1120/1120 [==============================] - 0s 56us/step - loss: 0.1877 - acc: 0.9268\n",
      "Epoch 4/13\n",
      "1120/1120 [==============================] - 0s 64us/step - loss: 0.1536 - acc: 0.9393\n",
      "Epoch 5/13\n",
      "1120/1120 [==============================] - 0s 62us/step - loss: 0.1202 - acc: 0.9580\n",
      "Epoch 6/13\n",
      "1120/1120 [==============================] - 0s 57us/step - loss: 0.1126 - acc: 0.9545\n",
      "Epoch 7/13\n",
      "1120/1120 [==============================] - 0s 57us/step - loss: 0.0840 - acc: 0.9705\n",
      "Epoch 8/13\n",
      "1120/1120 [==============================] - 0s 61us/step - loss: 0.0891 - acc: 0.9643\n",
      "Epoch 9/13\n",
      "1120/1120 [==============================] - 0s 57us/step - loss: 0.0604 - acc: 0.9786\n",
      "Epoch 10/13\n",
      "1120/1120 [==============================] - 0s 59us/step - loss: 0.1090 - acc: 0.9545\n",
      "Epoch 11/13\n",
      "1120/1120 [==============================] - 0s 59us/step - loss: 0.0683 - acc: 0.9759\n",
      "Epoch 12/13\n",
      "1120/1120 [==============================] - 0s 59us/step - loss: 0.0559 - acc: 0.9813\n",
      "Epoch 13/13\n",
      "1120/1120 [==============================] - 0s 64us/step - loss: 0.0344 - acc: 0.9875\n",
      "Epoch 1/13\n",
      "1120/1120 [==============================] - 0s 309us/step - loss: 0.4084 - acc: 0.8143\n",
      "Epoch 2/13\n",
      "1120/1120 [==============================] - 0s 57us/step - loss: 0.2112 - acc: 0.9134\n",
      "Epoch 3/13\n",
      "1120/1120 [==============================] - 0s 55us/step - loss: 0.1744 - acc: 0.9277\n",
      "Epoch 4/13\n",
      "1120/1120 [==============================] - 0s 59us/step - loss: 0.1224 - acc: 0.9527\n",
      "Epoch 5/13\n",
      "1120/1120 [==============================] - 0s 64us/step - loss: 0.0948 - acc: 0.9661\n",
      "Epoch 6/13\n",
      "1120/1120 [==============================] - 0s 59us/step - loss: 0.1272 - acc: 0.9473\n",
      "Epoch 7/13\n",
      "1120/1120 [==============================] - 0s 57us/step - loss: 0.0669 - acc: 0.9759\n",
      "Epoch 8/13\n",
      "1120/1120 [==============================] - 0s 54us/step - loss: 0.0557 - acc: 0.9804\n",
      "Epoch 9/13\n",
      "1120/1120 [==============================] - 0s 61us/step - loss: 0.0542 - acc: 0.9830\n",
      "Epoch 10/13\n",
      "1120/1120 [==============================] - 0s 55us/step - loss: 0.0249 - acc: 0.9937\n",
      "Epoch 11/13\n",
      "1120/1120 [==============================] - 0s 56us/step - loss: 0.0484 - acc: 0.9777\n",
      "Epoch 12/13\n",
      "1120/1120 [==============================] - 0s 57us/step - loss: 0.0460 - acc: 0.9848\n",
      "Epoch 13/13\n",
      "1120/1120 [==============================] - 0s 56us/step - loss: 0.0713 - acc: 0.9705\n"
     ]
    },
    {
     "data": {
      "text/plain": [
       "<keras.callbacks.History at 0x10faa2b00>"
      ]
     },
     "execution_count": 4,
     "metadata": {},
     "output_type": "execute_result"
    }
   ],
   "source": [
    "from keras.layers import Input, Dense\n",
    "from keras.models import Model\n",
    "\n",
    "input_m1 = Input(shape=(308,))\n",
    "h1_m1 = Dense(200,activation='relu')(input_m1)\n",
    "h2_m1 = Dense(150,activation='relu')(h1_m1) \n",
    "h3_m1 = Dense(100,activation='relu')(h2_m1) \n",
    "h4_m1 = Dense(10,activation='relu')(h3_m1) \n",
    "output_m1 = Dense(1,activation=\"sigmoid\")(h4_m1) \n",
    "model1 = Model(inputs=input_m1,outputs=output_m1)\n",
    "\n",
    "\n",
    "input_m2 = Input(shape=(308,))\n",
    "h1_m2 = Dense(250,activation='relu')(input_m2)\n",
    "h2_m2 = Dense(100,activation='relu')(h1_m2) \n",
    "h3_m2 = Dense(30,activation='relu')(h2_m2)\n",
    "h4_m2 = Dense(10,activation='relu')(h3_m2) \n",
    "output_m2 = Dense(1,activation=\"sigmoid\")(h4_m2)\n",
    "model2 = Model(inputs=input_m2,outputs=output_m2)\n",
    "\n",
    "input_m3 = Input(shape=(308,))\n",
    "h1_m3 = Dense(200,activation='relu')(input_m3)\n",
    "h2_m3 = Dense(100,activation='relu')(h1_m3) \n",
    "h3_m3 = Dense(100,activation='relu')(h2_m3)\n",
    "h4_m3 = Dense(10,activation='relu')(h3_m3) \n",
    "output_m3 = Dense(1,activation=\"sigmoid\")(h4_m3)\n",
    "model3 = Model(inputs=input_m3,outputs=output_m3)\n",
    "\n",
    "model1.compile(optimizer=tf.train.AdamOptimizer(), \n",
    "              loss='binary_crossentropy',\n",
    "              metrics=['accuracy'])\n",
    "model2.compile(optimizer=tf.train.AdamOptimizer(), \n",
    "              loss='binary_crossentropy',\n",
    "              metrics=['accuracy'])\n",
    "model3.compile(optimizer=tf.train.AdamOptimizer(), \n",
    "              loss='binary_crossentropy',\n",
    "              metrics=['accuracy'])\n",
    "\n",
    "model1.fit(x_val, y_val, epochs=13)\n",
    "model2.fit(x_val, y_val, epochs=13)\n",
    "model3.fit(x_val, y_val, epochs=13)\n",
    "\n"
   ]
  },
  {
   "cell_type": "markdown",
   "metadata": {},
   "source": [
    "### Evaluating seperate model's performance"
   ]
  },
  {
   "cell_type": "code",
   "execution_count": 5,
   "metadata": {},
   "outputs": [
    {
     "name": "stdout",
     "output_type": "stream",
     "text": [
      "280/280 [==============================] - 0s 267us/step\n",
      "280/280 [==============================] - 0s 253us/step\n",
      "280/280 [==============================] - 0s 251us/step\n",
      "\n",
      "Accuracy for model 1, 2, 3 : 0.9107142857142857,0.9071428554398673,0.9142857142857143\n"
     ]
    }
   ],
   "source": [
    "m1_loss,m1_accuracy= model1.evaluate(test_x_val,test_y_val)\n",
    "m2_loss,m2_accuracy= model2.evaluate(test_x_val,test_y_val)\n",
    "m3_loss,m3_accuracy= model3.evaluate(test_x_val,test_y_val)\n",
    "\n",
    "print(\"\\nAccuracy for model 1, 2, 3 : {},{},{}\".format(m1_accuracy,m2_accuracy,m3_accuracy))"
   ]
  },
  {
   "cell_type": "markdown",
   "metadata": {},
   "source": [
    "## Modeling Ensemble model"
   ]
  },
  {
   "cell_type": "markdown",
   "metadata": {},
   "source": [
    "### Building original ensemble model"
   ]
  },
  {
   "cell_type": "code",
   "execution_count": 6,
   "metadata": {},
   "outputs": [
    {
     "name": "stdout",
     "output_type": "stream",
     "text": [
      "Epoch 1/5\n",
      "1120/1120 [==============================] - 1s 1ms/step - loss: 0.4180 - acc: 0.9223\n",
      "Epoch 2/5\n",
      "1120/1120 [==============================] - 1s 789us/step - loss: 0.2152 - acc: 0.9955\n",
      "Epoch 3/5\n",
      "1120/1120 [==============================] - 1s 760us/step - loss: 0.1331 - acc: 0.9973\n",
      "Epoch 4/5\n",
      "1120/1120 [==============================] - 1s 753us/step - loss: 0.0852 - acc: 0.9973\n",
      "Epoch 5/5\n",
      "1120/1120 [==============================] - 1s 751us/step - loss: 0.0559 - acc: 0.9982\n"
     ]
    },
    {
     "data": {
      "text/plain": [
       "<tensorflow.python.keras.callbacks.History at 0x1213db668>"
      ]
     },
     "execution_count": 6,
     "metadata": {},
     "output_type": "execute_result"
    }
   ],
   "source": [
    "m1_predictions = model1.predict(x_val)\n",
    "m2_predictions = model2.predict(x_val)\n",
    "m3_predictions = model2.predict(x_val)\n",
    "\n",
    "ensemble_x_val = np.concatenate([m1_predictions, m2_predictions, m3_predictions], axis=1)\n",
    "\n",
    "ensemble_model = keras.Sequential([\n",
    "    keras.layers.Dense(3,input_shape=(3,),name=\"input_layer\"),\n",
    "    keras.layers.Dense(2,activation=\"relu\"),        \n",
    "    keras.layers.Dense(1,activation='sigmoid',name=\"output_layer\")])\n",
    "\n",
    "ensemble_model.compile(optimizer=tf.train.AdamOptimizer(), \n",
    "              loss='binary_crossentropy',\n",
    "              metrics=['accuracy'])\n",
    "\n",
    "ensemble_model.fit(ensemble_x_val, y_val, epochs=5, batch_size= 1)\n"
   ]
  },
  {
   "cell_type": "markdown",
   "metadata": {},
   "source": [
    "### Evaluating _DNN Combiner_ ensemble model"
   ]
  },
  {
   "cell_type": "code",
   "execution_count": 7,
   "metadata": {},
   "outputs": [
    {
     "name": "stdout",
     "output_type": "stream",
     "text": [
      "280/280 [==============================] - 0s 274us/step\n",
      "Accuracy for DNN combiner ensemble : 0.925\n"
     ]
    }
   ],
   "source": [
    "m1_test_predictions = model1.predict(test_x_val)\n",
    "m2_test_predictions = model2.predict(test_x_val)\n",
    "m3_test_predictions = model2.predict(test_x_val)\n",
    "\n",
    "ensemble_test_x_val = np.concatenate([m1_test_predictions, m2_test_predictions, m3_test_predictions], axis=1)\n",
    "\n",
    "em_loss,em_accuracy= ensemble_model.evaluate(ensemble_test_x_val,test_y_val)\n",
    "\n",
    "print(\"Accuracy for DNN combiner ensemble : {}\".format(em_accuracy))"
   ]
  },
  {
   "cell_type": "markdown",
   "metadata": {},
   "source": [
    "### Evaluating _mean_ ensemble model"
   ]
  },
  {
   "cell_type": "code",
   "execution_count": 8,
   "metadata": {},
   "outputs": [
    {
     "name": "stdout",
     "output_type": "stream",
     "text": [
      "Accuracy for mean ensemble : 0.9285714285714286\n"
     ]
    }
   ],
   "source": [
    "mean_predictions=(m1_test_predictions+m2_test_predictions+m3_test_predictions)/3\n",
    "labled_predictions = np.where(mean_predictions > 0.5, 1, 0).flatten()\n",
    "mean_em_accuracy = sum(labled_predictions==test_y_val.values)/len(test_y_val)\n",
    "\n",
    "print(\"Accuracy for mean ensemble : {}\".format(mean_em_accuracy))"
   ]
  },
  {
   "cell_type": "markdown",
   "metadata": {},
   "source": [
    "## Transferred Ensemble Modeling "
   ]
  },
  {
   "cell_type": "markdown",
   "metadata": {},
   "source": [
    "### Making new input data for t-ensemble"
   ]
  },
  {
   "cell_type": "code",
   "execution_count": 9,
   "metadata": {},
   "outputs": [
    {
     "name": "stdout",
     "output_type": "stream",
     "text": [
      "(1120, 30)\n"
     ]
    }
   ],
   "source": [
    "from keras.models import Model\n",
    "model = Model(inputs=[input_m1], outputs=[h4_m1])\n",
    "results_m1 = model.predict([x_val])\n",
    "\n",
    "model = Model(inputs=[input_m2], outputs=[h4_m2])\n",
    "results_m2 = model.predict([x_val])\n",
    "\n",
    "model = Model(inputs=[input_m3], outputs=[h4_m3])\n",
    "results_m3 = model.predict([x_val])\n",
    "\n",
    "t_ensemble_x_val = np.concatenate([results_m1, results_m2, results_m3], axis=1)\n",
    "print(t_ensemble_x_val.shape)"
   ]
  },
  {
   "cell_type": "markdown",
   "metadata": {},
   "source": [
    "### Modeling t-ensemble  "
   ]
  },
  {
   "cell_type": "code",
   "execution_count": 10,
   "metadata": {},
   "outputs": [
    {
     "name": "stdout",
     "output_type": "stream",
     "text": [
      "Epoch 1/2\n",
      "1120/1120 [==============================] - 1s 498us/step - loss: 0.1953 - acc: 0.9277\n",
      "Epoch 2/2\n",
      "1120/1120 [==============================] - 0s 247us/step - loss: 0.0118 - acc: 1.0000\n"
     ]
    },
    {
     "data": {
      "text/plain": [
       "<keras.callbacks.History at 0x1213db208>"
      ]
     },
     "execution_count": 10,
     "metadata": {},
     "output_type": "execute_result"
    }
   ],
   "source": [
    "t_ensemble_input = Input(shape=(30,))\n",
    "t_ensemble_h1 = Dense(20,activation='relu')(t_ensemble_input)\n",
    "t_ensemble_h2 = Dense(10,activation='relu')(t_ensemble_h1)\n",
    "t_ensemble_h3 = Dense(5,activation='relu')(t_ensemble_h2)\n",
    "t_ensemble_output = Dense(1,activation='sigmoid')(t_ensemble_h3)\n",
    "\n",
    "t_ensemble_model = Model(inputs=[t_ensemble_input],outputs=[t_ensemble_output])\n",
    "t_ensemble_model.compile(optimizer=tf.train.AdamOptimizer(), \n",
    "              loss='binary_crossentropy',\n",
    "              metrics=['accuracy'])\n",
    "\n",
    "t_ensemble_model.fit(t_ensemble_x_val, y_val, epochs=2,batch_size=5)"
   ]
  },
  {
   "cell_type": "markdown",
   "metadata": {},
   "source": [
    "### Evaluating t-ensemble"
   ]
  },
  {
   "cell_type": "code",
   "execution_count": 11,
   "metadata": {},
   "outputs": [
    {
     "name": "stdout",
     "output_type": "stream",
     "text": [
      "280/280 [==============================] - 0s 354us/step\n",
      "\n",
      "Accuracy for t-ensemble:  0.942857141154153\n"
     ]
    }
   ],
   "source": [
    "model = Model(inputs=[input_m1], outputs=[h4_m1])\n",
    "test_results_m1 = model.predict([test_x_val])\n",
    "model = Model(inputs=[input_m2], outputs=[h4_m2])\n",
    "test_results_m2 = model.predict([test_x_val])\n",
    "model = Model(inputs=[input_m3], outputs=[h4_m3])\n",
    "test_results_m3 = model.predict([test_x_val])\n",
    "\n",
    "t_ensemble_test_x_val = np.concatenate([test_results_m1, test_results_m2, test_results_m3], axis=1)\n",
    "t_em_accuracy = t_ensemble_model.evaluate(t_ensemble_test_x_val,test_y_val)[1]\n",
    "print(\"\\nAccuracy for t-ensemble: \",t_em_accuracy )"
   ]
  },
  {
   "cell_type": "markdown",
   "metadata": {},
   "source": [
    "## Performance Comparison"
   ]
  },
  {
   "cell_type": "code",
   "execution_count": 12,
   "metadata": {},
   "outputs": [],
   "source": [
    "label = [\"model1\",\"model2\",\"model3\",\"mean-em\",\"d-comb em\",\"t-em\"]\n",
    "accuracy = [m1_accuracy,m2_accuracy,m3_accuracy,mean_em_accuracy,em_accuracy,t_em_accuracy ]"
   ]
  },
  {
   "cell_type": "code",
   "execution_count": 21,
   "metadata": {},
   "outputs": [],
   "source": [
    "def plot_bar_x():\n",
    "    # this is for plotting purpose\n",
    "    plt.figure(figsize=(30,20))\n",
    "    axes = plt.gca()\n",
    "    axes.set_ylim([min(m1_accuracy,m2_accuracy,m3_accuracy,mean_em_accuracy,em_accuracy,t_em_accuracy)-0.02,1])\n",
    "    index = np.arange(len(label))\n",
    "    plt.bar(index, accuracy,color=['red', 'orange', 'yellow', \"green\",'blue', 'purple',],alpha=0.5,width=0.3)\n",
    "    plt.xlabel('Method', fontsize=35)\n",
    "    plt.ylabel('Accuracy', fontsize=35)\n",
    "    plt.yticks(fontsize=30)    \n",
    "    plt.xticks(index, label, fontsize=30, rotation=90)\n",
    "    plt.title('Performance Comparison for each Ensemble Model',fontsize=40)\n",
    "    plt.show()"
   ]
  },
  {
   "cell_type": "code",
   "execution_count": 22,
   "metadata": {},
   "outputs": [
    {
     "data": {
      "image/png": "[encoded data removed]",
      "text/plain": [
       "<Figure size 2160x1440 with 1 Axes>"
      ]
     },
     "metadata": {},
     "output_type": "display_data"
    }
   ],
   "source": [
    "plot_bar_x()"
   ]
  },
  {
   "cell_type": "code",
   "execution_count": null,
   "metadata": {},
   "outputs": [],
   "source": []
  }
 ],
 "metadata": {
  "kernelspec": {
   "display_name": "Python 3",
   "language": "python",
   "name": "python3"
  },
  "language_info": {
   "codemirror_mode": {
    "name": "ipython",
    "version": 3
   },
   "file_extension": ".py",
   "mimetype": "text/x-python",
   "name": "python",
   "nbconvert_exporter": "python",
   "pygments_lexer": "ipython3",
   "version": "3.5.4"
  }
 },
 "nbformat": 4,
 "nbformat_minor": 2
}
