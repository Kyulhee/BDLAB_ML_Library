{
 "cells": [
  {
   "cell_type": "code",
   "execution_count": 1,
   "metadata": {},
   "outputs": [],
   "source": [
    "import pandas as pd\n",
    "import tensorflow as tf\n",
    "import lib.dataProcess as dp\n",
    "import lib.deepLearning as dl"
   ]
  },
  {
   "cell_type": "code",
   "execution_count": 35,
   "metadata": {},
   "outputs": [],
   "source": [
    "file_names = [\"OV_Var_200.csv\", \"OV_Diff_200.csv\", \"OV_CV_200.csv\", \"OV_Annotation3000_200.csv\", \"OV_Annotation40.csv\"]\n",
    "file_name = file_names[3]"
   ]
  },
  {
   "cell_type": "code",
   "execution_count": 36,
   "metadata": {},
   "outputs": [],
   "source": [
    "raw_data = pd.read_csv('../GEO_input_ensemble_CV_500.csv')"
   ]
  },
  {
   "cell_type": "code",
   "execution_count": 3,
   "metadata": {},
   "outputs": [],
   "source": [
    "shuffled_data = raw_data\n",
    "shuffled_data['index'] = dp.shuffle_index(shuffled_data)"
   ]
  },
  {
   "cell_type": "code",
   "execution_count": 4,
   "metadata": {},
   "outputs": [],
   "source": [
    "fivefold = dp.n_fold(raw_data, 'index', 5)\n",
    "# make index as rep of 1:5"
   ]
  },
  {
   "cell_type": "code",
   "execution_count": 5,
   "metadata": {},
   "outputs": [
    {
     "name": "stdout",
     "output_type": "stream",
     "text": [
      "Number of Class : 2\n",
      "Number of Class : 2\n"
     ]
    },
    {
     "name": "stderr",
     "output_type": "stream",
     "text": [
      "C:\\Git\\BDLAB_ML_Library\\lib\\dataProcess.py:110: FutureWarning: Method .as_matrix will be removed in a future version. Use .values instead.\n",
      "  y_data_n.append(data.loc[:,key].as_matrix())\n",
      "C:\\Git\\BDLAB_ML_Library\\lib\\dataProcess.py:111: FutureWarning: Method .as_matrix will be removed in a future version. Use .values instead.\n",
      "  x_data_n.append(data.iloc[:,x_start:x_end].as_matrix())\n"
     ]
    }
   ],
   "source": [
    "xdata_five, ydata_five = dp.divide_xy_train(fivefold, 'result', True, 1, -3)\n",
    "train_x, test_x = dp.train_test(xdata_five, 0)\n",
    "train_y, test_y = dp.train_test(ydata_five, 0)\n",
    "train_y = dp.one_hot_encoder(train_y)\n",
    "test_y = dp.one_hot_encoder(test_y)\n",
    "val_x, test_x = dp.test_validation(test_x)\n",
    "val_y, test_y = dp.test_validation(test_y)\n",
    "# devide train & test"
   ]
  },
  {
   "cell_type": "code",
   "execution_count": 16,
   "metadata": {
    "scrolled": true
   },
   "outputs": [
    {
     "data": {
      "text/plain": [
       "<tf.Tensor 'Placeholder_1:0' shape=(?, 500) dtype=float32>"
      ]
     },
     "execution_count": 16,
     "metadata": {},
     "output_type": "execute_result"
    }
   ],
   "source": [
    "nodes = [200,100, 50]\n",
    "learning_rate = 0.001\n",
    "batch_size = 100\n",
    "\n",
    "X, Y, layers, logits, phase, hypothesis, cost, train, predicted, correct_prediction, accuracy, keep_prob = dl.set_model_dropout(train_x, train_y, nodes , learning_rate)\n",
    "\n",
    "#set hyperparameters - node, learning rate, batch size\n",
    "#what is keep_prob?\n",
    "#make place holders. These are not real variables, just spaces for variable."
   ]
  },
  {
   "cell_type": "code",
   "execution_count": 18,
   "metadata": {},
   "outputs": [
    {
     "name": "stdout",
     "output_type": "stream",
     "text": [
      "train acc :  0.8695652 validation acc :  0.88039213 train_cost 0.35921618\n",
      "Learning Finished!! \n",
      "\n",
      "Training Accuracy :  0.96697694 Validation Accuracy :  0.95392156\n",
      "INFO:tensorflow:Restoring parameters from ./model0.ckpt\n",
      "\n",
      "Test Accuracy:  0.9588235\n"
     ]
    }
   ],
   "source": [
    "\n",
    "best_train_acc = 0\n",
    "best_val_acc = 0\n",
    "best_test_acc = 0 \n",
    "best_cost = float(\"inf\")\n",
    "save_path_dir ='./'\n",
    "count = 0\n",
    "model_num = 0\n",
    "\n",
    "saver = tf.train.Saver()\n",
    "with tf.Session() as sess:\n",
    "    # Initialize TensorFlow variables\n",
    "    sess.run(tf.global_variables_initializer())\n",
    "    stop_switch = True\n",
    "    step = 0\n",
    "    \n",
    "    #if condition \n",
    "    while stop_switch:\n",
    "        total_num = int(len(train_x) / batch_size)\n",
    "        for k in range(total_num):\n",
    "            #cut data as large as batch_size.\n",
    "            batch_x = train_x[k * batch_size:(k + 1) * batch_size]\n",
    "            batch_y = train_y[k * batch_size:(k + 1) * batch_size]\n",
    "            sess.run(train, feed_dict={X: batch_x, Y: batch_y, keep_prob: 0.5 , phase:True})\n",
    "\n",
    "        #feed_dict - place holder is just 'space', feed_dict means supply real data into place holder.\n",
    "        train_h, train_c, train_p, train_a = sess.run( [hypothesis, cost, predicted, accuracy], feed_dict={X: train_x, Y: train_y, keep_prob: 1 , phase:False})\n",
    "        val_h, val_c, val_p, val_a = sess.run([hypothesis, cost, predicted, accuracy], feed_dict={X: val_x, Y: val_y, keep_prob: 1 , phase:False})\n",
    "        if step % 20 == 0 :\n",
    "            print(\"train acc : \", train_a, \"validation acc : \", val_a, \"train_cost\", train_c)\n",
    "        step += 1\n",
    "        \n",
    "        #condition 1: new best condition. \n",
    "        #calculated cost(val_c) is smaller than before's(best_cost), save present condition and initialize count.\n",
    "        if best_cost > val_c :\n",
    "            best_train_acc = train_a\n",
    "            best_val_acc = val_a\n",
    "            best_cost = val_c\n",
    "            count = 0\n",
    "            save_path = saver.save(sess, save_path_dir + 'model'+str(model_num)+'.ckpt')\n",
    "\n",
    "        #condition 2: cannot find best condition\n",
    "        #when cost is get worse and worse(10 times), finish learning.\n",
    "        elif count > 10 :\n",
    "            stop_switch = False\n",
    "            print(\"Learning Finished!! \\n\")\n",
    "        \n",
    "        #condition 3: condition is not best, but not yet finish.\n",
    "        else:\n",
    "            count += 1\n",
    "\n",
    "    print(\"Training Accuracy : \", best_train_acc,  \"Validation Accuracy : \", best_val_acc)\n",
    "\n",
    "    saver.restore(sess, save_path)\n",
    "\n",
    "    test_h, test_p, test_a = sess.run([hypothesis, predicted, accuracy],\n",
    "                                      feed_dict={X: test_x, Y: test_y, keep_prob:1.0 , phase:False})\n",
    "    print(\"\\nTest Accuracy: \", test_a)\n",
    "    best_test_acc = test_a\n",
    "\n",
    "\n",
    "    model_num += 1                    \n",
    "    "
   ]
  },
  {
   "cell_type": "code",
   "execution_count": 19,
   "metadata": {},
   "outputs": [
    {
     "name": "stderr",
     "output_type": "stream",
     "text": [
      "C:\\Git\\BDLAB_ML_Library\\lib\\dataProcess.py:117: FutureWarning: Method .as_matrix will be removed in a future version. Use .values instead.\n",
      "  ydata = data.loc[:, key].as_matrix()\n",
      "C:\\Git\\BDLAB_ML_Library\\lib\\dataProcess.py:118: FutureWarning: Method .as_matrix will be removed in a future version. Use .values instead.\n",
      "  xdata = data.iloc[:, x_start:x_end].as_matrix()\n"
     ]
    }
   ],
   "source": [
    "data_x, data_y = dp.divide_xy_test(raw_data, 'result', 1,-3)\n",
    "ids = raw_data['patient']"
   ]
  },
  {
   "cell_type": "code",
   "execution_count": 20,
   "metadata": {},
   "outputs": [
    {
     "name": "stdout",
     "output_type": "stream",
     "text": [
      "INFO:tensorflow:Restoring parameters from ./model0.ckpt\n",
      "Number of Class : 2\n"
     ]
    }
   ],
   "source": [
    "saver = tf.train.Saver()\n",
    "with tf.Session() as sess:\n",
    "    saver.restore(sess, './model0.ckpt')\n",
    "    test_h, test_p = sess.run([hypothesis, predicted], feed_dict={X: data_x, Y: dp.one_hot_encoder(data_y), keep_prob:1.0 , phase:False})"
   ]
  },
  {
   "cell_type": "code",
   "execution_count": 21,
   "metadata": {},
   "outputs": [],
   "source": [
    "dp.prediction_probability(test_h, test_p, data_y, ids)"
   ]
  },
  {
   "cell_type": "code",
   "execution_count": 12,
   "metadata": {
    "scrolled": true
   },
   "outputs": [
    {
     "data": {
      "text/plain": [
       "4408"
      ]
     },
     "execution_count": 12,
     "metadata": {},
     "output_type": "execute_result"
    }
   ],
   "source": [
    "len(test_h)"
   ]
  },
  {
   "cell_type": "code",
   "execution_count": 22,
   "metadata": {},
   "outputs": [
    {
     "data": {
      "text/plain": [
       "9883"
      ]
     },
     "execution_count": 22,
     "metadata": {},
     "output_type": "execute_result"
    }
   ],
   "source": [
    "len(data_y)"
   ]
  },
  {
   "cell_type": "code",
   "execution_count": 23,
   "metadata": {},
   "outputs": [
    {
     "data": {
      "text/plain": [
       "9883"
      ]
     },
     "execution_count": 23,
     "metadata": {},
     "output_type": "execute_result"
    }
   ],
   "source": [
    "len(ids)"
   ]
  },
  {
   "cell_type": "code",
   "execution_count": 24,
   "metadata": {},
   "outputs": [
    {
     "data": {
      "text/plain": [
       "9883"
      ]
     },
     "execution_count": 24,
     "metadata": {},
     "output_type": "execute_result"
    }
   ],
   "source": [
    "len(test_p)"
   ]
  },
  {
   "cell_type": "code",
   "execution_count": 25,
   "metadata": {},
   "outputs": [
    {
     "data": {
      "text/plain": [
       "array([1, 0, 0, ..., 0, 0, 0], dtype=int64)"
      ]
     },
     "execution_count": 25,
     "metadata": {},
     "output_type": "execute_result"
    }
   ],
   "source": [
    "test_p"
   ]
  },
  {
   "cell_type": "code",
   "execution_count": 26,
   "metadata": {},
   "outputs": [
    {
     "data": {
      "text/plain": [
       "array([[3.2725313e-03, 9.9672747e-01],\n",
       "       [7.2946763e-01, 2.7053237e-01],\n",
       "       [9.9924636e-01, 7.5364835e-04],\n",
       "       ...,\n",
       "       [9.9945074e-01, 5.4927211e-04],\n",
       "       [9.9957663e-01, 4.2333794e-04],\n",
       "       [9.9833894e-01, 1.6610039e-03]], dtype=float32)"
      ]
     },
     "execution_count": 26,
     "metadata": {},
     "output_type": "execute_result"
    }
   ],
   "source": [
    "test_h"
   ]
  },
  {
   "cell_type": "code",
   "execution_count": 28,
   "metadata": {},
   "outputs": [
    {
     "data": {
      "text/plain": [
       "array([1, 0, 0, ..., 0, 0, 0], dtype=int64)"
      ]
     },
     "execution_count": 28,
     "metadata": {},
     "output_type": "execute_result"
    }
   ],
   "source": []
  }
 ],
 "metadata": {
  "kernelspec": {
   "display_name": "Python 3",
   "language": "python",
   "name": "python3"
  },
  "language_info": {
   "codemirror_mode": {
    "name": "ipython",
    "version": 3
   },
   "file_extension": ".py",
   "mimetype": "text/x-python",
   "name": "python",
   "nbconvert_exporter": "python",
   "pygments_lexer": "ipython3",
   "version": "3.5.4"
  }
 },
 "nbformat": 4,
 "nbformat_minor": 2
}
