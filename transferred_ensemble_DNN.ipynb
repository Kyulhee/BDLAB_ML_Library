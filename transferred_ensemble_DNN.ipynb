{
 "cells": [
  {
   "cell_type": "markdown",
   "metadata": {},
   "source": [
    "## Importing Library"
   ]
  },
  {
   "cell_type": "code",
   "execution_count": null,
   "metadata": {},
   "outputs": [],
   "source": [
    "# prediction\n",
    "def check_correct(predict, y):\n",
    "    result = {}\n",
    "    result['cancer-correct'] = 0\n",
    "    result['cancer-wrong'] = 0\n",
    "    result['normal-correct'] = 0\n",
    "    result['normal-wrong'] = 0\n",
    "\n",
    "    for i in range(len(predict)) :\n",
    "        if predict[i] == y[i] :\n",
    "            if y[i] == 0 :\n",
    "                result['normal-correct'] += 1\n",
    "            else :\n",
    "                result['cancer-correct'] += 1\n",
    "        else :\n",
    "            if y[i] == 0 :\n",
    "                result['normal-wrong'] += 1\n",
    "            else :\n",
    "                result['cancer-wrong'] += 1\n",
    "\n",
    "    for result_k, result_v in result.items():\n",
    "        print(result_k +\" : \"+ str(result_v))\n",
    "    sensitivity=result['cancer-correct']/(result['cancer-correct']+result['cancer-wrong'])\n",
    "    specificity=result['normal-correct']/(result['normal-correct']+result['normal-wrong'])\n",
    "    print(\"Sensitivity :\", sensitivity)\n",
    "    print(\"Specificity :\", specificity)\n",
    "    return sensitivity, specificity\n",
    "\n",
    "# TensorFlow and tf.keras\n",
    "import tensorflow as tf\n",
    "from tensorflow import keras\n",
    "from keras import backend as K\n",
    "from keras.models import Sequential \n",
    "from keras.layers import Dropout\n",
    "from keras.callbacks import EarlyStopping\n",
    "early_stopping = EarlyStopping(patience=20)\n",
    "\n",
    "# Helper libraries\n",
    "import numpy as np\n",
    "import pandas as pd\n",
    "import matplotlib.pyplot as plt\n",
    "from sklearn.model_selection import train_test_split\n",
    "\n",
    "print(tf.__version__)"
   ]
  },
  {
   "cell_type": "markdown",
   "metadata": {},
   "source": [
    "## Import Data"
   ]
  },
  {
   "cell_type": "code",
   "execution_count": 92,
   "metadata": {},
   "outputs": [
    {
     "name": "stdout",
     "output_type": "stream",
     "text": [
      "[1] file_name:  C://test/TCGA_with_GEO/TCGA_with_GEO_input_ensemble_VAR_3000.csv \n",
      "sample : 26248  \n",
      "features : 3003\n",
      "[2] file_name:  C://test/TCGA_with_GEO/TCGA_with_GEO_input_ensemble_CV_3000.csv \n",
      "sample : 26248  \n",
      "features : 3003\n",
      "[3] file_name:  C://test/TCGA_with_GEO/TCGA_with_GEO_input_ensemble_foundation_308.csv \n",
      "sample : 26248  \n",
      "features : 311\n"
     ]
    },
    {
     "data": {
      "text/plain": [
       "'\\nprint(\"[4] file_name: \", file_4, \"\\nsample : {}  \\nfeatures : {}\".format(sample_4,features_4))\\nprint(\"[5] file_name: \", file_5, \"\\nsample : {}  \\nfeatures : {}\".format(sample_5,features_5))\\nprint(\"[6] file_name: \", file_6, \"\\nsample : {}  \\nfeatures : {}\".format(sample_6,features_6))\\n'"
      ]
     },
     "execution_count": 92,
     "metadata": {},
     "output_type": "execute_result"
    }
   ],
   "source": [
    "path = \"C://test/TCGA_with_GEO/\"\n",
    "types = [\"TCGA_with_GEO_input_ensemble_CV_3000\", \"TCGA_with_GEO_input_ensemble_foundation_308\",\n",
    "         \"TCGA_with_GEO_input_ensemble_foundation_2267\", \"TCGA_with_GEO_input_ensemble_Mean_3000\",\n",
    "         \"TCGA_with_GEO_input_ensemble_VAR_3000\"\n",
    "         ]\n",
    "idx_col = 0"
   ]
  },
  {
   "cell_type": "code",
   "execution_count": null,
   "metadata": {},
   "outputs": [],
   "source": [
    "file_1 = path+types[4]+\".csv\"\n",
    "data_1 = pd.read_csv(file_1,index_col=idx_col)\n",
    "sample_1,features_1 = data_1.shape\n",
    "print(\"[1] file_name: \", file_1, \"\\nsample : {}  \\nfeatures : {}\".format(sample_1,features_1))\n",
    "data_1.iloc[0:5, 0:5]"
   ]
  },
  {
   "cell_type": "code",
   "execution_count": null,
   "metadata": {},
   "outputs": [],
   "source": [
    "file_2 = path+types[0]+\".csv\"\n",
    "data_2 = pd.read_csv(file_2,index_col=idx_col)\n",
    "sample_2,features_2 = data_2.shape\n",
    "print(\"[2] file_name: \", file_2, \"\\nsample : {}  \\nfeatures : {}\".format(sample_2,features_2))\n",
    "data_2.iloc[0:5, 0:5]"
   ]
  },
  {
   "cell_type": "code",
   "execution_count": null,
   "metadata": {},
   "outputs": [],
   "source": [
    "file_3 = path+types[1]+\".csv\"\n",
    "data_3 = pd.read_csv(file_3,index_col=idx_col)\n",
    "sample_3,features_3 = data_3.shape\n",
    "print(\"[3] file_name: \", file_3, \"\\nsample : {}  \\nfeatures : {}\".format(sample_3,features_3))\n",
    "data_1.iloc[0:5, 0:5]"
   ]
  },
  {
   "cell_type": "markdown",
   "metadata": {},
   "source": [
    "## Split Train Test Data"
   ]
  },
  {
   "cell_type": "code",
   "execution_count": 94,
   "metadata": {},
   "outputs": [],
   "source": [
    "train_p_ids = list(pd.read_csv(path+\"Train_14_index.csv\").x)\n",
    "test_p_ids = list(pd.read_csv(path+\"Test_14_index.csv\").x)"
   ]
  },
  {
   "cell_type": "code",
   "execution_count": 95,
   "metadata": {},
   "outputs": [],
   "source": [
    "train_data_1 = data_1.iloc[train_p_ids]\n",
    "test_data_1 = data_1.iloc[test_p_ids]\n",
    "y_val_1 = train_data_1.result\n",
    "x_val_1 = train_data_1.drop([\"cancer_code\",\"result\",\"index\"],axis=1)\n",
    "test_y_val_1 = test_data_1.result\n",
    "test_x_val_1 = test_data_1.drop([\"cancer_code\",\"result\",\"index\"],axis=1)"
   ]
  },
  {
   "cell_type": "code",
   "execution_count": 96,
   "metadata": {},
   "outputs": [],
   "source": [
    "train_data_2 = data_2.iloc[train_p_ids]\n",
    "test_data_2 = data_2.iloc[test_p_ids]\n",
    "y_val_2 = train_data_2.result\n",
    "x_val_2 = train_data_2.drop([\"cancer_code\",\"result\",\"index\"],axis=1)\n",
    "test_y_val_2 = test_data_2.result\n",
    "test_x_val_2 = test_data_2.drop([\"cancer_code\",\"result\",\"index\"],axis=1)"
   ]
  },
  {
   "cell_type": "code",
   "execution_count": 97,
   "metadata": {},
   "outputs": [],
   "source": [
    "train_data_3 = data_3.iloc[train_p_ids]\n",
    "test_data_3 = data_3.iloc[test_p_ids]\n",
    "y_val_3 = train_data_3.result\n",
    "x_val_3 = train_data_3.drop([\"cancer_code\",\"result\",\"index\"],axis=1)\n",
    "test_y_val_3 = test_data_3.result\n",
    "test_x_val_3 = test_data_3.drop([\"cancer_code\",\"result\",\"index\"],axis=1)"
   ]
  },
  {
   "cell_type": "markdown",
   "metadata": {},
   "source": [
    "## Modeling Seperate Model"
   ]
  },
  {
   "cell_type": "markdown",
   "metadata": {},
   "source": [
    "###  Building seperate model for ensemble(model 1, 2, 3)"
   ]
  },
  {
   "cell_type": "code",
   "execution_count": 98,
   "metadata": {},
   "outputs": [
    {
     "data": {
      "text/plain": [
       "\"\\nm1 = Sequential()\\nm1.add(Dense(features_1-2, input_dim = sample_1 * (features_1-2), activation='relu', init='glorot_uniform'))\\nm1.add(Dropout(0.5))\\nm1.add(Dense(150, activation='relu'))\\nm1.add(Dropout(0.5))\\nm1.add(Dense(200, activation='relu'))\\nm1.add(Dropout(0.5))\\nm1.add(Dense(300, activation='relu'))\\nm1.add(Dropout(0.5))\\nm1.add(Dense(150, activation='relu'))\\nm1.add(Dropout(0.5))\\nm1.add(Dense(1, activation='sigmoid'))\\n\\nprint(features_1-3, features_2-3, features_3-3)\\n\""
      ]
     },
     "execution_count": 98,
     "metadata": {},
     "output_type": "execute_result"
    }
   ],
   "source": [
    "from keras.layers import Input, Dense\n",
    "from keras.models import Model\n",
    "keep_prob = 0.5"
   ]
  },
  {
   "cell_type": "code",
   "execution_count": 99,
   "metadata": {
    "scrolled": true
   },
   "outputs": [
    {
     "name": "stdout",
     "output_type": "stream",
     "text": [
      "Epoch 1/30\n",
      "13123/13123 [==============================] - 79s 6ms/step - loss: 0.7975 - acc: 0.5169\n",
      "Epoch 2/30\n",
      "   96/13123 [..............................] - ETA: 25s - loss: 0.6706 - acc: 0.5521"
     ]
    },
    {
     "name": "stderr",
     "output_type": "stream",
     "text": [
      "c:\\users\\hgh97\\appdata\\local\\programs\\python\\python35\\lib\\site-packages\\keras\\callbacks.py:535: RuntimeWarning: Early stopping conditioned on metric `val_loss` which is not available. Available metrics are: loss,acc\n",
      "  (self.monitor, ','.join(list(logs.keys()))), RuntimeWarning\n"
     ]
    },
    {
     "name": "stdout",
     "output_type": "stream",
     "text": [
      "13123/13123 [==============================] - 26s 2ms/step - loss: 0.3727 - acc: 0.8414\n",
      "Epoch 3/30\n",
      "13123/13123 [==============================] - 23s 2ms/step - loss: 0.2392 - acc: 0.9089\n",
      "Epoch 4/30\n",
      "13123/13123 [==============================] - 23s 2ms/step - loss: 0.2161 - acc: 0.9172\n",
      "Epoch 5/30\n",
      "13123/13123 [==============================] - 22s 2ms/step - loss: 0.1973 - acc: 0.9233\n",
      "Epoch 6/30\n",
      "13123/13123 [==============================] - 22s 2ms/step - loss: 0.1879 - acc: 0.9313\n",
      "Epoch 7/30\n",
      "13123/13123 [==============================] - 22s 2ms/step - loss: 0.1837 - acc: 0.9309\n",
      "Epoch 8/30\n",
      "13123/13123 [==============================] - 22s 2ms/step - loss: 0.1685 - acc: 0.9374\n",
      "Epoch 9/30\n",
      "13123/13123 [==============================] - 19s 1ms/step - loss: 0.1657 - acc: 0.9398\n",
      "Epoch 10/30\n",
      "13123/13123 [==============================] - 19s 1ms/step - loss: 0.1568 - acc: 0.9409\n",
      "Epoch 11/30\n",
      "13123/13123 [==============================] - 18s 1ms/step - loss: 0.1539 - acc: 0.9403\n",
      "Epoch 12/30\n",
      "13123/13123 [==============================] - 18s 1ms/step - loss: 0.1557 - acc: 0.9426\n",
      "Epoch 13/30\n",
      "13123/13123 [==============================] - 18s 1ms/step - loss: 0.1485 - acc: 0.9414\n",
      "Epoch 14/30\n",
      "13123/13123 [==============================] - 20s 2ms/step - loss: 0.1524 - acc: 0.9425\n",
      "Epoch 15/30\n",
      "13123/13123 [==============================] - 20s 1ms/step - loss: 0.1432 - acc: 0.9464\n",
      "Epoch 16/30\n",
      "13123/13123 [==============================] - 16s 1ms/step - loss: 0.1418 - acc: 0.9470\n",
      "Epoch 17/30\n",
      "13123/13123 [==============================] - 15s 1ms/step - loss: 0.1408 - acc: 0.9454\n",
      "Epoch 18/30\n",
      "13123/13123 [==============================] - 16s 1ms/step - loss: 0.1359 - acc: 0.9482\n",
      "Epoch 19/30\n",
      "13123/13123 [==============================] - 16s 1ms/step - loss: 0.1351 - acc: 0.9490\n",
      "Epoch 20/30\n",
      "13123/13123 [==============================] - 16s 1ms/step - loss: 0.1349 - acc: 0.9509\n",
      "Epoch 21/30\n",
      "13123/13123 [==============================] - 18s 1ms/step - loss: 0.1292 - acc: 0.9537\n",
      "Epoch 22/30\n",
      "13123/13123 [==============================] - 18s 1ms/step - loss: 0.1346 - acc: 0.9531\n",
      "Epoch 23/30\n",
      "13123/13123 [==============================] - 18s 1ms/step - loss: 0.1227 - acc: 0.9531\n",
      "Epoch 24/30\n",
      "13123/13123 [==============================] - 18s 1ms/step - loss: 0.1319 - acc: 0.9536\n",
      "Epoch 25/30\n",
      "13123/13123 [==============================] - 18s 1ms/step - loss: 0.1271 - acc: 0.9547\n",
      "Epoch 26/30\n",
      "13123/13123 [==============================] - 18s 1ms/step - loss: 0.1190 - acc: 0.9580\n",
      "Epoch 27/30\n",
      "13123/13123 [==============================] - 19s 1ms/step - loss: 0.1175 - acc: 0.9555: 1s - loss\n",
      "Epoch 28/30\n",
      "13123/13123 [==============================] - 18s 1ms/step - loss: 0.1241 - acc: 0.9559\n",
      "Epoch 29/30\n",
      "13123/13123 [==============================] - 18s 1ms/step - loss: 0.1258 - acc: 0.9556\n",
      "Epoch 30/30\n",
      "13123/13123 [==============================] - 18s 1ms/step - loss: 0.1241 - acc: 0.9545\n",
      "Model1 saved model to disk\n"
     ]
    },
    {
     "name": "stderr",
     "output_type": "stream",
     "text": [
      "c:\\users\\hgh97\\appdata\\local\\programs\\python\\python35\\lib\\site-packages\\keras\\engine\\saving.py:126: UserWarning: TensorFlow optimizers do not make it possible to access optimizer attributes or optimizer state after instantiation. As a result, we cannot save the optimizer as part of the model save file.You will have to compile your model again after loading it. Prefer using a Keras optimizer instead (see keras.io/optimizers).\n",
      "  'TensorFlow optimizers do not '\n"
     ]
    }
   ],
   "source": [
    "input_m1 = Input(shape=(features_1-3,))\n",
    "Sequential\n",
    "\n",
    "input_drop_m1 = Dropout(keep_prob)(input_m1)\n",
    "h1_m1 = Dense(500,activation='relu')(input_drop_m1)\n",
    "h1_m1 = Dropout(keep_prob)(h1_m1)\n",
    "h2_m1 = Dense(500,activation='relu')(h1_m1)\n",
    "h2_m1 = Dropout(keep_prob)(h2_m1)\n",
    "h3_m1 = Dense(200,activation='relu')(h2_m1) \n",
    "h3_m1 = Dropout(keep_prob)(h3_m1)\n",
    "h4_m1 = Dense(300,activation='relu')(h3_m1) \n",
    "h4_m1 = Dropout(keep_prob)(h4_m1)\n",
    "h5_m1 = Dense(200,activation='relu')(h4_m1) \n",
    "h5_m1 = Dropout(keep_prob)(h5_m1)\n",
    "h6_m1 = Dense(100,activation='relu')(h5_m1) \n",
    "h6_m1 = Dropout(keep_prob)(h6_m1)\n",
    "output_m1 = Dense(1,activation=\"sigmoid\")(h6_m1) \n",
    "model1 = Model(inputs=input_m1,outputs=output_m1)\n",
    "\n",
    "model1.compile(optimizer=tf.train.AdamOptimizer(), \n",
    "              loss='binary_crossentropy',\n",
    "              metrics=['accuracy'])\n",
    "\n",
    "model1.fit(x_val_1, y_val_1, epochs=30, callbacks=[early_stopping])\n",
    "\n",
    "model1.save(\"DNN_model_1.h5\")\n",
    "print(\"Model1 saved model to disk\")\n",
    "print(\"[1] file_name: \", file_1, \"\\nsample : {}  \\nfeatures : {}\".format(sample_1,features_1))"
   ]
  },
  {
   "cell_type": "code",
   "execution_count": 100,
   "metadata": {
    "scrolled": true
   },
   "outputs": [
    {
     "name": "stdout",
     "output_type": "stream",
     "text": [
      "Epoch 1/25\n",
      "13123/13123 [==============================] - 25s 2ms/step - loss: 0.7278 - acc: 0.5864\n",
      "Epoch 2/25\n",
      "   96/13123 [..............................] - ETA: 20s - loss: 0.3698 - acc: 0.8542"
     ]
    },
    {
     "name": "stderr",
     "output_type": "stream",
     "text": [
      "c:\\users\\hgh97\\appdata\\local\\programs\\python\\python35\\lib\\site-packages\\keras\\callbacks.py:535: RuntimeWarning: Early stopping conditioned on metric `val_loss` which is not available. Available metrics are: loss,acc\n",
      "  (self.monitor, ','.join(list(logs.keys()))), RuntimeWarning\n"
     ]
    },
    {
     "name": "stdout",
     "output_type": "stream",
     "text": [
      "13123/13123 [==============================] - 17s 1ms/step - loss: 0.2880 - acc: 0.8866\n",
      "Epoch 3/25\n",
      "13123/13123 [==============================] - 17s 1ms/step - loss: 0.2242 - acc: 0.9169\n",
      "Epoch 4/25\n",
      "13123/13123 [==============================] - 19s 1ms/step - loss: 0.1896 - acc: 0.9241: 2s -\n",
      "Epoch 5/25\n",
      "13123/13123 [==============================] - 21s 2ms/step - loss: 0.1828 - acc: 0.9329\n",
      "Epoch 6/25\n",
      "13123/13123 [==============================] - 18s 1ms/step - loss: 0.1596 - acc: 0.9429\n",
      "Epoch 7/25\n",
      "13123/13123 [==============================] - 18s 1ms/step - loss: 0.1589 - acc: 0.9422\n",
      "Epoch 8/25\n",
      "13123/13123 [==============================] - 18s 1ms/step - loss: 0.1474 - acc: 0.9464: 1s - loss: 0.1\n",
      "Epoch 9/25\n",
      "13123/13123 [==============================] - 17s 1ms/step - loss: 0.1452 - acc: 0.9467\n",
      "Epoch 10/25\n",
      "13123/13123 [==============================] - 17s 1ms/step - loss: 0.1344 - acc: 0.9473\n",
      "Epoch 11/25\n",
      "13123/13123 [==============================] - 17s 1ms/step - loss: 0.1364 - acc: 0.9489\n",
      "Epoch 12/25\n",
      "13123/13123 [==============================] - 17s 1ms/step - loss: 0.1338 - acc: 0.9530\n",
      "Epoch 13/25\n",
      "13123/13123 [==============================] - 17s 1ms/step - loss: 0.1301 - acc: 0.9535\n",
      "Epoch 14/25\n",
      "13123/13123 [==============================] - 17s 1ms/step - loss: 0.1214 - acc: 0.9537\n",
      "Epoch 15/25\n",
      "13123/13123 [==============================] - 17s 1ms/step - loss: 0.1242 - acc: 0.9536\n",
      "Epoch 16/25\n",
      "13123/13123 [==============================] - 17s 1ms/step - loss: 0.1174 - acc: 0.9559\n",
      "Epoch 17/25\n",
      "13123/13123 [==============================] - 21s 2ms/step - loss: 0.1239 - acc: 0.9554 - E\n",
      "Epoch 18/25\n",
      "13123/13123 [==============================] - 22s 2ms/step - loss: 0.1153 - acc: 0.9585\n",
      "Epoch 19/25\n",
      "13123/13123 [==============================] - 19s 1ms/step - loss: 0.1138 - acc: 0.9570\n",
      "Epoch 20/25\n",
      "13123/13123 [==============================] - 18s 1ms/step - loss: 0.1144 - acc: 0.9598\n",
      "Epoch 21/25\n",
      "13123/13123 [==============================] - 19s 1ms/step - loss: 0.1056 - acc: 0.9621\n",
      "Epoch 22/25\n",
      "13123/13123 [==============================] - 19s 1ms/step - loss: 0.1082 - acc: 0.9636\n",
      "Epoch 23/25\n",
      "13123/13123 [==============================] - 17s 1ms/step - loss: 0.1037 - acc: 0.9643\n",
      "Epoch 24/25\n",
      "13123/13123 [==============================] - 18s 1ms/step - loss: 0.1017 - acc: 0.9618\n",
      "Epoch 25/25\n",
      "13123/13123 [==============================] - 21s 2ms/step - loss: 0.1007 - acc: 0.9650: 1s - loss: \n",
      "Model2 saved model to disk\n"
     ]
    },
    {
     "name": "stderr",
     "output_type": "stream",
     "text": [
      "c:\\users\\hgh97\\appdata\\local\\programs\\python\\python35\\lib\\site-packages\\keras\\engine\\saving.py:126: UserWarning: TensorFlow optimizers do not make it possible to access optimizer attributes or optimizer state after instantiation. As a result, we cannot save the optimizer as part of the model save file.You will have to compile your model again after loading it. Prefer using a Keras optimizer instead (see keras.io/optimizers).\n",
      "  'TensorFlow optimizers do not '\n"
     ]
    }
   ],
   "source": [
    "input_m2 = Input(shape=(features_2-3,))\n",
    "input_drop_m2 = Dropout(keep_prob)(input_m2)\n",
    "h1_m2 = Dense(500,activation='relu')(input_drop_m2)\n",
    "h1_m2 = Dropout(keep_prob)(h1_m2)\n",
    "h2_m2 = Dense(500,activation='relu')(h1_m2)\n",
    "h2_m2 = Dropout(keep_prob)(h2_m2)\n",
    "h3_m2 = Dense(200,activation='relu')(h2_m2) \n",
    "h3_m2 = Dropout(keep_prob)(h3_m2)\n",
    "h4_m2 = Dense(300,activation='relu')(h3_m2) \n",
    "h4_m2 = Dropout(keep_prob)(h4_m2)\n",
    "h5_m2 = Dense(200,activation='relu')(h4_m2) \n",
    "h5_m2 = Dropout(keep_prob)(h5_m2)\n",
    "h6_m2 = Dense(100,activation='relu')(h5_m2) \n",
    "h6_m2 = Dropout(keep_prob)(h6_m2)\n",
    "output_m2 = Dense(1,activation=\"sigmoid\")(h6_m2) \n",
    "model2 = Model(inputs=input_m2,outputs=output_m2)\n",
    "\n",
    "model2.compile(optimizer=tf.train.AdamOptimizer(), \n",
    "              loss='binary_crossentropy',\n",
    "              metrics=['accuracy'])\n",
    "\n",
    "model2.fit(x_val_2, y_val_2, epochs=25, callbacks=[early_stopping])\n",
    "\n",
    "model2.save(\"DNN_model_2.h5\")\n",
    "print(\"Model2 saved model to disk\")\n",
    "print(\"[2] file_name: \", file_2, \"\\nsample : {}  \\nfeatures : {}\".format(sample_2,features_2))"
   ]
  },
  {
   "cell_type": "code",
   "execution_count": 101,
   "metadata": {},
   "outputs": [
    {
     "name": "stdout",
     "output_type": "stream",
     "text": [
      "Epoch 1/21\n",
      "13123/13123 [==============================] - 12s 945us/step - loss: 0.7279 - acc: 0.5169\n",
      "Epoch 2/21\n",
      "  288/13123 [..............................] - ETA: 9s - loss: 0.6544 - acc: 0.5938 "
     ]
    },
    {
     "name": "stderr",
     "output_type": "stream",
     "text": [
      "c:\\users\\hgh97\\appdata\\local\\programs\\python\\python35\\lib\\site-packages\\keras\\callbacks.py:535: RuntimeWarning: Early stopping conditioned on metric `val_loss` which is not available. Available metrics are: loss,acc\n",
      "  (self.monitor, ','.join(list(logs.keys()))), RuntimeWarning\n"
     ]
    },
    {
     "name": "stdout",
     "output_type": "stream",
     "text": [
      "13123/13123 [==============================] - 10s 748us/step - loss: 0.4446 - acc: 0.8004\n",
      "Epoch 3/21\n",
      "13123/13123 [==============================] - 10s 747us/step - loss: 0.3580 - acc: 0.8571\n",
      "Epoch 4/21\n",
      "13123/13123 [==============================] - 10s 741us/step - loss: 0.3254 - acc: 0.8638\n",
      "Epoch 5/21\n",
      "13123/13123 [==============================] - 10s 730us/step - loss: 0.3038 - acc: 0.8781\n",
      "Epoch 6/21\n",
      "13123/13123 [==============================] - 10s 741us/step - loss: 0.2931 - acc: 0.8798\n",
      "Epoch 7/21\n",
      "13123/13123 [==============================] - 9s 677us/step - loss: 0.2806 - acc: 0.8842\n",
      "Epoch 8/21\n",
      "13123/13123 [==============================] - 9s 700us/step - loss: 0.2843 - acc: 0.8846\n",
      "Epoch 9/21\n",
      "13123/13123 [==============================] - 10s 766us/step - loss: 0.2822 - acc: 0.8897\n",
      "Epoch 10/21\n",
      "13123/13123 [==============================] - 11s 808us/step - loss: 0.2746 - acc: 0.8903\n",
      "Epoch 11/21\n",
      "13123/13123 [==============================] - 9s 719us/step - loss: 0.2715 - acc: 0.8939\n",
      "Epoch 12/21\n",
      "13123/13123 [==============================] - 9s 696us/step - loss: 0.2539 - acc: 0.8977\n",
      "Epoch 13/21\n",
      "13123/13123 [==============================] - 9s 702us/step - loss: 0.2530 - acc: 0.8971\n",
      "Epoch 14/21\n",
      "13123/13123 [==============================] - 9s 701us/step - loss: 0.2522 - acc: 0.9008\n",
      "Epoch 15/21\n",
      "13123/13123 [==============================] - 10s 760us/step - loss: 0.2475 - acc: 0.89934 - E\n",
      "Epoch 16/21\n",
      "13123/13123 [==============================] - 9s 713us/step - loss: 0.2427 - acc: 0.9055\n",
      "Epoch 17/21\n",
      "13123/13123 [==============================] - 10s 789us/step - loss: 0.2452 - acc: 0.9060\n",
      "Epoch 18/21\n",
      "13123/13123 [==============================] - 10s 776us/step - loss: 0.2421 - acc: 0.9056\n",
      "Epoch 19/21\n",
      "13123/13123 [==============================] - 9s 702us/step - loss: 0.2447 - acc: 0.9054 2s - loss: 0.2 - ETA: 1s - \n",
      "Epoch 20/21\n",
      "13123/13123 [==============================] - 9s 708us/step - loss: 0.2304 - acc: 0.9096 0s - loss: 0.23\n",
      "Epoch 21/21\n",
      "13123/13123 [==============================] - 10s 727us/step - loss: 0.2391 - acc: 0.9090\n",
      "Model3 saved model to disk\n"
     ]
    },
    {
     "name": "stderr",
     "output_type": "stream",
     "text": [
      "c:\\users\\hgh97\\appdata\\local\\programs\\python\\python35\\lib\\site-packages\\keras\\engine\\saving.py:126: UserWarning: TensorFlow optimizers do not make it possible to access optimizer attributes or optimizer state after instantiation. As a result, we cannot save the optimizer as part of the model save file.You will have to compile your model again after loading it. Prefer using a Keras optimizer instead (see keras.io/optimizers).\n",
      "  'TensorFlow optimizers do not '\n"
     ]
    }
   ],
   "source": [
    "input_m3 = Input(shape=(features_3-3,))\n",
    "input_drop_m3 = Dropout(keep_prob)(input_m3)\n",
    "h1_m3 = Dense(500,activation='relu')(input_drop_m3)\n",
    "h1_m3 = Dropout(keep_prob)(h1_m3)\n",
    "h2_m3 = Dense(500,activation='relu')(h1_m3)\n",
    "h2_m3 = Dropout(keep_prob)(h2_m3)\n",
    "h3_m3 = Dense(200,activation='relu')(h2_m3) \n",
    "h3_m3 = Dropout(keep_prob)(h3_m3)\n",
    "h4_m3 = Dense(300,activation='relu')(h3_m3) \n",
    "h4_m3 = Dropout(keep_prob)(h4_m3)\n",
    "h5_m3 = Dense(200,activation='relu')(h4_m3) \n",
    "h5_m3 = Dropout(keep_prob)(h5_m3)\n",
    "h6_m3 = Dense(100,activation='relu')(h5_m3) \n",
    "h6_m3 = Dropout(keep_prob)(h6_m3)\n",
    "output_m3 = Dense(1,activation=\"sigmoid\")(h6_m3) \n",
    "model3 = Model(inputs=input_m3,outputs=output_m3)\n",
    "\n",
    "model3.compile(optimizer=tf.train.AdamOptimizer(), \n",
    "              loss='binary_crossentropy',\n",
    "              metrics=['accuracy'])\n",
    "\n",
    "model3.fit(x_val_3, y_val_3, epochs=21, callbacks=[early_stopping])\n",
    "\n",
    "model3.save(\"DNN_model_3.h5\")\n",
    "print(\"Model3 saved model to disk\")\n",
    "print(\"[3] file_name: \", file_3, \"\\nsample : {}  \\nfeatures : {}\".format(sample_3,features_3))"
   ]
  },
  {
   "cell_type": "markdown",
   "metadata": {},
   "source": [
    "### Evaluating seperate model's performance"
   ]
  },
  {
   "cell_type": "code",
   "execution_count": 102,
   "metadata": {},
   "outputs": [
    {
     "name": "stdout",
     "output_type": "stream",
     "text": [
      "13123/13123 [==============================] - 7s 544us/step\n",
      "13123/13123 [==============================] - 7s 509us/step\n",
      "13123/13123 [==============================] - 4s 292us/step\n",
      "13125/13125 [==============================] - 24s 2ms/step\n",
      "13125/13125 [==============================] - 26s 2ms/step\n",
      "13125/13125 [==============================] - 4s 269us/step\n",
      "C://test/TCGA_with_GEO/TCGA_with_GEO_input_ensemble_VAR_3000.csv C://test/TCGA_with_GEO/TCGA_with_GEO_input_ensemble_CV_3000.csv C://test/TCGA_with_GEO/TCGA_with_GEO_input_ensemble_foundation_308.csv\n",
      "\n",
      "Train Accuracy for model 1, 2, 3 : 0.9742436942772232,0.985826411643679,0.946887144707765\n",
      "\n",
      "Test Accuracy for model 1, 2, 3 : 0.9636571428571429,0.971047619047619,0.9372952380952381\n"
     ]
    }
   ],
   "source": [
    "#model1_new=loaded_model1\n",
    "#model1_new.compile(optimizer=tf.train.AdamOptimizer(), \n",
    "#              loss='binary_crossentropy',\n",
    "#              metrics=['accuracy'])\n",
    "\n",
    "m1_tr_loss,m1_tr_accuracy=model1.evaluate(x_val_1,y_val_1)\n",
    "m2_tr_loss,m2_tr_accuracy=model2.evaluate(x_val_2,y_val_2)\n",
    "m3_tr_loss,m3_tr_accuracy=model3.evaluate(x_val_3,y_val_3)\n",
    "\n",
    "m1_loss,m1_accuracy= model1.evaluate(test_x_val_1,test_y_val_1)\n",
    "m2_loss,m2_accuracy= model2.evaluate(test_x_val_2,test_y_val_2)\n",
    "m3_loss,m3_accuracy= model3.evaluate(test_x_val_3,test_y_val_3)\n",
    "\n",
    "#m1_tr_loss_new,m1_tr_accuracy_new=model1_new.evaluate(x_val_1,y_val_1)\n",
    "#m1_loss_new,m1_accuracy_new= model1_new.evaluate(test_x_val_1,test_y_val_1)\n",
    "\n",
    "print(file_1,file_2,file_3)\n",
    "print(\"\\nTrain Accuracy for model 1, 2, 3 : {},{},{}\".format(m1_tr_accuracy,m2_tr_accuracy,m3_tr_accuracy))\n",
    "print(\"\\nTest Accuracy for model 1, 2, 3 : {},{},{}\".format(m1_accuracy,m2_accuracy,m3_accuracy))"
   ]
  },
  {
   "cell_type": "markdown",
   "metadata": {},
   "source": [
    "## Modeling Ensemble model"
   ]
  },
  {
   "cell_type": "markdown",
   "metadata": {},
   "source": [
    "### Building original ensemble model"
   ]
  },
  {
   "cell_type": "code",
   "execution_count": 103,
   "metadata": {},
   "outputs": [
    {
     "name": "stdout",
     "output_type": "stream",
     "text": [
      "Epoch 1/5\n",
      "13123/13123 [==============================]13123/13123 [==============================] - 32s 2ms/step - loss: 0.1254 - acc: 0.9726\n",
      "\n",
      "Epoch 2/5\n",
      "13123/13123 [==============================]13123/13123 [==============================] - 27s 2ms/step - loss: 0.0481 - acc: 0.9818\n",
      "\n",
      "Epoch 3/5\n",
      "13123/13123 [==============================]13123/13123 [==============================] - 29s 2ms/step - loss: 0.0436 - acc: 0.9845\n",
      "\n",
      "Epoch 4/5\n",
      "13123/13123 [==============================]13123/13123 [==============================] - 30s 2ms/step - loss: 0.0415 - acc: 0.9848\n",
      "\n",
      "Epoch 5/5\n",
      "13123/13123 [==============================]13123/13123 [==============================] - 35s 3ms/step - loss: 0.0407 - acc: 0.9844\n",
      "\n"
     ]
    },
    {
     "data": {
      "text/plain": [
       "<tensorflow.python.keras._impl.keras.callbacks.History at 0x1d595409518>"
      ]
     },
     "execution_count": 103,
     "metadata": {},
     "output_type": "execute_result"
    }
   ],
   "source": [
    "m1_predictions = model1.predict(x_val_1)\n",
    "m2_predictions = model2.predict(x_val_2)\n",
    "m3_predictions = model3.predict(x_val_3)\n",
    "\n",
    "ensemble_x_val = np.concatenate([m1_predictions, m2_predictions, m3_predictions], axis=1)\n",
    "\n",
    "ensemble_model = keras.Sequential([\n",
    "    keras.layers.Dense(3,input_shape=(3,),name=\"input_layer\"),\n",
    "    keras.layers.Dense(2,activation=\"relu\"),        \n",
    "    keras.layers.Dense(1,activation='sigmoid',name=\"output_layer\")])\n",
    "\n",
    "ensemble_model.compile(optimizer=tf.train.AdamOptimizer(), \n",
    "              loss='binary_crossentropy',\n",
    "              metrics=['accuracy'])\n",
    "\n",
    "ensemble_model.fit(ensemble_x_val, y_val_1, epochs=5, batch_size= 1)\n",
    "\n",
    "ensemble_model.save(\"ensemble_DNN.h5\")"
   ]
  },
  {
   "cell_type": "code",
   "execution_count": 112,
   "metadata": {},
   "outputs": [
    {
     "name": "stdout",
     "output_type": "stream",
     "text": [
      "WARNING:tensorflow:TensorFlow optimizers do not make it possible to access optimizer attributes or optimizer state after instantiation. As a result, we cannot save the optimizer as part of the model save file.You will have to compile your model again after loading it. Prefer using a Keras optimizer instead (see keras.io/optimizers).\n"
     ]
    }
   ],
   "source": [
    "ensemble_model.save(\"ensemble_DNN.h5\")"
   ]
  },
  {
   "cell_type": "markdown",
   "metadata": {},
   "source": [
    "### Evaluating _DNN Combiner_ ensemble model"
   ]
  },
  {
   "cell_type": "code",
   "execution_count": 104,
   "metadata": {},
   "outputs": [
    {
     "name": "stdout",
     "output_type": "stream",
     "text": [
      "13125/13125 [==============================]13125/13125 [==============================] - 1s 96us/step\n",
      "\n",
      "Accuracy for DNN combiner ensemble : 0.9702095238095239\n"
     ]
    }
   ],
   "source": [
    "m1_test_predictions = model1.predict(test_x_val_1)\n",
    "m2_test_predictions = model2.predict(test_x_val_2)\n",
    "m3_test_predictions = model3.predict(test_x_val_3)\n",
    "\n",
    "ensemble_test_x_val = np.concatenate([m1_test_predictions, m2_test_predictions, m3_test_predictions], axis=1)\n",
    "\n",
    "em_loss,em_accuracy= ensemble_model.evaluate(ensemble_test_x_val,test_y_val_1)\n",
    "\n",
    "print(\"Accuracy for DNN combiner ensemble : {}\".format(em_accuracy))"
   ]
  },
  {
   "cell_type": "markdown",
   "metadata": {},
   "source": [
    "### Evaluating _mean_ ensemble model"
   ]
  },
  {
   "cell_type": "code",
   "execution_count": 105,
   "metadata": {},
   "outputs": [
    {
     "name": "stdout",
     "output_type": "stream",
     "text": [
      "Accuracy for mean ensemble : 0.9701333333333333\n"
     ]
    }
   ],
   "source": [
    "mean_predictions=(m1_test_predictions+m2_test_predictions+m3_test_predictions)/3\n",
    "labled_predictions = np.where(mean_predictions > 0.5, 1, 0).flatten()\n",
    "mean_em_accuracy = sum(labled_predictions==test_y_val_1.values)/len(test_y_val_1)\n",
    "\n",
    "print(\"Accuracy for mean ensemble : {}\".format(mean_em_accuracy))"
   ]
  },
  {
   "cell_type": "markdown",
   "metadata": {},
   "source": [
    "## Transferred Ensemble Modeling "
   ]
  },
  {
   "cell_type": "markdown",
   "metadata": {},
   "source": [
    "### Making new input data for t-ensemble"
   ]
  },
  {
   "cell_type": "code",
   "execution_count": 106,
   "metadata": {},
   "outputs": [
    {
     "name": "stdout",
     "output_type": "stream",
     "text": [
      "(13123, 300)\n"
     ]
    }
   ],
   "source": [
    "from keras.models import Model\n",
    "model = Model(inputs=[input_m1], outputs=[h6_m1])\n",
    "results_m1 = model.predict([x_val_1])\n",
    "\n",
    "model = Model(inputs=[input_m2], outputs=[h6_m2])\n",
    "results_m2 = model.predict([x_val_2])\n",
    "\n",
    "model = Model(inputs=[input_m3], outputs=[h6_m3])\n",
    "results_m3 = model.predict([x_val_3])\n",
    "\n",
    "t_ensemble_x_val = np.concatenate([results_m1, results_m2, results_m3], axis=1)\n",
    "print(t_ensemble_x_val.shape)"
   ]
  },
  {
   "cell_type": "markdown",
   "metadata": {},
   "source": [
    "### Modeling t-ensemble  "
   ]
  },
  {
   "cell_type": "code",
   "execution_count": 107,
   "metadata": {},
   "outputs": [
    {
     "name": "stdout",
     "output_type": "stream",
     "text": [
      "Epoch 1/2\n",
      "13123/13123 [==============================] - 9s 648us/step - loss: 0.0586 - acc: 0.9841\n",
      "Epoch 2/2\n",
      "13123/13123 [==============================] - 7s 515us/step - loss: 0.0351 - acc: 0.9874\n"
     ]
    },
    {
     "data": {
      "text/plain": [
       "<keras.callbacks.History at 0x1d58d3165f8>"
      ]
     },
     "execution_count": 107,
     "metadata": {},
     "output_type": "execute_result"
    }
   ],
   "source": [
    "t_ensemble_input = Input(shape=(t_ensemble_x_val.shape[1],))\n",
    "t_ensemble_h1 = Dense(20,activation='relu')(t_ensemble_input)\n",
    "t_ensemble_h2 = Dense(10,activation='relu')(t_ensemble_h1)\n",
    "t_ensemble_h3 = Dense(5,activation='relu')(t_ensemble_h2)\n",
    "t_ensemble_output = Dense(1,activation='sigmoid')(t_ensemble_h3)\n",
    "\n",
    "t_ensemble_model = Model(inputs=[t_ensemble_input],outputs=[t_ensemble_output])\n",
    "t_ensemble_model.compile(optimizer=tf.train.AdamOptimizer(), \n",
    "              loss='binary_crossentropy',\n",
    "              metrics=['accuracy'])\n",
    "\n",
    "t_ensemble_model.fit(t_ensemble_x_val, y_val_1, epochs=2,batch_size=5)"
   ]
  },
  {
   "cell_type": "markdown",
   "metadata": {},
   "source": [
    "### Evaluating t-ensemble"
   ]
  },
  {
   "cell_type": "code",
   "execution_count": 108,
   "metadata": {},
   "outputs": [
    {
     "name": "stdout",
     "output_type": "stream",
     "text": [
      "13125/13125 [==============================] - 2s 137us/step\n",
      "\n",
      "Accuracy for t-ensemble:  0.9731809523809524\n"
     ]
    }
   ],
   "source": [
    "model = Model(inputs=[input_m1], outputs=[h6_m1])\n",
    "test_results_m1 = model.predict([test_x_val_1])\n",
    "model = Model(inputs=[input_m2], outputs=[h6_m2])\n",
    "test_results_m2 = model.predict([test_x_val_2])\n",
    "model = Model(inputs=[input_m3], outputs=[h6_m3])\n",
    "test_results_m3 = model.predict([test_x_val_3])\n",
    "\n",
    "t_ensemble_test_x_val = np.concatenate([test_results_m1, test_results_m2, test_results_m3], axis=1)\n",
    "t_em_accuracy = t_ensemble_model.evaluate(t_ensemble_test_x_val,test_y_val_1)[1]\n",
    "print(\"\\nAccuracy for t-ensemble: \",t_em_accuracy )"
   ]
  },
  {
   "cell_type": "markdown",
   "metadata": {},
   "source": [
    "## Performance Comparison"
   ]
  },
  {
   "cell_type": "code",
   "execution_count": 109,
   "metadata": {},
   "outputs": [
    {
     "name": "stdout",
     "output_type": "stream",
     "text": [
      "model1: 0.9636571428571429\n",
      "model2: 0.971047619047619\n",
      "model3: 0.9372952380952381\n",
      "mean-em: 0.9701333333333333\n",
      "d-comb em: 0.9702095238095239\n",
      "t-em: 0.9731809523809524\n"
     ]
    }
   ],
   "source": [
    "label = [\"model1\",\"model2\",\"model3\",\"mean-em\",\"d-comb em\",\"t-em\"]\n",
    "accuracy = [m1_accuracy,m2_accuracy,m3_accuracy,mean_em_accuracy,em_accuracy,t_em_accuracy ]\n",
    "print(\"model1: \"+str(accuracy[0])+\"\\nmodel2: \"+str(accuracy[1])+\"\\nmodel3: \"+str(accuracy[2])+\"\\nmean-em: \"+str(accuracy[3])+\"\\nd-comb em: \"+str(accuracy[4])+\"\\nt-em: \"+str(accuracy[5]))"
   ]
  },
  {
   "cell_type": "code",
   "execution_count": 110,
   "metadata": {},
   "outputs": [],
   "source": [
    "def plot_bar_x():\n",
    "    # this is for plotting purpose\n",
    "    plt.figure(figsize=(30,20))\n",
    "    axes = plt.gca()\n",
    "    axes.set_ylim([min(m1_accuracy,m2_accuracy,m3_accuracy,mean_em_accuracy,em_accuracy,t_em_accuracy)-0.02,1])\n",
    "    index = np.arange(len(label))\n",
    "    plt.bar(index, accuracy,color=['red', 'orange', 'yellow', \"green\",'blue', 'purple',],alpha=0.5,width=0.3)\n",
    "    plt.xlabel('Method', fontsize=35)\n",
    "    plt.ylabel('Accuracy', fontsize=35)\n",
    "    plt.yticks(fontsize=30)    \n",
    "    plt.xticks(index, label, fontsize=30, rotation=90)\n",
    "    plt.title('Performance Comparison for each Ensemble Model',fontsize=40)\n",
    "    plt.show()"
   ]
  },
  {
   "cell_type": "code",
   "execution_count": 111,
   "metadata": {
    "scrolled": true
   },
   "outputs": [
    {
     "data": {
      "image/png": "[encoded data removed]",
      "text/plain": [
       "<Figure size 2160x1440 with 1 Axes>"
      ]
     },
     "metadata": {},
     "output_type": "display_data"
    }
   ],
   "source": [
    "plot_bar_x()"
   ]
  },
  {
   "cell_type": "code",
   "execution_count": null,
   "metadata": {},
   "outputs": [],
   "source": []
  },
  {
   "cell_type": "code",
   "execution_count": null,
   "metadata": {},
   "outputs": [],
   "source": []
  }
 ],
 "metadata": {
  "kernelspec": {
   "display_name": "Python 3",
   "language": "python",
   "name": "python3"
  },
  "language_info": {
   "codemirror_mode": {
    "name": "ipython",
    "version": 3
   },
   "file_extension": ".py",
   "mimetype": "text/x-python",
   "name": "python",
   "nbconvert_exporter": "python",
   "pygments_lexer": "ipython3",
   "version": "3.5.4"
  }
 },
 "nbformat": 4,
 "nbformat_minor": 2
}
