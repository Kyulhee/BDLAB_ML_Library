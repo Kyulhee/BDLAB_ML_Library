{
 "cells": [
  {
   "cell_type": "code",
   "execution_count": 4,
   "metadata": {},
   "outputs": [],
   "source": [
    "import six.moves.cPickle as pickle\n",
    "import gzip\n",
    "import os\n",
    "import numpy as np\n",
    "import numpy.linalg as lin\n",
    "import scipy.misc\n",
    "from __future__ import division"
   ]
  },
  {
   "cell_type": "code",
   "execution_count": 5,
   "metadata": {},
   "outputs": [],
   "source": [
    "def load_data(dataset):\n",
    "    ''' Loads the dataset\n",
    "\n",
    "    :type dataset: string\n",
    "    :param dataset: the path to the dataset (here MNIST)\n",
    "    \n",
    "    copied from http://deeplearning.net/ and revised by hchoi\n",
    "    '''\n",
    "    # Download the MNIST dataset if it is not present\n",
    "    data_dir, data_file = os.path.split(dataset)\n",
    "    if data_dir == \"\" and not os.path.isfile(dataset):\n",
    "        # Check if dataset is in the data directory.\n",
    "        new_path = os.path.join(\n",
    "            os.path.split(__file__)[0],\n",
    "            dataset\n",
    "        )\n",
    "        if os.path.isfile(new_path) or data_file == 'mnist.pkl.gz':\n",
    "            dataset = new_path\n",
    "\n",
    "    if (not os.path.isfile(dataset)) and data_file == 'mnist.pkl.gz':\n",
    "        from six.moves import urllib\n",
    "        origin = (\n",
    "            'http://www.iro.umontreal.ca/~lisa/deep/data/mnist/mnist.pkl.gz'\n",
    "        )\n",
    "        print('Downloading data from %s' % origin)\n",
    "        urllib.request.urlretrieve(origin, dataset)\n",
    "\n",
    "    print('... loading data')\n",
    "\n",
    "    # Load the dataset\n",
    "    with gzip.open(dataset, 'rb') as f:\n",
    "        try:\n",
    "            train_set, valid_set, test_set = pickle.load(f, encoding='latin1')\n",
    "        except:\n",
    "            train_set, valid_set, test_set = pickle.load(f)\n",
    "    # train_set, valid_set, test_set format: tuple(input, target)\n",
    "    # input is a numpy.ndarray of 2 dimensions (a matrix)\n",
    "    # where each row corresponds to an example. target is a\n",
    "    # numpy.ndarray of 1 dimension (vector) that has the same length as\n",
    "    # the number of rows in the input. It should give the target\n",
    "    # to the example with the same index in the input.\n",
    "\n",
    "    return train_set, valid_set, test_set"
   ]
  },
  {
   "cell_type": "code",
   "execution_count": 6,
   "metadata": {},
   "outputs": [
    {
     "name": "stdout",
     "output_type": "stream",
     "text": [
      "... loading data\n",
      "(50000, 784)\n",
      "(50000,)\n"
     ]
    }
   ],
   "source": [
    "train_set, val_set, test_set = load_data('C:/test/mnist.pkl.gz')\n",
    "\n",
    "train_x, train_y = train_set\n",
    "val_x, val_y = val_set\n",
    "test_x, test_y = test_set\n",
    "\n",
    "print(train_x.shape) # 50k * 784\n",
    "print(train_y.shape) # 50k\n",
    "\n",
    "'''\n",
    "for i in range(100):\n",
    "    samp_img = train_x[i].reshape((28, 28))\n",
    "    scipy.misc.imsave('test'+str(i)+'.jpg', samp_img)\n",
    "    print(train_y[i])\n",
    "'''        \n",
    "\n",
    "save_path = \"G:/내 드라이브/Class/8th/ML\\HW1/\""
   ]
  },
  {
   "cell_type": "code",
   "execution_count": 21,
   "metadata": {},
   "outputs": [],
   "source": [
    "X = train_x"
   ]
  },
  {
   "cell_type": "code",
   "execution_count": 25,
   "metadata": {},
   "outputs": [],
   "source": [
    "mu = X.mean(0) \n",
    "C = np.cov(X - mu, rowvar=False) \n",
    "d, u = np.linalg.eigh(C) \n",
    "U = u.T[::-1] \n",
    "Z = np.dot(X - mu, U[:2].T) "
   ]
  },
  {
   "cell_type": "code",
   "execution_count": 26,
   "metadata": {},
   "outputs": [
    {
     "data": {
      "text/plain": [
       "array([-0.46150962, -1.24686457])"
      ]
     },
     "execution_count": 26,
     "metadata": {},
     "output_type": "execute_result"
    }
   ],
   "source": [
    "Z[0]"
   ]
  },
  {
   "cell_type": "code",
   "execution_count": 29,
   "metadata": {},
   "outputs": [
    {
     "name": "stderr",
     "output_type": "stream",
     "text": [
      "c:\\users\\hgh97\\appdata\\local\\programs\\python\\python35\\lib\\site-packages\\ipykernel_launcher.py:3: DeprecationWarning: `imsave` is deprecated!\n",
      "`imsave` is deprecated in SciPy 1.0.0, and will be removed in 1.2.0.\n",
      "Use ``imageio.imwrite`` instead.\n",
      "  This is separate from the ipykernel package so we can avoid doing imports until\n"
     ]
    }
   ],
   "source": [
    "for i in range(5):\n",
    "    eig_img = U[i].reshape((28,28)) #(28, 28)\n",
    "    scipy.misc.imsave(save_path+'train_eig'+str(i)+'.jpg', eig_img)"
   ]
  },
  {
   "cell_type": "code",
   "execution_count": 61,
   "metadata": {},
   "outputs": [
    {
     "data": {
      "text/plain": [
       "28"
      ]
     },
     "execution_count": 61,
     "metadata": {},
     "output_type": "execute_result"
    }
   ],
   "source": [
    "len(eig_sam[1][5])"
   ]
  },
  {
   "cell_type": "code",
   "execution_count": 28,
   "metadata": {},
   "outputs": [
    {
     "data": {
      "text/plain": [
       "28"
      ]
     },
     "execution_count": 28,
     "metadata": {},
     "output_type": "execute_result"
    }
   ],
   "source": [
    "len(eig_sam[1])"
   ]
  },
  {
   "cell_type": "code",
   "execution_count": 9,
   "metadata": {},
   "outputs": [],
   "source": [
    "#for saving memory\n",
    "val_x, val_y, val_set = None, None, None\n",
    "test_x, test_y, test_set = None, None, None"
   ]
  },
  {
   "cell_type": "code",
   "execution_count": 5,
   "metadata": {},
   "outputs": [
    {
     "name": "stderr",
     "output_type": "stream",
     "text": [
      "c:\\users\\hgh97\\appdata\\local\\programs\\python\\python35\\lib\\site-packages\\ipykernel_launcher.py:3: DeprecationWarning: `imsave` is deprecated!\n",
      "`imsave` is deprecated in SciPy 1.0.0, and will be removed in 1.2.0.\n",
      "Use ``imageio.imwrite`` instead.\n",
      "  This is separate from the ipykernel package so we can avoid doing imports until\n"
     ]
    }
   ],
   "source": [
    "mean_img = train_x.mean(axis=0) # (784, )\n",
    "mean_img = mean_img.reshape((28,28)) #(28, 28)\n",
    "scipy.misc.imsave(save_path+'train_mean.jpg', mean_img)"
   ]
  },
  {
   "cell_type": "code",
   "execution_count": 6,
   "metadata": {},
   "outputs": [
    {
     "name": "stderr",
     "output_type": "stream",
     "text": [
      "c:\\users\\hgh97\\appdata\\local\\programs\\python\\python35\\lib\\site-packages\\ipykernel_launcher.py:3: DeprecationWarning: `imsave` is deprecated!\n",
      "`imsave` is deprecated in SciPy 1.0.0, and will be removed in 1.2.0.\n",
      "Use ``imageio.imwrite`` instead.\n",
      "  This is separate from the ipykernel package so we can avoid doing imports until\n"
     ]
    }
   ],
   "source": [
    "var_img = train_x.var(axis=0)\n",
    "var_img = var_img.reshape((28,28)) #(28, 28)\n",
    "scipy.misc.imsave(save_path+'train_var.jpg', var_img)"
   ]
  },
  {
   "cell_type": "code",
   "execution_count": 35,
   "metadata": {},
   "outputs": [],
   "source": [
    "train_x_T = np.transpose(train_x[0:500])\n",
    "train_x_dot = np.matmul(train_x[0:500], train_x_T)"
   ]
  },
  {
   "cell_type": "code",
   "execution_count": 36,
   "metadata": {},
   "outputs": [
    {
     "name": "stdout",
     "output_type": "stream",
     "text": [
      "(50000, 784)\n",
      "(784, 500)\n"
     ]
    }
   ],
   "source": [
    "print(train_x.shape)\n",
    "print(train_x_T.shape)"
   ]
  },
  {
   "cell_type": "code",
   "execution_count": 37,
   "metadata": {},
   "outputs": [],
   "source": [
    "train_x, train_x_t =  None, None"
   ]
  },
  {
   "cell_type": "code",
   "execution_count": 38,
   "metadata": {},
   "outputs": [],
   "source": [
    "train_x_cov = train_x_dot / 500"
   ]
  },
  {
   "cell_type": "code",
   "execution_count": 39,
   "metadata": {},
   "outputs": [],
   "source": [
    "train_x_dot =  None"
   ]
  },
  {
   "cell_type": "code",
   "execution_count": 40,
   "metadata": {},
   "outputs": [],
   "source": [
    "eig_vec = lin.eig(train_x_cov)\n",
    "eig_val = lin.eigvals(train_x_cov)"
   ]
  },
  {
   "cell_type": "code",
   "execution_count": 43,
   "metadata": {},
   "outputs": [
    {
     "data": {
      "text/plain": [
       "array([3.55697975e+01, 4.72890902e+00, 3.94693971e+00, 3.15523076e+00,\n",
       "       2.74155164e+00, 2.52714396e+00, 2.23953390e+00, 1.59169424e+00,\n",
       "       1.51188898e+00, 1.20584548e+00, 1.18909943e+00, 1.06221390e+00,\n",
       "       9.51241314e-01, 8.80155981e-01, 8.25557470e-01, 7.71274388e-01,\n",
       "       7.13400722e-01, 6.82198644e-01, 5.93703270e-01, 5.59066057e-01,\n",
       "       5.47208428e-01, 5.14329314e-01, 4.99071568e-01, 4.65490401e-01,\n",
       "       4.33863342e-01, 4.21382815e-01, 4.15956587e-01, 3.89826715e-01,\n",
       "       3.63606572e-01, 3.59291524e-01, 3.34873170e-01, 3.25867206e-01,\n",
       "       3.09210032e-01, 2.84510553e-01, 2.78044760e-01, 2.62870401e-01,\n",
       "       2.58007020e-01, 2.47590944e-01, 2.31585070e-01, 2.28125781e-01,\n",
       "       2.12058336e-01, 2.09989399e-01, 2.05978841e-01, 2.01669902e-01,\n",
       "       1.97041109e-01, 1.83932647e-01, 1.78997800e-01, 1.75045386e-01,\n",
       "       1.68066144e-01, 1.62381753e-01, 1.55145317e-01, 1.51516095e-01,\n",
       "       1.42961800e-01, 1.39363125e-01, 1.35088027e-01, 1.31155178e-01,\n",
       "       1.26917869e-01, 1.25766456e-01, 1.17321461e-01, 1.16886102e-01,\n",
       "       1.09930687e-01, 1.08166821e-01, 1.07338972e-01, 1.01888500e-01,\n",
       "       1.00339890e-01, 9.91261080e-02, 9.53912288e-02, 9.30929035e-02,\n",
       "       9.03589725e-02, 8.83316323e-02, 8.69437009e-02, 8.47192407e-02,\n",
       "       8.30492675e-02, 8.10533613e-02, 7.41727948e-02, 7.82158896e-02,\n",
       "       7.73349181e-02, 7.66456053e-02, 7.23093078e-02, 7.03789070e-02,\n",
       "       7.00595230e-02, 6.54443875e-02, 6.44418374e-02, 6.16303869e-02,\n",
       "       6.12685867e-02, 5.99705242e-02, 5.97078428e-02, 5.92185296e-02,\n",
       "       5.70946001e-02, 5.60316779e-02, 5.46316579e-02, 5.43673486e-02,\n",
       "       5.24519198e-02, 5.18058799e-02, 5.00914752e-02, 4.92545590e-02,\n",
       "       4.79292050e-02, 4.75909561e-02, 4.61472049e-02, 4.56635952e-02,\n",
       "       4.49688733e-02, 4.33772989e-02, 4.26707193e-02, 4.20998633e-02,\n",
       "       4.10455205e-02, 4.06759083e-02, 4.04555127e-02, 3.98446694e-02,\n",
       "       3.84537950e-02, 3.82872485e-02, 3.68448496e-02, 3.65644060e-02,\n",
       "       3.58139426e-02, 3.49513963e-02, 3.44166122e-02, 3.38893123e-02,\n",
       "       3.36117074e-02, 3.32992524e-02, 3.24732251e-02, 3.07231806e-02,\n",
       "       3.18563171e-02, 3.14939581e-02, 3.14511210e-02, 2.95809079e-02,\n",
       "       2.93174814e-02, 2.85688974e-02, 2.81312522e-02, 2.79579498e-02,\n",
       "       2.71348786e-02, 2.70081833e-02, 2.68397126e-02, 2.60801204e-02,\n",
       "       2.57166922e-02, 2.51074880e-02, 2.47443952e-02, 2.44857445e-02,\n",
       "       2.44067945e-02, 2.35110000e-02, 2.34291460e-02, 2.31696740e-02,\n",
       "       2.29255427e-02, 2.23955624e-02, 2.19063926e-02, 2.14454811e-02,\n",
       "       2.13156119e-02, 2.11238880e-02, 2.09949110e-02, 2.09237356e-02,\n",
       "       2.02890374e-02, 2.01418325e-02, 1.98230222e-02, 1.94321871e-02,\n",
       "       1.93639901e-02, 1.91798732e-02, 1.75484512e-02, 1.86982732e-02,\n",
       "       1.84735730e-02, 1.83424465e-02, 1.82218812e-02, 1.80065464e-02,\n",
       "       1.75112709e-02, 1.72117278e-02, 1.69100612e-02, 1.66672282e-02,\n",
       "       1.63373407e-02, 1.61153097e-02, 1.59096476e-02, 1.56786144e-02,\n",
       "       1.54747870e-02, 1.53786000e-02, 1.50843356e-02, 1.49430856e-02,\n",
       "       1.47544108e-02, 1.46197528e-02, 1.45154065e-02, 1.42411198e-02,\n",
       "       1.41065018e-02, 1.37976473e-02, 1.34531911e-02, 1.33887138e-02,\n",
       "       1.33033181e-02, 1.29582416e-02, 1.27929924e-02, 1.26986569e-02,\n",
       "       1.26398653e-02, 1.24480193e-02, 1.23576568e-02, 1.17361387e-02,\n",
       "       1.21760741e-02, 1.19196735e-02, 1.20148845e-02, 1.20338723e-02,\n",
       "       1.15849515e-02, 1.14729945e-02, 1.11875264e-02, 1.11644305e-02,\n",
       "       1.10435002e-02, 1.09612150e-02, 1.09386016e-02, 1.05714807e-02,\n",
       "       1.04694441e-02, 1.03270514e-02, 1.01922033e-02, 1.00378934e-02,\n",
       "       9.99393687e-03, 9.90315899e-03, 9.70279519e-03, 9.59996972e-03,\n",
       "       9.54097323e-03, 9.44826659e-03, 9.21195932e-03, 9.22898762e-03,\n",
       "       9.09739081e-03, 9.01822001e-03, 8.79461318e-03, 8.72116536e-03,\n",
       "       7.64018297e-03, 8.55437666e-03, 8.51891097e-03, 8.40717647e-03,\n",
       "       7.81507976e-03, 8.30135401e-03, 7.98900425e-03, 8.06014519e-03,\n",
       "       8.12407862e-03, 7.72325881e-03, 7.50976568e-03, 7.41022686e-03,\n",
       "       7.37890415e-03, 7.25899404e-03, 7.16933468e-03, 7.06610410e-03,\n",
       "       4.86748619e-03, 6.86502829e-03, 6.85328525e-03, 6.81255665e-03,\n",
       "       6.76704478e-03, 6.71997992e-03, 4.93454840e-03, 5.00460761e-03,\n",
       "       5.02184499e-03, 5.09267021e-03, 5.15464460e-03, 5.21487882e-03,\n",
       "       6.56005461e-03, 5.36015723e-03, 5.43899788e-03, 5.48957195e-03,\n",
       "       5.53373573e-03, 5.59824705e-03, 5.57397446e-03, 6.35003764e-03,\n",
       "       6.28320966e-03, 6.25533983e-03, 5.83428331e-03, 5.86907146e-03,\n",
       "       6.13892591e-03, 6.01427956e-03, 6.00473769e-03, 6.51806314e-03,\n",
       "       6.51536509e-03, 4.47905622e-03, 4.52578487e-03, 4.63375868e-03,\n",
       "       4.67389449e-03, 4.70972480e-03, 4.74908948e-03, 4.41767881e-03,\n",
       "       4.04542219e-03, 4.09550080e-03, 4.12302418e-03, 4.17629955e-03,\n",
       "       4.24787635e-03, 4.30771848e-03, 4.29355819e-03, 3.89276911e-03,\n",
       "       3.83689045e-03, 3.81315802e-03, 3.47162806e-03, 3.75674549e-03,\n",
       "       3.69887194e-03, 3.64231784e-03, 3.53613286e-03, 3.56290257e-03,\n",
       "       3.55041353e-03, 3.42986640e-03, 3.41362180e-03, 2.91347294e-03,\n",
       "       3.32657411e-03, 2.96703423e-03, 3.24998051e-03, 3.23300622e-03,\n",
       "       3.19252792e-03, 3.15788272e-03, 3.09732975e-03, 3.08264070e-03,\n",
       "       3.04656522e-03, 2.87847780e-03, 2.84457626e-03, 2.78958259e-03,\n",
       "       2.73934403e-03, 2.66824500e-03, 2.64756801e-03, 2.61626672e-03,\n",
       "       2.58942950e-03, 2.55755009e-03, 2.22815224e-03, 2.25211377e-03,\n",
       "       2.46892357e-03, 2.41985824e-03, 2.30882713e-03, 2.36117188e-03,\n",
       "       2.34506489e-03, 2.48944783e-03, 2.19016033e-03, 2.12126714e-03,\n",
       "       2.08138465e-03, 2.09747232e-03, 2.06343993e-03, 2.03121128e-03,\n",
       "       2.00904440e-03, 1.98847754e-03, 1.96475280e-03, 1.93493266e-03,\n",
       "       1.89626066e-03, 1.90745434e-03, 1.31661014e-03, 1.34781189e-03,\n",
       "       1.37407659e-03, 1.40878989e-03, 1.47531950e-03, 1.45900215e-03,\n",
       "       1.53417245e-03, 1.55931374e-03, 1.60437345e-03, 1.82845944e-03,\n",
       "       1.63062324e-03, 1.65603415e-03, 1.69562048e-03, 1.67500076e-03,\n",
       "       1.75772689e-03, 1.79657852e-03, 1.78727624e-03, 1.78056245e-03,\n",
       "       1.44509820e-03, 1.29311241e-03, 1.28289126e-03, 1.25910877e-03,\n",
       "       1.24768843e-03, 1.22674042e-03, 1.20927300e-03, 1.18367455e-03,\n",
       "       1.14801072e-03, 1.12605619e-03, 7.98807479e-04, 1.09681522e-03,\n",
       "       8.12894024e-04, 8.21258524e-04, 8.37829488e-04, 8.51345598e-04,\n",
       "       8.76719423e-04, 8.81910732e-04, 9.00783460e-04, 9.23989923e-04,\n",
       "       1.07695046e-03, 1.05399324e-03, 1.02485309e-03, 1.01058919e-03,\n",
       "       9.95778479e-04, 9.83342412e-04, 9.60647245e-04, 6.79391553e-04,\n",
       "       6.85127743e-04, 7.16221461e-04, 7.31441658e-04, 7.51989835e-04,\n",
       "       7.60916329e-04, 7.70732004e-04, 6.56724966e-04, 5.39480418e-04,\n",
       "       6.36206241e-04, 5.55869250e-04, 6.23030181e-04, 6.10266812e-04,\n",
       "       6.06126443e-04, 5.76762890e-04, 5.81415778e-04, 5.23649156e-04,\n",
       "       5.12351748e-04, 5.00515336e-04, 4.94641834e-04, 4.74591419e-04,\n",
       "       4.71645035e-04, 4.55403468e-04, 4.44242120e-04, 4.39759140e-04,\n",
       "       4.29053005e-04, 4.00909776e-04, 3.33925796e-04, 3.47129069e-04,\n",
       "       3.85698047e-04, 3.83817853e-04, 3.57717217e-04, 3.69285466e-04,\n",
       "       3.67037923e-04, 3.15001991e-04, 3.18276609e-04, 3.09944531e-04,\n",
       "       3.01844877e-04, 2.94044614e-04, 2.85296439e-04, 2.80161825e-04,\n",
       "       2.70344608e-04, 2.56924191e-04, 2.53264792e-04, 2.47746240e-04,\n",
       "       2.38813634e-04, 2.27992452e-04, 2.23075214e-04, 2.17670749e-04,\n",
       "       2.13339081e-04, 2.04741751e-04, 1.98225971e-04, 1.29616616e-04,\n",
       "       1.87820056e-04, 1.86803867e-04, 1.80155665e-04, 1.78061382e-04,\n",
       "       1.67415288e-04, 1.71911859e-04, 1.39428957e-04, 1.42906152e-04,\n",
       "       1.47085942e-04, 1.52620254e-04, 1.53247922e-04, 1.24085927e-04,\n",
       "       1.15161201e-04, 1.17270356e-04, 1.12585854e-04, 1.07555941e-04,\n",
       "       9.75352232e-05, 1.03160171e-04, 9.31008180e-05, 8.78344872e-05,\n",
       "       8.57504419e-05, 7.90273189e-05, 7.72517451e-05, 7.26836879e-05,\n",
       "       7.04808917e-05, 6.84266997e-05, 6.44808024e-05, 7.22076438e-05,\n",
       "       5.03863248e-07, 6.66526944e-07, 5.94351477e-05, 5.64137845e-05,\n",
       "       5.46495685e-05, 5.07796140e-05, 4.56909838e-05, 4.73156542e-05,\n",
       "       4.16538205e-05, 2.13020649e-05, 2.34243071e-05, 2.61372461e-05,\n",
       "       3.07644732e-05, 3.17347040e-05, 3.95565439e-05, 3.84212253e-05,\n",
       "       3.75048876e-05, 3.64738407e-05, 3.53045543e-05, 2.74881204e-05,\n",
       "       2.47752087e-05, 2.03336058e-05, 1.87320493e-05, 1.77126731e-05,\n",
       "       1.70325038e-05, 1.40466818e-05, 1.26308914e-05, 1.22098891e-05,\n",
       "       1.09029015e-05, 1.12481612e-05, 8.67357176e-06, 8.24447670e-06,\n",
       "       7.97110715e-06, 7.29938074e-06, 6.07894299e-06, 9.98687597e-07,\n",
       "       8.56610882e-07, 5.26469285e-06, 1.60796810e-06, 1.74198874e-06,\n",
       "       1.97161398e-06, 2.41729481e-06, 4.82038149e-06, 2.86817908e-06,\n",
       "       3.81623931e-06, 3.70400835e-06, 3.48208596e-06, 3.38879022e-06],\n",
       "      dtype=float32)"
      ]
     },
     "execution_count": 43,
     "metadata": {},
     "output_type": "execute_result"
    }
   ],
   "source": [
    "eig_val"
   ]
  },
  {
   "cell_type": "code",
   "execution_count": 55,
   "metadata": {},
   "outputs": [
    {
     "data": {
      "text/plain": [
       "(array([2., 7.]), array([[-0.70710678, -0.5547002 ],\n",
       "        [ 0.70710678, -0.83205029]]))"
      ]
     },
     "execution_count": 55,
     "metadata": {},
     "output_type": "execute_result"
    }
   ],
   "source": [
    "X = [[4,2],[3,5]]\n",
    "lin.eig(X)"
   ]
  },
  {
   "cell_type": "code",
   "execution_count": 49,
   "metadata": {},
   "outputs": [
    {
     "data": {
      "text/plain": [
       "array([[1.5, 1.3, 1.2],\n",
       "       [1. , 2.5, 3. ]])"
      ]
     },
     "execution_count": 49,
     "metadata": {},
     "output_type": "execute_result"
    }
   ],
   "source": [
    "x = np.array([1.5,1.3,1.2])\n",
    "y = np.array([1, 2.5, 3])\n",
    "X = np.vstack([x, y])\n",
    "X"
   ]
  },
  {
   "cell_type": "code",
   "execution_count": null,
   "metadata": {},
   "outputs": [],
   "source": [
    "#print(train_x)\n",
    "#print(np.sum(train_x <= 0.1))\n",
    "#print(np.sum(train_x >= 0.9))\n",
    "#print(mean_img.shape)\n",
    "\n",
    "\n",
    "# for eigendecomposition \n",
    "# check http://docs.scipy.org/doc/numpy/reference/generated/numpy.linalg.eig.html \n"
   ]
  }
 ],
 "metadata": {
  "kernelspec": {
   "display_name": "Python 3",
   "language": "python",
   "name": "python3"
  },
  "language_info": {
   "codemirror_mode": {
    "name": "ipython",
    "version": 3
   },
   "file_extension": ".py",
   "mimetype": "text/x-python",
   "name": "python",
   "nbconvert_exporter": "python",
   "pygments_lexer": "ipython3",
   "version": "3.5.4"
  }
 },
 "nbformat": 4,
 "nbformat_minor": 2
}
