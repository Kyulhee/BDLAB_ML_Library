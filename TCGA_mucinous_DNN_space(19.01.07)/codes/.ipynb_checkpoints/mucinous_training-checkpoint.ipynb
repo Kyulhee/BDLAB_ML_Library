{
 "cells": [
  {
   "cell_type": "markdown",
   "metadata": {},
   "source": [
    "# 0. Importing packages & Defining methods"
   ]
  },
  {
   "cell_type": "markdown",
   "metadata": {},
   "source": [
    "## 1) Importing packages"
   ]
  },
  {
   "cell_type": "code",
   "execution_count": 6,
   "metadata": {},
   "outputs": [],
   "source": [
    "from keras.layers import Input, Dense    #using set model component\n",
    "from keras.models import Model    #using set model \n",
    "from keras.utils import plot_model    #show model structure\n",
    "from keras import layers as Layer\n",
    "import keras \n",
    "from lib import dataProcess as dp\n",
    "import pandas as pd\n",
    "from pandas import DataFrame as df\n",
    "from keras.callbacks import EarlyStopping\n",
    "import pydot\n",
    "# prediction\n"
   ]
  },
  {
   "cell_type": "markdown",
   "metadata": {},
   "source": [
    "## 2) Defining methods"
   ]
  },
  {
   "cell_type": "code",
   "execution_count": 7,
   "metadata": {},
   "outputs": [],
   "source": [
    "def check_correct(predict, y):\n",
    "    result = {}\n",
    "    result['resistant-correct'] = 0\n",
    "    result['resistant-wrong'] = 0\n",
    "    result['sensitive-correct'] = 0\n",
    "    result['sensitive-wrong'] = 0\n",
    "\n",
    "    for i in range(len(predict)) :\n",
    "        if predict[i] == y[i] :\n",
    "            if y[i] == 0 :\n",
    "                result['sensitive-correct'] += 1\n",
    "            else :\n",
    "                result['resistant-correct'] += 1\n",
    "        else :\n",
    "            if y[i] == 0 :\n",
    "                result['sensitive-wrong'] += 1\n",
    "            else :\n",
    "                result['resistant-wrong'] += 1\n",
    "\n",
    "    #for result_k, result_v in result.items():\n",
    "    #    print(result_k +\" : \"+ str(result_v))\n",
    "    sensitivity=result['resistant-correct']/(result['resistant-correct']+result['resistant-wrong'])\n",
    "    specificity=result['sensitive-correct']/(result['sensitive-correct']+result['sensitive-wrong'])\n",
    "    #print(\"Sensitivity :\", sensitivity)\n",
    "    #print(\"Specificity :\", specificity)\n",
    "    return sensitivity, specificity\n"
   ]
  },
  {
   "cell_type": "markdown",
   "metadata": {},
   "source": [
    "# 1. Reading data & Preprocessing"
   ]
  },
  {
   "cell_type": "markdown",
   "metadata": {},
   "source": [
    "## 1) Path selection"
   ]
  },
  {
   "cell_type": "code",
   "execution_count": 48,
   "metadata": {},
   "outputs": [
    {
     "name": "stdout",
     "output_type": "stream",
     "text": [
      "choose the limma_option (1 or 2):\n",
      "[1] before_limma\n",
      "[2] limma\n",
      "2\n",
      "you select limma\n",
      "\n",
      "choose the method (1 or 2):\n",
      "[1] old\n",
      "[2] new\n",
      "1\n",
      "you select old\n",
      "\n",
      "choose the geneset (1 or 2):\n",
      "[1] gene_set1\n",
      "[2] gene_set2\n",
      "1\n",
      "you select gene_set1\n",
      "\n",
      "###################################################################\n",
      "path: ../../Data/old_set/\n",
      "save_model_path: ../models/old_set/\n",
      "save_result_path: ../results/old_set/\n"
     ]
    }
   ],
   "source": [
    "methods = [\"old\", \"new\"]\n",
    "genesets = [\"gene_set1\", \"gene_set2\"]\n",
    "limma_options = [\"before_limma\", \"limma\"]\n",
    "\n",
    "limma_option = limma_options[int(input(\"choose the limma_option (1 or 2):\\n[1] before_limma\\n[2] limma\\n\"))-1]\n",
    "print(\"you select \"+limma_option+\"\\n\")\n",
    "method = methods[int(input(\"choose the method (1 or 2):\\n[1] old\\n[2] new\\n\"))-1]\n",
    "print(\"you select \"+method+\"\\n\")\n",
    "geneset = genesets[int(input(\"choose the geneset (1 or 2):\\n[1] gene_set1\\n[2] gene_set2\\n\"))-1]\n",
    "print(\"you select \"+geneset+\"\\n\")\n",
    "\n",
    "path = \"../../Data/\"+method+\"_set/\"\n",
    "save_model_path = \"../models/\"+method+\"_set/\"\n",
    "save_result_path = \"../results/\"+method+\"_set/\"\n",
    "\n",
    "print(\"###################################################################\")\n",
    "print(\"path: \"+path)\n",
    "print(\"save_model_path: \"+save_model_path)\n",
    "print(\"save_result_path: \"+save_result_path)"
   ]
  },
  {
   "cell_type": "markdown",
   "metadata": {},
   "source": [
    "## 2) Read data files & Dividing into train / test"
   ]
  },
  {
   "cell_type": "code",
   "execution_count": 50,
   "metadata": {
    "scrolled": true
   },
   "outputs": [
    {
     "name": "stderr",
     "output_type": "stream",
     "text": [
      "C:\\test\\mucinous_training\\Space\\codes\\lib\\dataProcess.py:133: FutureWarning: Method .as_matrix will be removed in a future version. Use .values instead.\n",
      "  ydata = data.loc[:, key].as_matrix()\n",
      "C:\\test\\mucinous_training\\Space\\codes\\lib\\dataProcess.py:134: FutureWarning: Method .as_matrix will be removed in a future version. Use .values instead.\n",
      "  xdata = data.iloc[:, x_start:x_end].as_matrix()\n",
      "c:\\users\\hgh97\\appdata\\local\\programs\\python\\python35\\lib\\site-packages\\ipykernel_launcher.py:8: FutureWarning: Method .as_matrix will be removed in a future version. Use .values instead.\n",
      "  \n"
     ]
    }
   ],
   "source": [
    "train_data=pd.read_csv(path+limma_option+\"_TCGA_inter_nonmucinous_\"+method+\"_\"+geneset+\"_data.csv\")\n",
    "test_data=pd.read_csv(path+limma_option+\"_TCGA_inter_mucinous_\"+method+\"_\"+geneset+\"_data.csv\")\n",
    "cli_data=pd.read_csv(path+limma_option+\"_TCGA_inter_clin_\"+method+\"_\"+geneset+\"_data.csv\")\n",
    "\n",
    "#train_data=train_data.sample(frac=1)\n",
    "train_x, train_y = dp.divide_xy_test(train_data, 'result',  1, -1)\n",
    "test_x, test_y=dp.divide_xy_test(test_data, 'result',  1, -1)\n",
    "cli_x = cli_data.iloc[:, 1:].as_matrix()\n",
    "train_y1 = dp.one_hot_encoder_train(train_y)\n",
    "test_y1 = dp.one_hot_encoder_test(train_y,test_y)"
   ]
  },
  {
   "cell_type": "code",
   "execution_count": 30,
   "metadata": {},
   "outputs": [
    {
     "name": "stdout",
     "output_type": "stream",
     "text": [
      "train data: (1452, 1564)\n",
      "test data: (82, 1564)\n",
      "clin data: (1452, 1564)\n"
     ]
    }
   ],
   "source": [
    "print(\"train data: \"+str(train_x.shape))\n",
    "print(\"test data: \"+str(test_x.shape))\n",
    "print(\"clin data: \"+str(cli_x.shape))"
   ]
  },
  {
   "cell_type": "code",
   "execution_count": 52,
   "metadata": {},
   "outputs": [
    {
     "name": "stdout",
     "output_type": "stream",
     "text": [
      "################ input dim is 564 ################\n"
     ]
    }
   ],
   "source": [
    "if train_x.shape[1] == test_x.shape[1] and test_x.shape[1] == cli_x.shape[1]:\n",
    "    input_dim = train_x.shape[1]\n",
    "    print(\"################ input dim is \"+str(input_dim)+\" ################\")\n",
    "else:\n",
    "    print(\"dimensions are not equal. please check your dataset\")"
   ]
  },
  {
   "cell_type": "code",
   "execution_count": 32,
   "metadata": {},
   "outputs": [],
   "source": [
    "#geneset_merged=keras.layers.Input(shape=(input_dim,))"
   ]
  },
  {
   "cell_type": "markdown",
   "metadata": {},
   "source": [
    "# 2. Establishing & training/testing the DNN model"
   ]
  },
  {
   "cell_type": "markdown",
   "metadata": {},
   "source": [
    "## 1) Establishing DNN model"
   ]
  },
  {
   "cell_type": "code",
   "execution_count": 55,
   "metadata": {
    "scrolled": true
   },
   "outputs": [],
   "source": [
    "nodes_list = [[500,300,100]]\n",
    "        \n",
    "input_m = keras.layers.Input(shape=(input_dim,))\n",
    "\n",
    "h1_m3 = keras.layers.Dense(500,activation=\"relu\")(input_m)\n",
    "h1_d = keras.layers.Dropout(0.3,)(h1_m3)\n",
    "h2_m3 = keras.layers.Dense(300,activation=\"relu\")(h1_d)\n",
    "h2_d = keras.layers.Dropout(0.3,)(h2_m3)\n",
    "h3_m3 = keras.layers.Dense(100,activation=\"relu\")(h2_d)\n",
    "h3_d = keras.layers.Dropout(0.3,)(h3_m3)\n",
    "                \n",
    "early_stopping = EarlyStopping(patience = 10)\n"
   ]
  },
  {
   "cell_type": "code",
   "execution_count": 56,
   "metadata": {
    "scrolled": true
   },
   "outputs": [
    {
     "name": "stdout",
     "output_type": "stream",
     "text": [
      "_________________________________________________________________\n",
      "Layer (type)                 Output Shape              Param #   \n",
      "=================================================================\n",
      "input_5 (InputLayer)         (None, 564)               0         \n",
      "_________________________________________________________________\n",
      "dense_13 (Dense)             (None, 500)               282500    \n",
      "_________________________________________________________________\n",
      "dropout_13 (Dropout)         (None, 500)               0         \n",
      "_________________________________________________________________\n",
      "dense_14 (Dense)             (None, 300)               150300    \n",
      "_________________________________________________________________\n",
      "dropout_14 (Dropout)         (None, 300)               0         \n",
      "_________________________________________________________________\n",
      "dense_15 (Dense)             (None, 100)               30100     \n",
      "_________________________________________________________________\n",
      "dropout_15 (Dropout)         (None, 100)               0         \n",
      "_________________________________________________________________\n",
      "predictions (Dense)          (None, 6)                 606       \n",
      "=================================================================\n",
      "Total params: 463,506\n",
      "Trainable params: 463,506\n",
      "Non-trainable params: 0\n",
      "_________________________________________________________________\n"
     ]
    },
    {
     "name": "stderr",
     "output_type": "stream",
     "text": [
      "c:\\users\\hgh97\\appdata\\local\\programs\\python\\python35\\lib\\site-packages\\ipykernel_launcher.py:2: UserWarning: Update your `Model` call to the Keras 2 API: `Model(inputs=Tensor(\"in..., outputs=Tensor(\"pr...)`\n",
      "  \n"
     ]
    }
   ],
   "source": [
    "predictions = Dense(6, activation='softmax', name='predictions')(h3_d)\n",
    "model1 = Model(inputs = input_m, output = predictions)\n",
    "adam = keras.optimizers.Adam()\n",
    "model1.compile(optimizer=adam, loss ='categorical_crossentropy', metrics=['accuracy'])\n",
    "model1.summary()"
   ]
  },
  {
   "cell_type": "markdown",
   "metadata": {},
   "source": [
    "## 2) Training & Testing the DNN model"
   ]
  },
  {
   "cell_type": "code",
   "execution_count": 57,
   "metadata": {},
   "outputs": [
    {
     "name": "stdout",
     "output_type": "stream",
     "text": [
      "Epoch 1/50\n",
      "1452/1452 [==============================] - 1s 955us/step - loss: 0.4471 - acc: 0.8554\n",
      "Epoch 2/50\n",
      " 475/1452 [========>.....................] - ETA: 0s - loss: 0.1645 - acc: 0.9516"
     ]
    },
    {
     "name": "stderr",
     "output_type": "stream",
     "text": [
      "c:\\users\\hgh97\\appdata\\local\\programs\\python\\python35\\lib\\site-packages\\keras\\callbacks.py:535: RuntimeWarning: Early stopping conditioned on metric `val_loss` which is not available. Available metrics are: loss,acc\n",
      "  (self.monitor, ','.join(list(logs.keys()))), RuntimeWarning\n"
     ]
    },
    {
     "name": "stdout",
     "output_type": "stream",
     "text": [
      "1452/1452 [==============================] - 1s 359us/step - loss: 0.1365 - acc: 0.9545\n",
      "Epoch 3/50\n",
      "1452/1452 [==============================] - 1s 365us/step - loss: 0.0805 - acc: 0.9787\n",
      "Epoch 4/50\n",
      "1452/1452 [==============================] - 1s 355us/step - loss: 0.0591 - acc: 0.9793\n",
      "Epoch 5/50\n",
      "1452/1452 [==============================] - 1s 357us/step - loss: 0.0427 - acc: 0.9876\n",
      "Epoch 6/50\n",
      "1452/1452 [==============================] - 1s 354us/step - loss: 0.0325 - acc: 0.9862\n",
      "Epoch 7/50\n",
      "1452/1452 [==============================] - 1s 344us/step - loss: 0.0388 - acc: 0.9855\n",
      "Epoch 8/50\n",
      "1452/1452 [==============================] - 0s 340us/step - loss: 0.0483 - acc: 0.9821\n",
      "Epoch 9/50\n",
      "1452/1452 [==============================] - 1s 355us/step - loss: 0.0231 - acc: 0.9938\n",
      "Epoch 10/50\n",
      "1452/1452 [==============================] - 0s 341us/step - loss: 0.0315 - acc: 0.9876\n",
      "Epoch 11/50\n",
      "1452/1452 [==============================] - 1s 349us/step - loss: 0.0055 - acc: 0.9993\n",
      "Epoch 12/50\n",
      "1452/1452 [==============================] - 1s 360us/step - loss: 0.0031 - acc: 1.0000\n",
      "Epoch 13/50\n",
      "1452/1452 [==============================] - 1s 377us/step - loss: 0.0037 - acc: 0.9993\n",
      "Epoch 14/50\n",
      "1452/1452 [==============================] - 1s 346us/step - loss: 0.0053 - acc: 0.9979\n",
      "Epoch 15/50\n",
      "1452/1452 [==============================] - 1s 354us/step - loss: 0.0118 - acc: 0.9938\n",
      "Epoch 16/50\n",
      "1452/1452 [==============================] - 1s 357us/step - loss: 0.1130 - acc: 0.9752\n",
      "Epoch 17/50\n",
      "1452/1452 [==============================] - 1s 364us/step - loss: 0.0651 - acc: 0.9876\n",
      "Epoch 18/50\n",
      "1452/1452 [==============================] - 1s 375us/step - loss: 0.0251 - acc: 0.9938\n",
      "Epoch 19/50\n",
      "1452/1452 [==============================] - 1s 371us/step - loss: 0.0146 - acc: 0.9966\n",
      "Epoch 20/50\n",
      "1452/1452 [==============================] - 0s 340us/step - loss: 0.0371 - acc: 0.9924\n",
      "Epoch 21/50\n",
      "1452/1452 [==============================] - 1s 370us/step - loss: 0.0166 - acc: 0.9966\n",
      "Epoch 22/50\n",
      "1452/1452 [==============================] - 1s 377us/step - loss: 0.0088 - acc: 0.9959\n",
      "Epoch 23/50\n",
      "1452/1452 [==============================] - 1s 352us/step - loss: 0.0026 - acc: 0.9986\n",
      "Epoch 24/50\n",
      "1452/1452 [==============================] - 1s 346us/step - loss: 0.0066 - acc: 0.9986\n",
      "Epoch 25/50\n",
      "1452/1452 [==============================] - 1s 355us/step - loss: 8.2256e-04 - acc: 1.0000\n",
      "Epoch 26/50\n",
      "1452/1452 [==============================] - 1s 351us/step - loss: 0.0029 - acc: 0.9986\n",
      "Epoch 27/50\n",
      "1452/1452 [==============================] - 1s 344us/step - loss: 0.0022 - acc: 0.9993\n",
      "Epoch 28/50\n",
      "1452/1452 [==============================] - 1s 356us/step - loss: 9.9036e-04 - acc: 0.9993\n",
      "Epoch 29/50\n",
      "1452/1452 [==============================] - 1s 358us/step - loss: 0.0037 - acc: 0.9986\n",
      "Epoch 30/50\n",
      "1452/1452 [==============================] - 1s 364us/step - loss: 0.0012 - acc: 0.9993\n",
      "Epoch 31/50\n",
      "1452/1452 [==============================] - 1s 351us/step - loss: 0.0054 - acc: 0.9986\n",
      "Epoch 32/50\n",
      "1452/1452 [==============================] - 1s 360us/step - loss: 0.0027 - acc: 0.9986\n",
      "Epoch 33/50\n",
      "1452/1452 [==============================] - 1s 350us/step - loss: 0.0014 - acc: 0.9993\n",
      "Epoch 34/50\n",
      "1452/1452 [==============================] - 1s 365us/step - loss: 3.1589e-04 - acc: 1.0000\n",
      "Epoch 35/50\n",
      "1452/1452 [==============================] - 1s 345us/step - loss: 0.0011 - acc: 0.9993\n",
      "Epoch 36/50\n",
      "1452/1452 [==============================] - 1s 362us/step - loss: 0.0083 - acc: 0.9986\n",
      "Epoch 37/50\n",
      "1452/1452 [==============================] - 1s 350us/step - loss: 0.0419 - acc: 0.9910\n",
      "Epoch 38/50\n",
      "1452/1452 [==============================] - 1s 351us/step - loss: 0.0128 - acc: 0.9966\n",
      "Epoch 39/50\n",
      "1452/1452 [==============================] - 1s 366us/step - loss: 0.0046 - acc: 0.9986\n",
      "Epoch 40/50\n",
      "1452/1452 [==============================] - 1s 375us/step - loss: 0.0010 - acc: 1.0000\n",
      "Epoch 41/50\n",
      "1452/1452 [==============================] - 1s 382us/step - loss: 7.0263e-04 - acc: 1.0000\n",
      "Epoch 42/50\n",
      "1452/1452 [==============================] - 1s 360us/step - loss: 2.8311e-04 - acc: 1.0000\n",
      "Epoch 43/50\n",
      "1452/1452 [==============================] - 0s 343us/step - loss: 5.6677e-04 - acc: 1.0000\n",
      "Epoch 44/50\n",
      "1452/1452 [==============================] - 1s 353us/step - loss: 1.7127e-04 - acc: 1.0000\n",
      "Epoch 45/50\n",
      "1452/1452 [==============================] - 1s 351us/step - loss: 0.0023 - acc: 0.9986\n",
      "Epoch 46/50\n",
      "1452/1452 [==============================] - 1s 357us/step - loss: 0.0301 - acc: 0.9945\n",
      "Epoch 47/50\n",
      "1452/1452 [==============================] - 1s 360us/step - loss: 0.0053 - acc: 0.9972\n",
      "Epoch 48/50\n",
      "1452/1452 [==============================] - 1s 369us/step - loss: 0.0165 - acc: 0.9972\n",
      "Epoch 49/50\n",
      "1452/1452 [==============================] - 1s 356us/step - loss: 0.1224 - acc: 0.9848\n",
      "Epoch 50/50\n",
      "1452/1452 [==============================] - 1s 371us/step - loss: 0.0262 - acc: 0.9966\n",
      "[0.80626565, 0.9268293]\n",
      "=============================================Complete Test=================================\n"
     ]
    }
   ],
   "source": [
    "#plot_model(model, to_file='model.png')\n",
    "model1.fit(x=train_x, y=train_y1,callbacks=[early_stopping], epochs = 50,batch_size=25, verbose=0)\n",
    "print(model1.test_on_batch(test_x, test_y1))\n",
    "print(\"=============================================Complete Test=================================\")"
   ]
  },
  {
   "cell_type": "code",
   "execution_count": 36,
   "metadata": {},
   "outputs": [],
   "source": [
    "model1.save(save_model_path+limma_option+method+\"_\"+geneset+\"_model.h5\")"
   ]
  },
  {
   "cell_type": "markdown",
   "metadata": {},
   "source": [
    "## 3) Predict train & test & clinical dataset"
   ]
  },
  {
   "cell_type": "code",
   "execution_count": 51,
   "metadata": {},
   "outputs": [
    {
     "ename": "ValueError",
     "evalue": "Error when checking input: expected input_2 to have shape (1564,) but got array with shape (564,)",
     "output_type": "error",
     "traceback": [
      "\u001b[1;31m---------------------------------------------------------------------------\u001b[0m",
      "\u001b[1;31mValueError\u001b[0m                                Traceback (most recent call last)",
      "\u001b[1;32m<ipython-input-51-f0dc2d0aef4a>\u001b[0m in \u001b[0;36m<module>\u001b[1;34m()\u001b[0m\n\u001b[1;32m----> 1\u001b[1;33m \u001b[0mtrain_h\u001b[0m\u001b[1;33m=\u001b[0m\u001b[0mmodel1\u001b[0m\u001b[1;33m.\u001b[0m\u001b[0mpredict\u001b[0m\u001b[1;33m(\u001b[0m\u001b[0mtrain_x\u001b[0m\u001b[1;33m,\u001b[0m \u001b[0mbatch_size\u001b[0m\u001b[1;33m=\u001b[0m\u001b[1;32mNone\u001b[0m\u001b[1;33m,\u001b[0m \u001b[0mverbose\u001b[0m\u001b[1;33m=\u001b[0m\u001b[1;36m0\u001b[0m\u001b[1;33m,\u001b[0m \u001b[0msteps\u001b[0m\u001b[1;33m=\u001b[0m\u001b[1;32mNone\u001b[0m\u001b[1;33m)\u001b[0m\u001b[1;33m\u001b[0m\u001b[0m\n\u001b[0m\u001b[0;32m      2\u001b[0m \u001b[0mtest_h\u001b[0m\u001b[1;33m=\u001b[0m\u001b[0mmodel1\u001b[0m\u001b[1;33m.\u001b[0m\u001b[0mpredict\u001b[0m\u001b[1;33m(\u001b[0m\u001b[0mtest_x\u001b[0m\u001b[1;33m,\u001b[0m \u001b[0mbatch_size\u001b[0m\u001b[1;33m=\u001b[0m\u001b[1;32mNone\u001b[0m\u001b[1;33m,\u001b[0m \u001b[0mverbose\u001b[0m\u001b[1;33m=\u001b[0m\u001b[1;36m0\u001b[0m\u001b[1;33m,\u001b[0m \u001b[0msteps\u001b[0m\u001b[1;33m=\u001b[0m\u001b[1;32mNone\u001b[0m\u001b[1;33m)\u001b[0m\u001b[1;33m\u001b[0m\u001b[0m\n\u001b[0;32m      3\u001b[0m \u001b[0mcli_h\u001b[0m\u001b[1;33m=\u001b[0m\u001b[0mmodel1\u001b[0m\u001b[1;33m.\u001b[0m\u001b[0mpredict\u001b[0m\u001b[1;33m(\u001b[0m\u001b[0mcli_x\u001b[0m\u001b[1;33m,\u001b[0m \u001b[0mbatch_size\u001b[0m\u001b[1;33m=\u001b[0m\u001b[1;32mNone\u001b[0m\u001b[1;33m,\u001b[0m \u001b[0mverbose\u001b[0m\u001b[1;33m=\u001b[0m\u001b[1;36m0\u001b[0m\u001b[1;33m,\u001b[0m \u001b[0msteps\u001b[0m\u001b[1;33m=\u001b[0m\u001b[1;32mNone\u001b[0m\u001b[1;33m)\u001b[0m\u001b[1;33m\u001b[0m\u001b[0m\n",
      "\u001b[1;32mc:\\users\\hgh97\\appdata\\local\\programs\\python\\python35\\lib\\site-packages\\keras\\engine\\training.py\u001b[0m in \u001b[0;36mpredict\u001b[1;34m(self, x, batch_size, verbose, steps)\u001b[0m\n\u001b[0;32m   1145\u001b[0m                              'argument.')\n\u001b[0;32m   1146\u001b[0m         \u001b[1;31m# Validate user data.\u001b[0m\u001b[1;33m\u001b[0m\u001b[1;33m\u001b[0m\u001b[0m\n\u001b[1;32m-> 1147\u001b[1;33m         \u001b[0mx\u001b[0m\u001b[1;33m,\u001b[0m \u001b[0m_\u001b[0m\u001b[1;33m,\u001b[0m \u001b[0m_\u001b[0m \u001b[1;33m=\u001b[0m \u001b[0mself\u001b[0m\u001b[1;33m.\u001b[0m\u001b[0m_standardize_user_data\u001b[0m\u001b[1;33m(\u001b[0m\u001b[0mx\u001b[0m\u001b[1;33m)\u001b[0m\u001b[1;33m\u001b[0m\u001b[0m\n\u001b[0m\u001b[0;32m   1148\u001b[0m         \u001b[1;32mif\u001b[0m \u001b[0mself\u001b[0m\u001b[1;33m.\u001b[0m\u001b[0mstateful\u001b[0m\u001b[1;33m:\u001b[0m\u001b[1;33m\u001b[0m\u001b[0m\n\u001b[0;32m   1149\u001b[0m             \u001b[1;32mif\u001b[0m \u001b[0mx\u001b[0m\u001b[1;33m[\u001b[0m\u001b[1;36m0\u001b[0m\u001b[1;33m]\u001b[0m\u001b[1;33m.\u001b[0m\u001b[0mshape\u001b[0m\u001b[1;33m[\u001b[0m\u001b[1;36m0\u001b[0m\u001b[1;33m]\u001b[0m \u001b[1;33m>\u001b[0m \u001b[0mbatch_size\u001b[0m \u001b[1;32mand\u001b[0m \u001b[0mx\u001b[0m\u001b[1;33m[\u001b[0m\u001b[1;36m0\u001b[0m\u001b[1;33m]\u001b[0m\u001b[1;33m.\u001b[0m\u001b[0mshape\u001b[0m\u001b[1;33m[\u001b[0m\u001b[1;36m0\u001b[0m\u001b[1;33m]\u001b[0m \u001b[1;33m%\u001b[0m \u001b[0mbatch_size\u001b[0m \u001b[1;33m!=\u001b[0m \u001b[1;36m0\u001b[0m\u001b[1;33m:\u001b[0m\u001b[1;33m\u001b[0m\u001b[0m\n",
      "\u001b[1;32mc:\\users\\hgh97\\appdata\\local\\programs\\python\\python35\\lib\\site-packages\\keras\\engine\\training.py\u001b[0m in \u001b[0;36m_standardize_user_data\u001b[1;34m(self, x, y, sample_weight, class_weight, check_array_lengths, batch_size)\u001b[0m\n\u001b[0;32m    747\u001b[0m             \u001b[0mfeed_input_shapes\u001b[0m\u001b[1;33m,\u001b[0m\u001b[1;33m\u001b[0m\u001b[0m\n\u001b[0;32m    748\u001b[0m             \u001b[0mcheck_batch_axis\u001b[0m\u001b[1;33m=\u001b[0m\u001b[1;32mFalse\u001b[0m\u001b[1;33m,\u001b[0m  \u001b[1;31m# Don't enforce the batch size.\u001b[0m\u001b[1;33m\u001b[0m\u001b[0m\n\u001b[1;32m--> 749\u001b[1;33m             exception_prefix='input')\n\u001b[0m\u001b[0;32m    750\u001b[0m \u001b[1;33m\u001b[0m\u001b[0m\n\u001b[0;32m    751\u001b[0m         \u001b[1;32mif\u001b[0m \u001b[0my\u001b[0m \u001b[1;32mis\u001b[0m \u001b[1;32mnot\u001b[0m \u001b[1;32mNone\u001b[0m\u001b[1;33m:\u001b[0m\u001b[1;33m\u001b[0m\u001b[0m\n",
      "\u001b[1;32mc:\\users\\hgh97\\appdata\\local\\programs\\python\\python35\\lib\\site-packages\\keras\\engine\\training_utils.py\u001b[0m in \u001b[0;36mstandardize_input_data\u001b[1;34m(data, names, shapes, check_batch_axis, exception_prefix)\u001b[0m\n\u001b[0;32m    135\u001b[0m                             \u001b[1;34m': expected '\u001b[0m \u001b[1;33m+\u001b[0m \u001b[0mnames\u001b[0m\u001b[1;33m[\u001b[0m\u001b[0mi\u001b[0m\u001b[1;33m]\u001b[0m \u001b[1;33m+\u001b[0m \u001b[1;34m' to have shape '\u001b[0m \u001b[1;33m+\u001b[0m\u001b[1;33m\u001b[0m\u001b[0m\n\u001b[0;32m    136\u001b[0m                             \u001b[0mstr\u001b[0m\u001b[1;33m(\u001b[0m\u001b[0mshape\u001b[0m\u001b[1;33m)\u001b[0m \u001b[1;33m+\u001b[0m \u001b[1;34m' but got array with shape '\u001b[0m \u001b[1;33m+\u001b[0m\u001b[1;33m\u001b[0m\u001b[0m\n\u001b[1;32m--> 137\u001b[1;33m                             str(data_shape))\n\u001b[0m\u001b[0;32m    138\u001b[0m     \u001b[1;32mreturn\u001b[0m \u001b[0mdata\u001b[0m\u001b[1;33m\u001b[0m\u001b[0m\n\u001b[0;32m    139\u001b[0m \u001b[1;33m\u001b[0m\u001b[0m\n",
      "\u001b[1;31mValueError\u001b[0m: Error when checking input: expected input_2 to have shape (1564,) but got array with shape (564,)"
     ]
    }
   ],
   "source": [
    "train_h=model1.predict(train_x, batch_size=None, verbose=0, steps=None)\n",
    "test_h=model1.predict(test_x, batch_size=None, verbose=0, steps=None)\n",
    "cli_h=model1.predict(cli_x, batch_size=None, verbose=0, steps=None)"
   ]
  },
  {
   "cell_type": "code",
   "execution_count": 38,
   "metadata": {},
   "outputs": [],
   "source": [
    "train_p=[]\n",
    "for i in range(len(train_h)):\n",
    "    train=train_h[i].tolist()\n",
    "    train_p.append(train.index(max(train)))"
   ]
  },
  {
   "cell_type": "code",
   "execution_count": 39,
   "metadata": {},
   "outputs": [],
   "source": [
    "test_p=[]\n",
    "for i in range(len(test_h)):\n",
    "    test=test_h[i].tolist()\n",
    "    test_p.append(test.index(max(test)))"
   ]
  },
  {
   "cell_type": "code",
   "execution_count": 40,
   "metadata": {},
   "outputs": [],
   "source": [
    "cli_p=[]\n",
    "for i in range(len(cli_h)):\n",
    "    cli=cli_h[i].tolist()\n",
    "    cli_p.append(cli.index(max(cli)))"
   ]
  },
  {
   "cell_type": "markdown",
   "metadata": {},
   "source": [
    "## 4) Making result table"
   ]
  },
  {
   "cell_type": "code",
   "execution_count": 41,
   "metadata": {},
   "outputs": [],
   "source": [
    "df_train_h=df(train_h)\n",
    "df_train_h.columns=['CESC','COAD','PAAD','STAD','UCEC','UCS']\n",
    "\n",
    "df_train_p=df(train_p)\n",
    "df_train_p.columns=['prediction']\n",
    "\n",
    "df_train_y=df(train_y)\n",
    "df_train_y.columns=['y']\n",
    "\n",
    "pd.concat([train_data['sample'],df_train_h,df_train_p,df_train_y],axis=1).to_csv(save_result_path+limma_option+\"_nonmucinous_\"+method+\"_\"+geneset+\"_train_result.csv\",index=False)"
   ]
  },
  {
   "cell_type": "code",
   "execution_count": 42,
   "metadata": {},
   "outputs": [],
   "source": [
    "df_test_h=df(test_h)\n",
    "df_test_h.columns=['CESC','COAD','PAAD','STAD','UCEC','UCS']\n",
    "\n",
    "df_test_p=df(test_p)\n",
    "df_test_p.columns=['prediction']\n",
    "\n",
    "df_test_y=df(test_y)\n",
    "df_test_y.columns=['y']\n",
    "\n",
    "pd.concat([test_data['sample'],df_test_h,df_test_p,df_test_y],axis=1).to_csv(save_result_path+limma_option+\"_mucinous_\"+method+\"_\"+geneset+\"_test_result.csv\",index=False)"
   ]
  },
  {
   "cell_type": "code",
   "execution_count": 44,
   "metadata": {},
   "outputs": [],
   "source": [
    "df_cli_h=df(cli_h)\n",
    "df_cli_h.columns=['CESC','COAD','PAAD','STAD','UCEC','UCS']\n",
    "\n",
    "df_cli_p=df(cli_p)\n",
    "df_cli_p.columns=['prediction']\n",
    "\n",
    "pd.concat([cli_data['sample'],df_cli_h,df_cli_p],axis=1).to_csv(save_result_path+limma_option+\"_clin_\"+method+\"_\"+geneset+\"_cli_result.csv\",index=False)"
   ]
  }
 ],
 "metadata": {
  "kernelspec": {
   "display_name": "Python 3",
   "language": "python",
   "name": "python3"
  },
  "language_info": {
   "codemirror_mode": {
    "name": "ipython",
    "version": 3
   },
   "file_extension": ".py",
   "mimetype": "text/x-python",
   "name": "python",
   "nbconvert_exporter": "python",
   "pygments_lexer": "ipython3",
   "version": "3.5.4"
  }
 },
 "nbformat": 4,
 "nbformat_minor": 2
}
