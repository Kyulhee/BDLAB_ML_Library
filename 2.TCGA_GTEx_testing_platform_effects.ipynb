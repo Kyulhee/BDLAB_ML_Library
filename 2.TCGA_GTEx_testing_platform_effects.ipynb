{
 "cells": [
  {
   "cell_type": "code",
   "execution_count": null,
   "metadata": {},
   "outputs": [],
   "source": [
    "import tensorflow as tf\n",
    "import pandas as pd\n",
    "import numpy as np\n",
    "import keras\n",
    "import random\n",
    "from sklearn.utils import shuffle"
   ]
  },
  {
   "cell_type": "code",
   "execution_count": 8,
   "metadata": {},
   "outputs": [],
   "source": [
    "def check_correct(predict, y):\n",
    "    result = {}\n",
    "    result['cancer-correct'] = 0\n",
    "    result['cancer-wrong'] = 0\n",
    "    result['normal-correct'] = 0\n",
    "    result['normal-wrong'] = 0\n",
    "\n",
    "    for i in range(len(predict)) :\n",
    "        if predict[i] == y[i] :\n",
    "            if y[i] == 0 :\n",
    "                result['normal-correct'] += 1\n",
    "            else :\n",
    "                result['cancer-correct'] += 1\n",
    "        else :\n",
    "            if y[i] == 0 :\n",
    "                result['normal-wrong'] += 1\n",
    "            else :\n",
    "                result['cancer-wrong'] += 1\n",
    "\n",
    "    #for result_k, result_v in result.items():\n",
    "        #print(result_k +\" : \"+ str(result_v))\n",
    "    sensitivity=result['cancer-correct']/(result['cancer-correct']+result['cancer-wrong'])\n",
    "    specificity=result['normal-correct']/(result['normal-correct']+result['normal-wrong'])\n",
    "    #print(\"Sensitivity :\", sensitivity)\n",
    "    #print(\"Specificity :\", specificity)\n",
    "    return sensitivity, specificity"
   ]
  },
  {
   "cell_type": "code",
   "execution_count": 58,
   "metadata": {},
   "outputs": [],
   "source": [
    "path = \"C:/test/coupled/\"\n",
    "TCGA_1 = pd.read_csv(path+\"TCGA_1.csv\")\n",
    "TCGA_0 = pd.read_csv(path+\"TCGA_0.csv\")\n",
    "GTEx = pd.read_csv(path+\"GTEx.csv\")\n",
    "TCGA_1 = TCGA_1.sample(frac=1)\n",
    "tr_TCGA_1 = TCGA_1[0:int(TCGA_1.shape[0]/2)]\n",
    "ts_TCGA_1 = TCGA_1[int(TCGA_1.shape[0]/2):]\n",
    "train_data = pd.concat([tr_TCGA_1, GTEx])\n",
    "test_data = pd.concat([ts_TCGA_1, TCGA_0])\n",
    "train_data = train_data.sample(frac=1)\n",
    "test_data = test_data.sample(frac=1)\n",
    "\n",
    "tr_x = train_data.drop([\"patient\",\"cancer_code\",\"result\"],axis=1)\n",
    "tr_y = train_data.result\n",
    "ts_x = test_data.drop([\"patient\",\"cancer_code\",\"result\"],axis=1)\n",
    "ts_y = test_data.result\n",
    "ts_x_n = TCGA_0.drop([\"patient\",\"cancer_code\",\"result\"],axis=1)\n",
    "ts_y_n = TCGA_0.result\n",
    "tr_x,tr_y = shuffle(tr_x, tr_y, random_state = 0)\n",
    "ts_x,ts_y = shuffle(ts_x, ts_y, random_state = 0)\n",
    "ts_x_n,ts_y_n = shuffle(ts_x_n, ts_y_n, random_state = 0)"
   ]
  },
  {
   "cell_type": "code",
   "execution_count": 59,
   "metadata": {},
   "outputs": [],
   "source": [
    "from keras.layers import Input, Dense\n",
    "from keras.models import Model\n",
    "\n",
    "input_m1 = Input(shape=(308,))\n",
    "h1_m1 = Dense(200,activation='relu')(input_m1)\n",
    "h2_m1 = Dense(150,activation='relu')(h1_m1) \n",
    "h3_m1 = Dense(100,activation='relu')(h2_m1) \n",
    "h4_m1 = Dense(10,activation='relu')(h3_m1) \n",
    "output_m1 = Dense(1,activation=\"sigmoid\")(h4_m1) \n",
    "model1 = Model(inputs=input_m1,outputs=output_m1)"
   ]
  },
  {
   "cell_type": "code",
   "execution_count": 60,
   "metadata": {},
   "outputs": [
    {
     "name": "stdout",
     "output_type": "stream",
     "text": [
      "(11517, 308)\n",
      "(11517,)\n",
      "(4988, 308)\n",
      "(4988,)\n"
     ]
    }
   ],
   "source": [
    "print(tr_x.shape)\n",
    "print(tr_y.shape)\n",
    "print(ts_x.shape)\n",
    "print(ts_y.shape)"
   ]
  },
  {
   "cell_type": "code",
   "execution_count": 61,
   "metadata": {},
   "outputs": [
    {
     "name": "stdout",
     "output_type": "stream",
     "text": [
      "Epoch 1/10\n",
      "11517/11517 [==============================] - 3s 261us/step - loss: 0.0366 - acc: 0.9848\n",
      "Epoch 2/10\n",
      "11517/11517 [==============================] - 2s 159us/step - loss: 0.0072 - acc: 0.9980\n",
      "Epoch 3/10\n",
      "11517/11517 [==============================] - 2s 156us/step - loss: 0.0044 - acc: 0.9985\n",
      "Epoch 4/10\n",
      "11517/11517 [==============================] - 2s 158us/step - loss: 0.0026 - acc: 0.9990\n",
      "Epoch 5/10\n",
      "11517/11517 [==============================] - 2s 157us/step - loss: 0.0056 - acc: 0.9977\n",
      "Epoch 6/10\n",
      "11517/11517 [==============================] - 2s 160us/step - loss: 0.0035 - acc: 0.9990\n",
      "Epoch 7/10\n",
      "11517/11517 [==============================] - 2s 159us/step - loss: 0.0023 - acc: 0.9994\n",
      "Epoch 8/10\n",
      "11517/11517 [==============================] - 2s 157us/step - loss: 0.0084 - acc: 0.9971\n",
      "Epoch 9/10\n",
      "11517/11517 [==============================] - 2s 158us/step - loss: 3.3775e-05 - acc: 1.0000\n",
      "Epoch 10/10\n",
      "11517/11517 [==============================] - 2s 156us/step - loss: 3.0938e-06 - acc: 1.0000\n"
     ]
    },
    {
     "data": {
      "text/plain": [
       "<keras.callbacks.History at 0x1bc9042e748>"
      ]
     },
     "execution_count": 61,
     "metadata": {},
     "output_type": "execute_result"
    }
   ],
   "source": [
    "model1.compile(optimizer='Adam', \n",
    "              loss='binary_crossentropy',\n",
    "              metrics=['accuracy'])\n",
    "model1.fit(tr_x,  tr_y, epochs=10)\n",
    "\n",
    "#model1.save('my_model.h5')"
   ]
  },
  {
   "cell_type": "code",
   "execution_count": 63,
   "metadata": {},
   "outputs": [
    {
     "name": "stdout",
     "output_type": "stream",
     "text": [
      "11517/11517 [==============================] - 1s 73us/step\n",
      "[1.4365177510860448e-06, 1.0]\n",
      "4988/4988 [==============================] - 0s 52us/step\n",
      "[1.5798518948384703, 0.8757016840894986]\n",
      "656/656 [==============================] - 0s 76us/step\n",
      "[11.9380692040048, 0.06554878048780488]\n"
     ]
    }
   ],
   "source": [
    "print(model1.evaluate(tr_x, tr_y))\n",
    "print(model1.evaluate(ts_x, ts_y))\n",
    "print(model1.evaluate(ts_x_n, ts_y_n))"
   ]
  }
 ],
 "metadata": {
  "kernelspec": {
   "display_name": "Python 3",
   "language": "python",
   "name": "python3"
  },
  "language_info": {
   "codemirror_mode": {
    "name": "ipython",
    "version": 3
   },
   "file_extension": ".py",
   "mimetype": "text/x-python",
   "name": "python",
   "nbconvert_exporter": "python",
   "pygments_lexer": "ipython3",
   "version": "3.5.4"
  }
 },
 "nbformat": 4,
 "nbformat_minor": 2
}
