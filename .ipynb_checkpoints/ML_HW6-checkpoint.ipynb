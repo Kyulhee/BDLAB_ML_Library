{
 "cells": [
  {
   "cell_type": "code",
   "execution_count": 59,
   "metadata": {},
   "outputs": [
    {
     "ename": "ImportError",
     "evalue": "No module named 'rbf'",
     "output_type": "error",
     "traceback": [
      "\u001b[1;31m---------------------------------------------------------------------------\u001b[0m",
      "\u001b[1;31mImportError\u001b[0m                               Traceback (most recent call last)",
      "\u001b[1;32m<ipython-input-59-3c6c366dc0b5>\u001b[0m in \u001b[0;36m<module>\u001b[1;34m()\u001b[0m\n\u001b[0;32m     17\u001b[0m \u001b[1;32mfrom\u001b[0m \u001b[0mmatplotlib\u001b[0m \u001b[1;32mimport\u001b[0m \u001b[0mpyplot\u001b[0m \u001b[1;32mas\u001b[0m \u001b[0mplt\u001b[0m\u001b[1;33m\u001b[0m\u001b[0m\n\u001b[0;32m     18\u001b[0m \u001b[1;32mimport\u001b[0m \u001b[0mpandas\u001b[0m \u001b[1;32mas\u001b[0m \u001b[0mpd\u001b[0m\u001b[1;33m\u001b[0m\u001b[0m\n\u001b[1;32m---> 19\u001b[1;33m \u001b[1;32mfrom\u001b[0m \u001b[0mrbf\u001b[0m\u001b[1;33m.\u001b[0m\u001b[0minterpolate\u001b[0m \u001b[1;32mimport\u001b[0m \u001b[0mRBFInterpolant\u001b[0m\u001b[1;33m\u001b[0m\u001b[0m\n\u001b[0m\u001b[0;32m     20\u001b[0m \u001b[1;32mimport\u001b[0m \u001b[0mrbf\u001b[0m\u001b[1;33m.\u001b[0m\u001b[0mbasis\u001b[0m\u001b[1;33m\u001b[0m\u001b[0m\n",
      "\u001b[1;31mImportError\u001b[0m: No module named 'rbf'"
     ]
    }
   ],
   "source": [
    "import six.moves.cPickle as pickle\n",
    "import gzip\n",
    "import os\n",
    "import math\n",
    "import numpy as np\n",
    "import numpy.linalg as lin\n",
    "import scipy.misc\n",
    "from __future__ import division\n",
    "import collections\n",
    "from collections import Counter\n",
    "import random\n",
    "import pandas as pd\n",
    "from pandas import DataFrame as df\n",
    "from sklearn.utils import shuffle\n",
    "from scipy import *\n",
    "from scipy.linalg import norm, pinv\n",
    "from matplotlib import pyplot as plt\n",
    "import pandas as pd\n",
    "from rbf.interpolate import RBFInterpolant\n",
    "import rbf.basis"
   ]
  },
  {
   "cell_type": "code",
   "execution_count": 58,
   "metadata": {},
   "outputs": [
    {
     "ename": "AttributeError",
     "evalue": "'RBF' object has no attribute 'basis'",
     "output_type": "error",
     "traceback": [
      "\u001b[1;31m---------------------------------------------------------------------------\u001b[0m",
      "\u001b[1;31mAttributeError\u001b[0m                            Traceback (most recent call last)",
      "\u001b[1;32m<ipython-input-58-d75ec43b6e30>\u001b[0m in \u001b[0;36m<module>\u001b[1;34m()\u001b[0m\n\u001b[1;32m----> 1\u001b[1;33m \u001b[0mbasis\u001b[0m \u001b[1;33m=\u001b[0m \u001b[0mrbf\u001b[0m\u001b[1;33m.\u001b[0m\u001b[0mbasis\u001b[0m\u001b[1;33m.\u001b[0m\u001b[0mphs2\u001b[0m\u001b[1;33m\u001b[0m\u001b[0m\n\u001b[0m\u001b[0;32m      2\u001b[0m \u001b[0morder\u001b[0m \u001b[1;33m=\u001b[0m \u001b[1;36m1\u001b[0m\u001b[1;33m\u001b[0m\u001b[0m\n\u001b[0;32m      3\u001b[0m \u001b[0mx_obs\u001b[0m \u001b[1;33m=\u001b[0m \u001b[0mnp\u001b[0m\u001b[1;33m.\u001b[0m\u001b[0mrandom\u001b[0m\u001b[1;33m.\u001b[0m\u001b[0mrandom\u001b[0m\u001b[1;33m(\u001b[0m\u001b[1;33m(\u001b[0m\u001b[1;36m100\u001b[0m\u001b[1;33m,\u001b[0m\u001b[1;36m2\u001b[0m\u001b[1;33m)\u001b[0m\u001b[1;33m)\u001b[0m \u001b[1;31m# observation points\u001b[0m\u001b[1;33m\u001b[0m\u001b[0m\n\u001b[0;32m      4\u001b[0m \u001b[0mu_obs\u001b[0m \u001b[1;33m=\u001b[0m \u001b[0mnp\u001b[0m\u001b[1;33m.\u001b[0m\u001b[0msin\u001b[0m\u001b[1;33m(\u001b[0m\u001b[1;36m2\u001b[0m\u001b[1;33m*\u001b[0m\u001b[0mnp\u001b[0m\u001b[1;33m.\u001b[0m\u001b[0mpi\u001b[0m\u001b[1;33m*\u001b[0m\u001b[0mx_obs\u001b[0m\u001b[1;33m[\u001b[0m\u001b[1;33m:\u001b[0m\u001b[1;33m,\u001b[0m\u001b[1;36m0\u001b[0m\u001b[1;33m]\u001b[0m\u001b[1;33m)\u001b[0m\u001b[1;33m*\u001b[0m\u001b[0mnp\u001b[0m\u001b[1;33m.\u001b[0m\u001b[0mcos\u001b[0m\u001b[1;33m(\u001b[0m\u001b[1;36m2\u001b[0m\u001b[1;33m*\u001b[0m\u001b[0mnp\u001b[0m\u001b[1;33m.\u001b[0m\u001b[0mpi\u001b[0m\u001b[1;33m*\u001b[0m\u001b[0mx_obs\u001b[0m\u001b[1;33m[\u001b[0m\u001b[1;33m:\u001b[0m\u001b[1;33m,\u001b[0m\u001b[1;36m1\u001b[0m\u001b[1;33m]\u001b[0m\u001b[1;33m)\u001b[0m \u001b[1;31m# signal\u001b[0m\u001b[1;33m\u001b[0m\u001b[0m\n\u001b[0;32m      5\u001b[0m \u001b[0mu_obs\u001b[0m \u001b[1;33m+=\u001b[0m \u001b[0mnp\u001b[0m\u001b[1;33m.\u001b[0m\u001b[0mrandom\u001b[0m\u001b[1;33m.\u001b[0m\u001b[0mnormal\u001b[0m\u001b[1;33m(\u001b[0m\u001b[1;36m0.0\u001b[0m\u001b[1;33m,\u001b[0m\u001b[1;36m0.2\u001b[0m\u001b[1;33m,\u001b[0m\u001b[1;36m100\u001b[0m\u001b[1;33m)\u001b[0m \u001b[1;31m# add noise to signal\u001b[0m\u001b[1;33m\u001b[0m\u001b[0m\n",
      "\u001b[1;31mAttributeError\u001b[0m: 'RBF' object has no attribute 'basis'"
     ]
    }
   ],
   "source": [
    "basis = rbf.basis.phs2\n",
    "order = 1\n",
    "x_obs = np.random.random((100,2)) # observation points\n",
    "u_obs = np.sin(2*np.pi*x_obs[:,0])*np.cos(2*np.pi*x_obs[:,1]) # signal\n",
    "u_obs += np.random.normal(0.0,0.2,100) # add noise to signal\n",
    "I = RBFInterpolant(x_obs,u_obs,sigma=0.1,basis=basis,order=order)\n",
    "vals = np.linspace(0,1,200)\n",
    "x_itp = np.reshape(np.meshgrid(vals,vals),(2,200*200)).T # interp points\n",
    "u_itp = I(x_itp) # evaluate the interpolant\n",
    "# plot the results\n",
    "plt.tripcolor(x_itp[:,0],x_itp[:,1],u_itp,vmin=-1.1,vmax=1.1,cmap='viridis')\n",
    "plt.scatter(x_obs[:,0],x_obs[:,1],s=100,c=u_obs,vmin=-1.1,vmax=1.1,\n",
    "cmap='viridis',edgecolor='k')\n",
    "plt.xlim((0.05,0.95))\n",
    "plt.ylim((0.05,0.95))\n",
    "plt.colorbar()\n",
    "plt.tight_layout()\n",
    "plt.savefig('../figures/interpolate.a.png')\n",
    "plt.show"
   ]
  },
  {
   "cell_type": "code",
   "execution_count": 46,
   "metadata": {},
   "outputs": [],
   "source": [
    "path = \"C:/test/HW6_train_test_files/\"\n",
    "df_test = pd.read_table(path+\"cis_test.txt\",index_col=None, header= None)\n",
    "df_train_sam = pd.read_table(path+\"cis_train1.txt\",index_col=None, header= None)\n",
    "df_train = pd.read_table(path+\"cis_train2.txt\",index_col=None, header= None)"
   ]
  },
  {
   "cell_type": "code",
   "execution_count": 52,
   "metadata": {},
   "outputs": [
    {
     "name": "stdout",
     "output_type": "stream",
     "text": [
      "(100, 2) (1000, 2) (10000, 2)\n"
     ]
    }
   ],
   "source": [
    "tr_X_sam = df_train_sam.iloc[:,:df_train_sam.shape[1]-1]\n",
    "tr_Y_sam = df_train_sam.iloc[:,df_train_sam.shape[1]-1]\n",
    "tr_X = df_train.iloc[:,:df_train.shape[1]-1]\n",
    "tr_Y = df_train.iloc[:,df_train.shape[1]-1]\n",
    "ts_X = df_test.iloc[:,:df_test.shape[1]-1]\n",
    "ts_Y = df_test.iloc[:,df_test.shape[1]-1]\n",
    "\n",
    "print(tr_X_sam.shape, tr_X.shape, ts_X.shape)"
   ]
  },
  {
   "cell_type": "code",
   "execution_count": 56,
   "metadata": {},
   "outputs": [
    {
     "data": {
      "text/plain": [
       "pandas.core.frame.DataFrame"
      ]
     },
     "execution_count": 56,
     "metadata": {},
     "output_type": "execute_result"
    }
   ],
   "source": [
    "type(tr_X_sam)"
   ]
  },
  {
   "cell_type": "code",
   "execution_count": 54,
   "metadata": {},
   "outputs": [
    {
     "ename": "TypeError",
     "evalue": "unhashable type: 'slice'",
     "output_type": "error",
     "traceback": [
      "\u001b[1;31m---------------------------------------------------------------------------\u001b[0m",
      "\u001b[1;31mTypeError\u001b[0m                                 Traceback (most recent call last)",
      "\u001b[1;32m<ipython-input-54-de20d7e9b9e0>\u001b[0m in \u001b[0;36m<module>\u001b[1;34m()\u001b[0m\n\u001b[0;32m      1\u001b[0m \u001b[1;31m# rbf regression\u001b[0m\u001b[1;33m\u001b[0m\u001b[1;33m\u001b[0m\u001b[0m\n\u001b[0;32m      2\u001b[0m \u001b[0mrbf\u001b[0m \u001b[1;33m=\u001b[0m \u001b[0mRBF\u001b[0m\u001b[1;33m(\u001b[0m\u001b[0mtr_X\u001b[0m\u001b[1;33m.\u001b[0m\u001b[0mshape\u001b[0m\u001b[1;33m[\u001b[0m\u001b[1;36m1\u001b[0m\u001b[1;33m]\u001b[0m\u001b[1;33m,\u001b[0m \u001b[1;36m10\u001b[0m\u001b[1;33m,\u001b[0m \u001b[1;36m1\u001b[0m\u001b[1;33m)\u001b[0m\u001b[1;33m\u001b[0m\u001b[0m\n\u001b[1;32m----> 3\u001b[1;33m \u001b[0mrbf\u001b[0m\u001b[1;33m.\u001b[0m\u001b[0mtrain\u001b[0m\u001b[1;33m(\u001b[0m\u001b[0mtr_X\u001b[0m\u001b[1;33m,\u001b[0m \u001b[0mtr_Y\u001b[0m\u001b[1;33m)\u001b[0m\u001b[1;33m\u001b[0m\u001b[0m\n\u001b[0m\u001b[0;32m      4\u001b[0m \u001b[0mz\u001b[0m \u001b[1;33m=\u001b[0m \u001b[0mrbf\u001b[0m\u001b[1;33m.\u001b[0m\u001b[0mtest\u001b[0m\u001b[1;33m(\u001b[0m\u001b[0mtr_X\u001b[0m\u001b[1;33m)\u001b[0m\u001b[1;33m\u001b[0m\u001b[0m\n",
      "\u001b[1;32m<ipython-input-33-606dcf73884b>\u001b[0m in \u001b[0;36mtrain\u001b[1;34m(self, X, Y)\u001b[0m\n\u001b[0;32m     30\u001b[0m         \u001b[1;31m# choose random center vectors from training set\u001b[0m\u001b[1;33m\u001b[0m\u001b[1;33m\u001b[0m\u001b[0m\n\u001b[0;32m     31\u001b[0m         \u001b[0mrnd_idx\u001b[0m \u001b[1;33m=\u001b[0m \u001b[0mrandom\u001b[0m\u001b[1;33m.\u001b[0m\u001b[0mpermutation\u001b[0m\u001b[1;33m(\u001b[0m\u001b[0mX\u001b[0m\u001b[1;33m.\u001b[0m\u001b[0mshape\u001b[0m\u001b[1;33m[\u001b[0m\u001b[1;36m0\u001b[0m\u001b[1;33m]\u001b[0m\u001b[1;33m)\u001b[0m\u001b[1;33m[\u001b[0m\u001b[1;33m:\u001b[0m\u001b[0mself\u001b[0m\u001b[1;33m.\u001b[0m\u001b[0mnumCenters\u001b[0m\u001b[1;33m]\u001b[0m\u001b[1;33m\u001b[0m\u001b[0m\n\u001b[1;32m---> 32\u001b[1;33m         \u001b[0mself\u001b[0m\u001b[1;33m.\u001b[0m\u001b[0mcenters\u001b[0m \u001b[1;33m=\u001b[0m \u001b[1;33m[\u001b[0m\u001b[0mX\u001b[0m\u001b[1;33m[\u001b[0m\u001b[0mi\u001b[0m\u001b[1;33m,\u001b[0m\u001b[1;33m:\u001b[0m\u001b[1;33m]\u001b[0m \u001b[1;32mfor\u001b[0m \u001b[0mi\u001b[0m \u001b[1;32min\u001b[0m \u001b[0mrnd_idx\u001b[0m\u001b[1;33m]\u001b[0m\u001b[1;33m\u001b[0m\u001b[0m\n\u001b[0m\u001b[0;32m     33\u001b[0m \u001b[1;33m\u001b[0m\u001b[0m\n\u001b[0;32m     34\u001b[0m         \u001b[1;31m#print(\"center\", self.centers)\u001b[0m\u001b[1;33m\u001b[0m\u001b[1;33m\u001b[0m\u001b[0m\n",
      "\u001b[1;32m<ipython-input-33-606dcf73884b>\u001b[0m in \u001b[0;36m<listcomp>\u001b[1;34m(.0)\u001b[0m\n\u001b[0;32m     30\u001b[0m         \u001b[1;31m# choose random center vectors from training set\u001b[0m\u001b[1;33m\u001b[0m\u001b[1;33m\u001b[0m\u001b[0m\n\u001b[0;32m     31\u001b[0m         \u001b[0mrnd_idx\u001b[0m \u001b[1;33m=\u001b[0m \u001b[0mrandom\u001b[0m\u001b[1;33m.\u001b[0m\u001b[0mpermutation\u001b[0m\u001b[1;33m(\u001b[0m\u001b[0mX\u001b[0m\u001b[1;33m.\u001b[0m\u001b[0mshape\u001b[0m\u001b[1;33m[\u001b[0m\u001b[1;36m0\u001b[0m\u001b[1;33m]\u001b[0m\u001b[1;33m)\u001b[0m\u001b[1;33m[\u001b[0m\u001b[1;33m:\u001b[0m\u001b[0mself\u001b[0m\u001b[1;33m.\u001b[0m\u001b[0mnumCenters\u001b[0m\u001b[1;33m]\u001b[0m\u001b[1;33m\u001b[0m\u001b[0m\n\u001b[1;32m---> 32\u001b[1;33m         \u001b[0mself\u001b[0m\u001b[1;33m.\u001b[0m\u001b[0mcenters\u001b[0m \u001b[1;33m=\u001b[0m \u001b[1;33m[\u001b[0m\u001b[0mX\u001b[0m\u001b[1;33m[\u001b[0m\u001b[0mi\u001b[0m\u001b[1;33m,\u001b[0m\u001b[1;33m:\u001b[0m\u001b[1;33m]\u001b[0m \u001b[1;32mfor\u001b[0m \u001b[0mi\u001b[0m \u001b[1;32min\u001b[0m \u001b[0mrnd_idx\u001b[0m\u001b[1;33m]\u001b[0m\u001b[1;33m\u001b[0m\u001b[0m\n\u001b[0m\u001b[0;32m     33\u001b[0m \u001b[1;33m\u001b[0m\u001b[0m\n\u001b[0;32m     34\u001b[0m         \u001b[1;31m#print(\"center\", self.centers)\u001b[0m\u001b[1;33m\u001b[0m\u001b[1;33m\u001b[0m\u001b[0m\n",
      "\u001b[1;32mc:\\users\\hgh97\\appdata\\local\\programs\\python\\python35\\lib\\site-packages\\pandas\\core\\frame.py\u001b[0m in \u001b[0;36m__getitem__\u001b[1;34m(self, key)\u001b[0m\n\u001b[0;32m   2686\u001b[0m             \u001b[1;32mreturn\u001b[0m \u001b[0mself\u001b[0m\u001b[1;33m.\u001b[0m\u001b[0m_getitem_multilevel\u001b[0m\u001b[1;33m(\u001b[0m\u001b[0mkey\u001b[0m\u001b[1;33m)\u001b[0m\u001b[1;33m\u001b[0m\u001b[0m\n\u001b[0;32m   2687\u001b[0m         \u001b[1;32melse\u001b[0m\u001b[1;33m:\u001b[0m\u001b[1;33m\u001b[0m\u001b[0m\n\u001b[1;32m-> 2688\u001b[1;33m             \u001b[1;32mreturn\u001b[0m \u001b[0mself\u001b[0m\u001b[1;33m.\u001b[0m\u001b[0m_getitem_column\u001b[0m\u001b[1;33m(\u001b[0m\u001b[0mkey\u001b[0m\u001b[1;33m)\u001b[0m\u001b[1;33m\u001b[0m\u001b[0m\n\u001b[0m\u001b[0;32m   2689\u001b[0m \u001b[1;33m\u001b[0m\u001b[0m\n\u001b[0;32m   2690\u001b[0m     \u001b[1;32mdef\u001b[0m \u001b[0m_getitem_column\u001b[0m\u001b[1;33m(\u001b[0m\u001b[0mself\u001b[0m\u001b[1;33m,\u001b[0m \u001b[0mkey\u001b[0m\u001b[1;33m)\u001b[0m\u001b[1;33m:\u001b[0m\u001b[1;33m\u001b[0m\u001b[0m\n",
      "\u001b[1;32mc:\\users\\hgh97\\appdata\\local\\programs\\python\\python35\\lib\\site-packages\\pandas\\core\\frame.py\u001b[0m in \u001b[0;36m_getitem_column\u001b[1;34m(self, key)\u001b[0m\n\u001b[0;32m   2693\u001b[0m         \u001b[1;31m# get column\u001b[0m\u001b[1;33m\u001b[0m\u001b[1;33m\u001b[0m\u001b[0m\n\u001b[0;32m   2694\u001b[0m         \u001b[1;32mif\u001b[0m \u001b[0mself\u001b[0m\u001b[1;33m.\u001b[0m\u001b[0mcolumns\u001b[0m\u001b[1;33m.\u001b[0m\u001b[0mis_unique\u001b[0m\u001b[1;33m:\u001b[0m\u001b[1;33m\u001b[0m\u001b[0m\n\u001b[1;32m-> 2695\u001b[1;33m             \u001b[1;32mreturn\u001b[0m \u001b[0mself\u001b[0m\u001b[1;33m.\u001b[0m\u001b[0m_get_item_cache\u001b[0m\u001b[1;33m(\u001b[0m\u001b[0mkey\u001b[0m\u001b[1;33m)\u001b[0m\u001b[1;33m\u001b[0m\u001b[0m\n\u001b[0m\u001b[0;32m   2696\u001b[0m \u001b[1;33m\u001b[0m\u001b[0m\n\u001b[0;32m   2697\u001b[0m         \u001b[1;31m# duplicate columns & possible reduce dimensionality\u001b[0m\u001b[1;33m\u001b[0m\u001b[1;33m\u001b[0m\u001b[0m\n",
      "\u001b[1;32mc:\\users\\hgh97\\appdata\\local\\programs\\python\\python35\\lib\\site-packages\\pandas\\core\\generic.py\u001b[0m in \u001b[0;36m_get_item_cache\u001b[1;34m(self, item)\u001b[0m\n\u001b[0;32m   2485\u001b[0m         \u001b[1;34m\"\"\"Return the cached item, item represents a label indexer.\"\"\"\u001b[0m\u001b[1;33m\u001b[0m\u001b[0m\n\u001b[0;32m   2486\u001b[0m         \u001b[0mcache\u001b[0m \u001b[1;33m=\u001b[0m \u001b[0mself\u001b[0m\u001b[1;33m.\u001b[0m\u001b[0m_item_cache\u001b[0m\u001b[1;33m\u001b[0m\u001b[0m\n\u001b[1;32m-> 2487\u001b[1;33m         \u001b[0mres\u001b[0m \u001b[1;33m=\u001b[0m \u001b[0mcache\u001b[0m\u001b[1;33m.\u001b[0m\u001b[0mget\u001b[0m\u001b[1;33m(\u001b[0m\u001b[0mitem\u001b[0m\u001b[1;33m)\u001b[0m\u001b[1;33m\u001b[0m\u001b[0m\n\u001b[0m\u001b[0;32m   2488\u001b[0m         \u001b[1;32mif\u001b[0m \u001b[0mres\u001b[0m \u001b[1;32mis\u001b[0m \u001b[1;32mNone\u001b[0m\u001b[1;33m:\u001b[0m\u001b[1;33m\u001b[0m\u001b[0m\n\u001b[0;32m   2489\u001b[0m             \u001b[0mvalues\u001b[0m \u001b[1;33m=\u001b[0m \u001b[0mself\u001b[0m\u001b[1;33m.\u001b[0m\u001b[0m_data\u001b[0m\u001b[1;33m.\u001b[0m\u001b[0mget\u001b[0m\u001b[1;33m(\u001b[0m\u001b[0mitem\u001b[0m\u001b[1;33m)\u001b[0m\u001b[1;33m\u001b[0m\u001b[0m\n",
      "\u001b[1;31mTypeError\u001b[0m: unhashable type: 'slice'"
     ]
    }
   ],
   "source": [
    "# rbf regression\n",
    "rbf = RBF(tr_X.shape[1], 10, 1)\n",
    "rbf.train(tr_X, tr_Y)\n",
    "z = rbf.test(tr_X)"
   ]
  },
  {
   "cell_type": "code",
   "execution_count": 36,
   "metadata": {},
   "outputs": [
    {
     "name": "stdout",
     "output_type": "stream",
     "text": [
      "[ 2.26291042e-266 -1.82651294e-225  4.63706374e-286  9.97765888e-243\n",
      "  4.88569473e-263  1.35140221e-280  1.15520333e-283  1.35806964e-137\n",
      "  1.59424236e-231  4.20109610e-220  4.16000559e-198  1.20121625e-119\n",
      "  3.28271431e-168  2.08704973e-175  2.92023255e-233  1.97666502e-259\n",
      "  5.17390485e-318  5.12753962e-201  6.46606553e-198  1.50096301e-241\n",
      "  4.00000000e+000 -2.80025622e-279  2.46880496e-218  1.96140852e-247\n",
      "  6.33083554e-233  1.23261390e-231  8.01701280e-242  4.39794219e-200\n",
      "  0.00000000e+000  9.48565794e-198  1.49935718e-299  1.05317123e-191\n",
      "  3.74071711e-129  8.25076572e-269 -5.89783381e-166  3.21561549e-166\n",
      "  1.06653277e-181 -7.59410094e-171  4.31714753e-307  6.00000000e+000\n",
      "  1.65437538e-233  1.75534991e-208  2.32475351e-263  3.05592009e-264\n",
      "  8.00346224e-286  3.47327385e-272  1.21001460e-298  1.53787348e-182\n",
      "  1.33597133e-267  3.54459936e-168  3.89958443e-133 -3.24923191e-306\n",
      "  0.00000000e+000  1.52395554e-224  8.09197847e-295  2.07218343e-184\n",
      "  0.00000000e+000  5.64708140e-231  1.49515777e-233  8.55792740e-228\n",
      "  0.00000000e+000  6.78807606e-213  1.27627383e-188 -3.65805714e-294\n",
      "  1.21100843e-286  2.77057132e-100  1.73498724e-171  2.76923620e-217\n",
      "  0.00000000e+000 -2.98837722e-162  1.08849263e-250  5.82710501e-202\n",
      "  2.22778779e-214  4.81102527e-149  5.35049386e-181 -1.99860426e-129\n",
      "  5.15241800e-260  6.77585309e-223  7.72777246e-216  8.71263827e-230\n",
      "  2.78705339e-256 -7.75246379e-031  9.88131292e-324  2.92550636e-177\n",
      "  6.39110264e-315  7.22262138e-137  4.43468877e-316  4.96920656e-197\n",
      "  0.00000000e+000  4.20447813e-263  2.84043896e-157  4.17873310e-271\n",
      "  1.90434403e-268  1.26252324e-136  1.97732167e-189 -9.13574192e-129\n",
      "  1.82193382e-281  4.35031594e-159  3.98523066e-146  4.49362766e-223\n",
      "  7.59891638e-279  1.70321740e-254  7.12463288e-233  3.14478236e-273\n",
      "  1.03611996e-237  9.50693432e-215  1.02050108e-184  1.40388828e-174\n",
      "  0.00000000e+000  1.00715142e-281  2.69856387e-270  4.89395213e-304\n",
      "  6.49707220e-221  2.92653657e-190  0.00000000e+000  2.36424702e-230\n",
      "  1.38900389e-278  3.60667812e-257 -3.99151087e-284 -9.63060950e-284\n",
      "  0.00000000e+000  0.00000000e+000  8.19767664e-208  1.10040640e-279\n",
      "  1.36373810e-220  4.01674167e-194  2.02389586e-208  1.32138172e-247\n",
      "  1.62298867e-257  1.29612413e-235  4.50502611e-176  6.13475720e-248\n",
      "  8.66863535e-230  9.69882768e-251  0.00000000e+000  2.09808077e-216\n",
      "  1.77102959e-205  8.51840051e-218  8.76996394e-253  2.93664920e-240\n",
      "  7.44785516e-256  2.10029356e-213  2.52282738e-233  4.24720502e-238\n",
      "  1.82522566e-272  5.00000000e+000  7.83164296e-220  6.09326487e-097\n",
      "  6.32187943e-216  1.62956475e-155  7.42991728e-307  1.16070678e-096\n",
      "  1.18338065e-242  1.39079427e-235  2.46613208e-266  7.53246065e-110\n",
      "  0.00000000e+000  2.37493207e-215  1.16108789e-312  4.15893100e-272\n",
      "  9.25753573e-243  7.95182766e-256  2.71392955e-274  7.01002356e-250\n",
      "  1.25829182e-149  3.13159516e-138  1.30024876e-228  3.22250045e-249\n",
      "  1.18422741e-296 -1.22224279e-135  1.97417259e-310  9.89802341e-273\n",
      "  7.55860442e-297  2.15456439e-136  4.55652060e-229  4.38624750e-121\n",
      "  1.64411224e-301  2.74027004e-242  1.27509624e-304  1.28028440e-234\n",
      "  2.41940695e-258  1.63501883e-315  9.45336979e-190  8.44870972e-280\n",
      "  1.27234864e-249  1.15494682e-289  1.05156168e-276  1.94705393e-270\n",
      "  1.82828855e-279  8.01849233e-292  1.86998388e-248  2.10818777e-048\n",
      " -1.52929900e-251  3.09790928e-256  4.69797452e-265  7.34913521e-252\n",
      "  0.00000000e+000  1.08849076e-139  5.00340023e-248  2.32825716e-307\n",
      "  5.70746578e-263  9.00629888e-262  4.16225166e-229  6.75886307e-247\n",
      "  1.24449146e-145  2.16804857e-207  0.00000000e+000  0.00000000e+000\n",
      "  1.01835817e-232  0.00000000e+000  1.50278439e-309  6.39764556e-244\n",
      "  6.05959822e-272  0.00000000e+000  0.00000000e+000  1.12737087e-169\n",
      "  1.35489888e-269  4.58492733e-268  1.80033550e-199 -2.57136959e-305\n",
      "  0.00000000e+000  2.10216929e-173  4.60465481e-219  4.78327398e-275\n",
      "  2.52027017e-218  4.08730121e-128  4.40505693e-294  2.28457198e-234\n",
      "  4.31477410e-316  0.00000000e+000  6.70223907e-258  2.55125737e-233\n",
      "  4.44161797e-177  0.00000000e+000 -3.68289524e-270  1.59850253e-212\n",
      "  2.79295899e-296  8.52292996e-273  4.45461613e-169  5.49897567e-252\n",
      "  1.83604539e-233  0.00000000e+000  1.65175113e-193  1.92076717e-314\n",
      "  1.70672169e-274  8.00000000e+000  0.00000000e+000  5.55574512e-224\n",
      "  1.54027428e-291  0.00000000e+000  2.12727682e-294  2.97501057e-234\n",
      "  2.42670369e-183  0.00000000e+000  3.16056821e-157  2.54570061e-247\n",
      "  5.02384254e-231  5.08979515e-242  2.74763174e-278  1.17462856e-266\n",
      "  2.30618196e-237  5.55034113e-104  4.25503453e-240  1.27856349e-310\n",
      "  2.74302931e-288  7.68273650e-132  6.62567328e-263  4.66572785e-260\n",
      "  9.03291164e-276  2.30631351e-204  4.91950069e-210  1.66348474e-247\n",
      "  1.04649351e-301  6.12987694e-238  3.25935301e-291  3.42672672e-259\n",
      "  1.88965637e-212  0.00000000e+000  3.91355710e-229  4.59894697e-189\n",
      "  1.84147315e-233  5.58240376e-215  1.93176497e-274  0.00000000e+000\n",
      "  5.88778819e-284  9.19786627e-222  2.14374619e-245  1.03141267e-220\n",
      "  7.28110802e-293  3.88487854e-241  5.48416454e-223  4.20558310e-232\n",
      "  8.73452305e-204 -7.28368867e-318  3.93794503e-215  1.01577061e-110\n",
      "  0.00000000e+000  3.99174446e-261  2.18589611e-155  6.12629165e-222\n",
      "  1.60419698e-281  2.47499605e-267  6.31214819e-178 -4.51947869e-221\n",
      "  5.98354768e-301  1.76953556e-248  3.57475356e-247  4.46377045e-269\n",
      "  0.00000000e+000  7.13637361e-194  7.50403530e-226  6.45695962e-133\n",
      "  2.19664377e-287  3.37040198e-245  1.16247005e-271  2.38216165e-217\n",
      "  5.58949155e-276  0.00000000e+000  1.80173229e-238  8.43056058e-208\n",
      " -3.00493575e-226  1.47421724e-213  2.82266239e-260  8.71433598e-265\n",
      "  1.62016632e-295  0.00000000e+000 -5.51689904e-228  4.39121638e-290\n",
      " -1.84993878e-228  2.17760916e-270  8.05062870e-168  1.58873636e-098\n",
      "  1.32721183e-261  2.90309312e-220  9.53178210e-275  1.86692395e-217\n",
      "  2.64936854e-252  7.36850517e-291  2.23910041e-257  0.00000000e+000\n",
      "  4.04155989e-249  1.63771883e-222  3.02129954e-227  5.73865918e-137\n",
      "  1.98554898e-289  1.33245918e-229  2.34685473e-190  0.00000000e+000\n",
      "  7.46940006e-271  0.00000000e+000  3.95162733e-277  3.29114229e-232\n",
      "  1.40614807e-236  4.08758586e-269  5.54613340e-268  2.21682450e-196\n",
      "  1.65356830e-196  2.68620002e-222  3.99450166e-238 -5.74757045e-284\n",
      "  2.16035253e-251  3.95094988e-191  3.42737787e-221  3.34738879e-221\n",
      "  4.04042330e-199  0.00000000e+000  5.40706970e-219  1.36961488e-172\n",
      "  1.89590753e-163  2.92300147e-245  4.61104846e-281  0.00000000e+000\n",
      "  1.96632577e-248  3.37973859e-221  3.75423913e-274  0.00000000e+000\n",
      "  8.72705035e-273  3.36306864e-305  1.76872478e-267  3.44364652e-205\n",
      "  1.38338381e-322  1.15798800e-312  7.62857580e-269  4.51602661e-248\n",
      "  1.86632740e-292  0.00000000e+000  3.93887864e-290  1.89863465e-305\n",
      "  3.35544199e-236  1.89149486e-217  5.98149587e-232  0.00000000e+000\n",
      "  3.88840525e-228  2.93960341e-182  2.03068541e-263  6.93245237e-129\n",
      "  1.55067828e-206  2.97149634e-204  6.98368729e-237 -1.55965044e-248\n",
      "  2.81950712e-286  1.38595208e-122  2.06075039e-270  2.32669641e-294\n",
      "  3.58285678e-195  8.10999395e-194  7.07992852e-259  2.10375411e-284\n",
      "  5.82639612e-225  1.09282724e-213  2.00000000e+000  6.01409583e-245\n",
      "  2.77656890e-222  5.41677736e-234  3.09711042e-247  5.34180831e-240\n",
      "  2.11989901e-219  1.76801960e-163  3.50660290e-150  1.96056196e-239\n",
      "  1.71314300e-241  1.22667408e-087  4.11390943e-255  5.17869871e-222\n",
      "  0.00000000e+000  7.67245546e-262  0.00000000e+000 -6.53644162e-257\n",
      "  3.46866020e-272  0.00000000e+000  1.92794134e-195  3.22513294e-060\n",
      "  2.18923391e-298  7.43360387e-240  1.85248593e-294  0.00000000e+000\n",
      "  2.48448786e-260  1.52914175e-239  4.48061197e-281  9.37402627e-169\n",
      "  0.00000000e+000  1.09443237e-215  1.17409764e-255  2.39380344e-214\n",
      "  2.10457163e-286  8.92386054e-084  0.00000000e+000  2.52557290e-195\n",
      "  0.00000000e+000  6.23950228e-118  3.15569047e-243  1.36349849e-221\n",
      "  3.00000000e+000  0.00000000e+000  3.05537646e-211  1.15611212e-214\n",
      "  9.45154271e-184  2.08902700e-282  0.00000000e+000  2.45676274e-214\n",
      "  3.70409552e-271  5.75586477e-321  0.00000000e+000  6.44761353e-094\n",
      "  0.00000000e+000  6.27830047e-190  1.43728520e-218  0.00000000e+000\n",
      "  3.90858334e-309  8.00000000e+000  7.89209148e-262  4.24709010e-221\n",
      "  6.20587623e-237  0.00000000e+000  2.72825160e-257  1.53471461e-231\n",
      "  2.43036050e-266  6.71929278e-322  3.48360746e-318  3.00000000e+000\n",
      "  1.69973678e-255  3.24583982e-256  4.57974674e-219  0.00000000e+000\n",
      "  5.63180579e-228  1.53731260e-184  4.77885103e-239  8.27627714e-214\n",
      "  7.37496849e-308  1.32205113e-294  3.00000000e+000  3.85886022e-268\n",
      "  2.81308165e-251  0.00000000e+000  0.00000000e+000  4.23321312e-198\n",
      " -9.06267376e-210  4.29233765e-251  5.34013874e-181  1.70836398e-133]\n"
     ]
    }
   ],
   "source": [
    "print(z)"
   ]
  },
  {
   "cell_type": "code",
   "execution_count": null,
   "metadata": {},
   "outputs": [],
   "source": [
    "# plot original data\n",
    "plt.figure(figsize=(12, 8))\n",
    "plt.plot(train_x, train_y, 'k-')\n",
    "\n",
    "# plot learned model\n",
    "plt.plot(train_x, z, 'r-', linewidth=2)\n",
    "\n",
    "# plot rbfs\n",
    "plt.plot(rbf.centers, zeros(rbf.numCenters), 'gs')\n",
    "\n",
    "plt.xlim(-1.2, 1.2)\n",
    "plt.show()"
   ]
  },
  {
   "cell_type": "code",
   "execution_count": 8,
   "metadata": {},
   "outputs": [
    {
     "name": "stdout",
     "output_type": "stream",
     "text": [
      "(10089, 784)\n"
     ]
    },
    {
     "ename": "ValueError",
     "evalue": "sequence too large; cannot be greater than 32",
     "output_type": "error",
     "traceback": [
      "\u001b[1;31m---------------------------------------------------------------------------\u001b[0m",
      "\u001b[1;31mValueError\u001b[0m                                Traceback (most recent call last)",
      "\u001b[1;32m<ipython-input-8-48a0d9f5cd33>\u001b[0m in \u001b[0;36m<module>\u001b[1;34m()\u001b[0m\n\u001b[0;32m      3\u001b[0m \u001b[0mprint\u001b[0m\u001b[1;33m(\u001b[0m\u001b[0mtrain_x_3_9\u001b[0m\u001b[1;33m.\u001b[0m\u001b[0mshape\u001b[0m\u001b[1;33m)\u001b[0m\u001b[1;33m\u001b[0m\u001b[0m\n\u001b[0;32m      4\u001b[0m \u001b[1;33m\u001b[0m\u001b[0m\n\u001b[1;32m----> 5\u001b[1;33m \u001b[0msample_index\u001b[0m \u001b[1;33m=\u001b[0m \u001b[0mrandom\u001b[0m\u001b[1;33m.\u001b[0m\u001b[0msample\u001b[0m\u001b[1;33m(\u001b[0m\u001b[0mrange\u001b[0m\u001b[1;33m(\u001b[0m\u001b[0mtrain_x_3_9\u001b[0m\u001b[1;33m.\u001b[0m\u001b[0mshape\u001b[0m\u001b[1;33m[\u001b[0m\u001b[1;36m0\u001b[0m\u001b[1;33m]\u001b[0m\u001b[1;33m)\u001b[0m\u001b[1;33m)\u001b[0m\u001b[1;33m\u001b[0m\u001b[0m\n\u001b[0m\u001b[0;32m      6\u001b[0m \u001b[0mtrain_x_sam\u001b[0m \u001b[1;33m=\u001b[0m \u001b[0mtrain_x_3_9\u001b[0m\u001b[1;33m[\u001b[0m\u001b[0msample_index\u001b[0m\u001b[1;33m]\u001b[0m\u001b[1;33m\u001b[0m\u001b[0m\n\u001b[0;32m      7\u001b[0m \u001b[0mtrain_y_sam\u001b[0m \u001b[1;33m=\u001b[0m \u001b[0mtrain_y_3_9\u001b[0m\u001b[1;33m[\u001b[0m\u001b[0msample_index\u001b[0m\u001b[1;33m]\u001b[0m\u001b[1;33m\u001b[0m\u001b[0m\n",
      "\u001b[1;32mmtrand.pyx\u001b[0m in \u001b[0;36mmtrand.RandomState.random_sample\u001b[1;34m()\u001b[0m\n",
      "\u001b[1;32mmtrand.pyx\u001b[0m in \u001b[0;36mmtrand.cont0_array\u001b[1;34m()\u001b[0m\n",
      "\u001b[1;31mValueError\u001b[0m: sequence too large; cannot be greater than 32"
     ]
    }
   ],
   "source": [
    "train_x_3_9 = np.append(train_x[train_y == 3], train_x[train_y == 9], axis = 0)\n",
    "train_y_3_9 = np.append(train_y[train_y == 3], train_y[train_y == 9], axis = 0)\n",
    "print(train_x_3_9.shape)\n",
    "\n",
    "sample_index = random.sample(range(train_x_3_9.shape[0]))\n",
    "train_x_sam = train_x_3_9[sample_index]\n",
    "train_y_sam = train_y_3_9[sample_index]\n",
    "train_x_sam, train_y_sam = shuffle(train_x_sam, train_y_sam, random_state = 0)\n",
    "samples = train_x_sam.shape[0]\n",
    "print(train_x_sam.shape)\n",
    "print(train_y_sam.shape)"
   ]
  },
  {
   "cell_type": "code",
   "execution_count": 9,
   "metadata": {},
   "outputs": [],
   "source": [
    "X = train_x_sam\n",
    "Y = train_y_sam"
   ]
  },
  {
   "cell_type": "code",
   "execution_count": 8,
   "metadata": {},
   "outputs": [],
   "source": [
    "mu = X.mean(0) \n",
    "C = np.cov(X - mu, rowvar=False) \n",
    "d, u = np.linalg.eigh(C) \n",
    "U = u.T[::-1]\n",
    "Z_2 = np.dot(X-mu, U[:2].T)\n",
    "Z_3 = np.dot(X-mu, U[:2].T)"
   ]
  },
  {
   "cell_type": "code",
   "execution_count": null,
   "metadata": {},
   "outputs": [],
   "source": [
    "max_i = 0\n",
    "for i in range(train_):\n",
    "    if max_i < max(U[i]):\n",
    "        max_i = max(U[i])\n",
    "        print(max_i, i)\n",
    "print(max_i)"
   ]
  },
  {
   "cell_type": "code",
   "execution_count": null,
   "metadata": {},
   "outputs": [],
   "source": [
    "print(eig[0])\n",
    "print(eig[0].shape)\n",
    "eig_t = eig[1][0].reshape(1,eig[1][0].shape[0])\n",
    "print(eig[1][0].shape, eig_t.shape)"
   ]
  },
  {
   "cell_type": "code",
   "execution_count": null,
   "metadata": {},
   "outputs": [],
   "source": [
    "print(train_x_sam.shape)\n",
    "print(eig[1][0:2].T.shape)"
   ]
  },
  {
   "cell_type": "code",
   "execution_count": null,
   "metadata": {},
   "outputs": [],
   "source": [
    "eig_train = np.matmul(train_x_sam, eig[1].T)"
   ]
  },
  {
   "cell_type": "code",
   "execution_count": null,
   "metadata": {},
   "outputs": [],
   "source": [
    "eig_train.shape"
   ]
  },
  {
   "cell_type": "code",
   "execution_count": null,
   "metadata": {},
   "outputs": [],
   "source": [
    "k=10\n",
    "init_center = random.sample(range(samples),k)\n",
    "maximum_step = 30"
   ]
  },
  {
   "cell_type": "code",
   "execution_count": null,
   "metadata": {},
   "outputs": [],
   "source": [
    "centers = train_x_sam[init_center]\n",
    "\n",
    "for m in range(maximum_step):\n",
    "    labels = []\n",
    "    for i in range(samples):\n",
    "        min_dist = dist(train_x_sam[i], centers[0])\n",
    "        labels.append(0)\n",
    "        for c in range(1,k):\n",
    "            dist_x = dist(train_x_sam[i], centers[c])\n",
    "            if min_dist > dist_x:\n",
    "                min_dist = dist_x\n",
    "                labels[i] = c\n",
    "    for c in range(k):\n",
    "        centers[c] = train_x_sam[np.array(labels) == c].mean(axis = 0)\n",
    "    print(\"interation: \"+str(m+1))"
   ]
  },
  {
   "cell_type": "code",
   "execution_count": null,
   "metadata": {},
   "outputs": [],
   "source": [
    "prediction = df(data={'real_y': list(train_y_sam), 'predict_y':labels})\n",
    "prediction.to_csv(\"k_means_\"+str(k)+\".csv\", index=False, header=True, columns = ['real_y','predict_y'])"
   ]
  }
 ],
 "metadata": {
  "kernelspec": {
   "display_name": "Python 3",
   "language": "python",
   "name": "python3"
  },
  "language_info": {
   "codemirror_mode": {
    "name": "ipython",
    "version": 3
   },
   "file_extension": ".py",
   "mimetype": "text/x-python",
   "name": "python",
   "nbconvert_exporter": "python",
   "pygments_lexer": "ipython3",
   "version": "3.5.4"
  }
 },
 "nbformat": 4,
 "nbformat_minor": 2
}
