{
 "cells": [
  {
   "cell_type": "code",
   "execution_count": 1,
   "metadata": {},
   "outputs": [
    {
     "name": "stderr",
     "output_type": "stream",
     "text": [
      "Using TensorFlow backend.\n"
     ]
    }
   ],
   "source": [
    "import tensorflow as tf\n",
    "import pandas as pd\n",
    "import numpy as np\n",
    "import keras"
   ]
  },
  {
   "cell_type": "code",
   "execution_count": 12,
   "metadata": {},
   "outputs": [],
   "source": [
    "data1 = pd.read_csv(\"TCGA_GTEx_foundation_308_uncoupled_cancer.csv\")\n",
    "data0 = pd.read_csv(\"TCGA_GTEx_foundation_308_uncoupled_normal.csv\")\n",
    "data = pd.concat([data0,data1])\n",
    "data = data.sample(frac=1)\n",
    "x = data.drop([\"patient\",\"cancer_code\",\"result\"],axis=1)\n",
    "y = data.result"
   ]
  },
  {
   "cell_type": "code",
   "execution_count": 8,
   "metadata": {},
   "outputs": [],
   "source": [
    "from keras.layers import Input, Dense\n",
    "from keras.models import Model\n",
    "\n",
    "input_m1 = Input(shape=(308,))\n",
    "h1_m1 = Dense(200,activation='relu')(input_m1)\n",
    "h2_m1 = Dense(150,activation='relu')(h1_m1) \n",
    "h3_m1 = Dense(100,activation='relu')(h2_m1) \n",
    "h4_m1 = Dense(10,activation='relu')(h3_m1) \n",
    "output_m1 = Dense(1,activation=\"sigmoid\")(h4_m1) \n",
    "model1 = Model(inputs=input_m1,outputs=output_m1)"
   ]
  },
  {
   "cell_type": "code",
   "execution_count": 9,
   "metadata": {},
   "outputs": [
    {
     "name": "stdout",
     "output_type": "stream",
     "text": [
      "Epoch 1/10\n",
      "15263/15263 [==============================] - 6s 409us/step - loss: 0.0471 - acc: 0.9830\n",
      "Epoch 2/10\n",
      "15263/15263 [==============================] - 5s 352us/step - loss: 0.0152 - acc: 0.9953\n",
      "Epoch 3/10\n",
      "15263/15263 [==============================] - 5s 353us/step - loss: 0.0114 - acc: 0.9967\n",
      "Epoch 4/10\n",
      "15263/15263 [==============================] - 5s 354us/step - loss: 0.0093 - acc: 0.9971\n",
      "Epoch 5/10\n",
      "15263/15263 [==============================] - 5s 359us/step - loss: 0.0070 - acc: 0.9981\n",
      "Epoch 6/10\n",
      "15263/15263 [==============================] - 5s 358us/step - loss: 0.0089 - acc: 0.9971\n",
      "Epoch 7/10\n",
      "15263/15263 [==============================] - 6s 366us/step - loss: 0.0057 - acc: 0.9982\n",
      "Epoch 8/10\n",
      "15263/15263 [==============================] - 5s 353us/step - loss: 0.0063 - acc: 0.9979\n",
      "Epoch 9/10\n",
      "15263/15263 [==============================] - 6s 387us/step - loss: 0.0069 - acc: 0.9978\n",
      "Epoch 10/10\n",
      "15263/15263 [==============================] - 7s 434us/step - loss: 0.0038 - acc: 0.9990\n"
     ]
    }
   ],
   "source": [
    "model1.compile(optimizer='Adam', \n",
    "              loss='binary_crossentropy',\n",
    "              metrics=['accuracy'])\n",
    "model1.fit(x,  y, epochs=10)\n",
    "#model1.save('my_model.h5')"
   ]
  },
  {
   "cell_type": "code",
   "execution_count": 16,
   "metadata": {},
   "outputs": [],
   "source": [
    "data1 = pd.read_csv(\"TCGA_GTEx_foundation_308_coupled_unique_cancer.csv\")\n",
    "data0 = pd.read_csv(\"TCGA_GTEx_foundation_308_coupled_unique_normal.csv\")\n",
    "\n",
    "data = pd.concat([data0,data1])\n",
    "data = data.sample(frac=1)\n",
    "x = data.drop([\"patient\",\"cancer_code\",\"result\"],axis=1)\n",
    "y = data.result\n"
   ]
  },
  {
   "cell_type": "code",
   "execution_count": 17,
   "metadata": {},
   "outputs": [
    {
     "name": "stdout",
     "output_type": "stream",
     "text": [
      "600/600 [==============================] - 0s 153us/step\n"
     ]
    },
    {
     "data": {
      "text/plain": [
       "[4.2001478866495746e-05, 1.0]"
      ]
     },
     "execution_count": 17,
     "metadata": {},
     "output_type": "execute_result"
    }
   ],
   "source": [
    "model1.evaluate(x,y)"
   ]
  }
 ],
 "metadata": {
  "kernelspec": {
   "display_name": "Python 3",
   "language": "python",
   "name": "python3"
  },
  "language_info": {
   "codemirror_mode": {
    "name": "ipython",
    "version": 3
   },
   "file_extension": ".py",
   "mimetype": "text/x-python",
   "name": "python",
   "nbconvert_exporter": "python",
   "pygments_lexer": "ipython3",
   "version": "3.6.6"
  }
 },
 "nbformat": 4,
 "nbformat_minor": 2
}
