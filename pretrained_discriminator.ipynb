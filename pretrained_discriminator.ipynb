{
 "cells": [
  {
   "cell_type": "code",
   "execution_count": null,
   "metadata": {},
   "outputs": [],
   "source": [
    "import tensorflow as tf\n",
    "import pandas as pd\n",
    "import numpy as np\n",
    "import keras\n",
    "import random\n",
    "from sklearn.utils import shuffle"
   ]
  },
  {
   "cell_type": "code",
   "execution_count": 8,
   "metadata": {},
   "outputs": [],
   "source": [
    "def check_correct(predict, y):\n",
    "    result = {}\n",
    "    result['cancer-correct'] = 0\n",
    "    result['cancer-wrong'] = 0\n",
    "    result['normal-correct'] = 0\n",
    "    result['normal-wrong'] = 0\n",
    "\n",
    "    for i in range(len(predict)) :\n",
    "        if predict[i] == y[i] :\n",
    "            if y[i] == 0 :\n",
    "                result['normal-correct'] += 1\n",
    "            else :\n",
    "                result['cancer-correct'] += 1\n",
    "        else :\n",
    "            if y[i] == 0 :\n",
    "                result['normal-wrong'] += 1\n",
    "            else :\n",
    "                result['cancer-wrong'] += 1\n",
    "\n",
    "    #for result_k, result_v in result.items():\n",
    "        #print(result_k +\" : \"+ str(result_v))\n",
    "    sensitivity=result['cancer-correct']/(result['cancer-correct']+result['cancer-wrong'])\n",
    "    specificity=result['normal-correct']/(result['normal-correct']+result['normal-wrong'])\n",
    "    #print(\"Sensitivity :\", sensitivity)\n",
    "    #print(\"Specificity :\", specificity)\n",
    "    return sensitivity, specificity"
   ]
  },
  {
   "cell_type": "code",
   "execution_count": null,
   "metadata": {},
   "outputs": [],
   "source": [
    "path = \"C:/test/coupled/\"\n",
    "data1 = pd.read_csv(path+\"TCGA_GTEx_foundation_308_uncoupled_cancer.csv\")\n",
    "data0 = pd.read_csv(path+\"TCGA_GTEx_foundation_308_uncoupled_normal.csv\")\n",
    "data = pd.concat([data0,data1])\n",
    "data = data.sample(frac=1)\n",
    "x = data.drop([\"patient\",\"cancer_code\",\"result\"],axis=1)\n",
    "y = data.result\n",
    "x,y = shuffle(x, y, random_state = 0)"
   ]
  },
  {
   "cell_type": "code",
   "execution_count": 32,
   "metadata": {},
   "outputs": [],
   "source": [
    "data1_c = pd.read_csv(path+\"TCGA_GTEx_foundation_308_coupled_unique_cancer.csv\")\n",
    "data0_c = pd.read_csv(path+\"TCGA_GTEx_foundation_308_coupled_unique_normal.csv\")\n",
    "data1_c = data1_c.sample(frac = 1)\n",
    "x1_c = data1_c.drop([\"patient\",\"cancer_code\",\"result\"],axis=1)\n",
    "y1_c = data1_c.result\n",
    "data0_c = data0_c.sample(frac = 1)\n",
    "x0_c = data0_c.drop([\"patient\",\"cancer_code\",\"result\"],axis=1)\n",
    "y0_c = data0_c.result\n",
    "data_c = pd.concat([data0_c,data1_c])\n",
    "data_c = data_c.sample(frac=1)\n",
    "x_c = data_c.drop([\"patient\",\"cancer_code\",\"result\"],axis=1)\n",
    "y_c = data_c.result"
   ]
  },
  {
   "cell_type": "code",
   "execution_count": 33,
   "metadata": {},
   "outputs": [
    {
     "name": "stdout",
     "output_type": "stream",
     "text": [
      "(8023, 311)\n",
      "(7240, 311)\n",
      "(15263, 311)\n"
     ]
    }
   ],
   "source": [
    "print(data1.shape)\n",
    "print(data0.shape)\n",
    "print(data.shape)"
   ]
  },
  {
   "cell_type": "code",
   "execution_count": 29,
   "metadata": {},
   "outputs": [],
   "source": [
    "from keras.layers import Input, Dense\n",
    "from keras.models import Model\n",
    "\n",
    "input_m1 = Input(shape=(308,))\n",
    "h1_m1 = Dense(200,activation='relu')(input_m1)\n",
    "h2_m1 = Dense(150,activation='relu')(h1_m1) \n",
    "h3_m1 = Dense(100,activation='relu')(h2_m1) \n",
    "h4_m1 = Dense(10,activation='relu')(h3_m1) \n",
    "output_m1 = Dense(1,activation=\"sigmoid\")(h4_m1) \n",
    "model1 = Model(inputs=input_m1,outputs=output_m1)"
   ]
  },
  {
   "cell_type": "code",
   "execution_count": 30,
   "metadata": {},
   "outputs": [
    {
     "name": "stdout",
     "output_type": "stream",
     "text": [
      "Epoch 1/10\n",
      "15263/15263 [==============================] - 3s 207us/step - loss: 0.0441 - acc: 0.9855\n",
      "Epoch 2/10\n",
      "15263/15263 [==============================] - 2s 157us/step - loss: 0.0131 - acc: 0.9959\n",
      "Epoch 3/10\n",
      "15263/15263 [==============================] - 2s 159us/step - loss: 0.0106 - acc: 0.9969\n",
      "Epoch 4/10\n",
      "15263/15263 [==============================] - 2s 159us/step - loss: 0.0090 - acc: 0.9973\n",
      "Epoch 5/10\n",
      "15263/15263 [==============================] - 2s 157us/step - loss: 0.0083 - acc: 0.9973\n",
      "Epoch 6/10\n",
      "15263/15263 [==============================] - 2s 157us/step - loss: 0.0085 - acc: 0.9972\n",
      "Epoch 7/10\n",
      "15263/15263 [==============================] - 2s 158us/step - loss: 0.0052 - acc: 0.9984\n",
      "Epoch 8/10\n",
      "15263/15263 [==============================] - 2s 161us/step - loss: 0.0080 - acc: 0.9973\n",
      "Epoch 9/10\n",
      "15263/15263 [==============================] - 3s 170us/step - loss: 0.0032 - acc: 0.9991\n",
      "Epoch 10/10\n",
      "15263/15263 [==============================] - 2s 158us/step - loss: 0.0051 - acc: 0.9982\n"
     ]
    },
    {
     "data": {
      "text/plain": [
       "<keras.callbacks.History at 0x1bb078e6da0>"
      ]
     },
     "execution_count": 30,
     "metadata": {},
     "output_type": "execute_result"
    }
   ],
   "source": [
    "model1.compile(optimizer='Adam', \n",
    "              loss='binary_crossentropy',\n",
    "              metrics=['accuracy'])\n",
    "model1.fit(x,  y, epochs=10)\n",
    "\n",
    "#model1.save('my_model.h5')"
   ]
  },
  {
   "cell_type": "code",
   "execution_count": 35,
   "metadata": {},
   "outputs": [
    {
     "name": "stdout",
     "output_type": "stream",
     "text": [
      "600/600 [==============================] - 0s 300us/step\n",
      "[0.0012388796868617645, 1.0]\n",
      "600/600 [==============================] - 0s 52us/step\n",
      "[3.742867234547933, 0.255]\n"
     ]
    }
   ],
   "source": [
    "print(model1.evaluate(x1_c, y1_c))\n",
    "print(model1.evaluate(x0_c, y0_c))"
   ]
  },
  {
   "cell_type": "code",
   "execution_count": 22,
   "metadata": {},
   "outputs": [
    {
     "name": "stdout",
     "output_type": "stream",
     "text": [
      "(0.9588682537704101, 0.9259668508287293)\n",
      "(0.99, 0.9833333333333333)\n"
     ]
    }
   ],
   "source": [
    "predict_y = np.where(model1.predict(x) > 0.5, 1, 0).flatten()\n",
    "predict_y_c = np.where(model1.predict(x_c) > 0.5, 1, 0).flatten()\n",
    "print(check_correct(predict_y, list(y)))\n",
    "print(check_correct(predict_y_c, list(y_c)))"
   ]
  },
  {
   "cell_type": "code",
   "execution_count": 14,
   "metadata": {},
   "outputs": [
    {
     "data": {
      "text/plain": [
       "4800    0\n",
       "6050    1\n",
       "533     0\n",
       "6809    1\n",
       "5240    0\n",
       "4868    0\n",
       "894     1\n",
       "7531    1\n",
       "4094    0\n",
       "6505    0\n",
       "4331    0\n",
       "3387    0\n",
       "4595    1\n",
       "3086    0\n",
       "2284    1\n",
       "2648    1\n",
       "654     0\n",
       "1245    1\n",
       "85      1\n",
       "4674    0\n",
       "7777    1\n",
       "2252    1\n",
       "7472    1\n",
       "727     0\n",
       "7205    1\n",
       "19      1\n",
       "4469    1\n",
       "1205    0\n",
       "2760    1\n",
       "4509    0\n",
       "       ..\n",
       "6072    0\n",
       "1136    0\n",
       "5740    1\n",
       "4034    0\n",
       "2194    1\n",
       "4231    0\n",
       "5313    0\n",
       "2745    0\n",
       "4673    1\n",
       "2172    0\n",
       "6560    1\n",
       "6039    0\n",
       "5999    1\n",
       "6851    0\n",
       "308     0\n",
       "1260    0\n",
       "3725    1\n",
       "3658    0\n",
       "4694    1\n",
       "4746    1\n",
       "3645    0\n",
       "3967    1\n",
       "3875    1\n",
       "1222    1\n",
       "7222    1\n",
       "4822    0\n",
       "6599    0\n",
       "6992    0\n",
       "188     1\n",
       "2791    0\n",
       "Name: result, Length: 15263, dtype: int64"
      ]
     },
     "execution_count": 14,
     "metadata": {},
     "output_type": "execute_result"
    }
   ],
   "source": [
    "y"
   ]
  },
  {
   "cell_type": "code",
   "execution_count": null,
   "metadata": {},
   "outputs": [],
   "source": []
  }
 ],
 "metadata": {
  "kernelspec": {
   "display_name": "Python 3",
   "language": "python",
   "name": "python3"
  },
  "language_info": {
   "codemirror_mode": {
    "name": "ipython",
    "version": 3
   },
   "file_extension": ".py",
   "mimetype": "text/x-python",
   "name": "python",
   "nbconvert_exporter": "python",
   "pygments_lexer": "ipython3",
   "version": "3.5.4"
  }
 },
 "nbformat": 4,
 "nbformat_minor": 2
}
