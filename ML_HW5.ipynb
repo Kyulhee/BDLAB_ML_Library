{
 "cells": [
  {
   "cell_type": "code",
   "execution_count": 31,
   "metadata": {},
   "outputs": [],
   "source": [
    "import six.moves.cPickle as pickle\n",
    "import gzip\n",
    "import os\n",
    "import math\n",
    "import numpy as np\n",
    "import numpy.linalg as lin\n",
    "import scipy.misc\n",
    "from __future__ import division\n",
    "import collections\n",
    "from collections import Counter\n",
    "import random\n",
    "import pandas as pd\n",
    "from pandas import DataFrame as df\n",
    "from sklearn.utils import shuffle\n",
    "from scipy import *\n",
    "from scipy.linalg import norm, pinv\n",
    "import tensorflow as tf"
   ]
  },
  {
   "cell_type": "code",
   "execution_count": 4,
   "metadata": {},
   "outputs": [],
   "source": [
    "def load_data(dataset):\n",
    "    ''' Loads the dataset\n",
    "\n",
    "    :type dataset: string\n",
    "    :param dataset: the path to the dataset (here MNIST)\n",
    "    \n",
    "    copied from http://deeplearning.net/ and revised by hchoi\n",
    "    '''\n",
    "    # Download the MNIST dataset if it is not present\n",
    "    data_dir, data_file = os.path.split(dataset)\n",
    "    if data_dir == \"\" and not os.path.isfile(dataset):\n",
    "        # Check if dataset is in the data directory.\n",
    "        new_path = os.path.join(\n",
    "            os.path.split(__file__)[0],\n",
    "            dataset\n",
    "        )\n",
    "        if os.path.isfile(new_path) or data_file == 'mnist.pkl.gz':\n",
    "            dataset = new_path\n",
    "\n",
    "    if (not os.path.isfile(dataset)) and data_file == 'mnist.pkl.gz':\n",
    "        from six.moves import urllib\n",
    "        origin = (\n",
    "            'http://www.iro.umontreal.ca/~lisa/deep/data/mnist/mnist.pkl.gz'\n",
    "        )\n",
    "        print('Downloading data from %s' % origin)\n",
    "        urllib.request.urlretrieve(origin, dataset)\n",
    "\n",
    "    print('... loading data')\n",
    "\n",
    "    # Load the dataset\n",
    "    with gzip.open(dataset, 'rb') as f:\n",
    "        try:\n",
    "            train_set, valid_set, test_set = pickle.load(f, encoding='latin1')\n",
    "        except:\n",
    "            train_set, valid_set, test_set = pickle.load(f)\n",
    "    # train_set, valid_set, test_set format: tuple(input, target)\n",
    "    # input is a numpy.ndarray of 2 dimensions (a matrix)\n",
    "    # where each row corresponds to an example. target is a\n",
    "    # numpy.ndarray of 1 dimension (vector) that has the same length as\n",
    "    # the number of rows in the input. It should give the target\n",
    "    # to the example with the same index in the input.\n",
    "\n",
    "    return train_set, valid_set, test_set"
   ]
  },
  {
   "cell_type": "code",
   "execution_count": 32,
   "metadata": {},
   "outputs": [
    {
     "name": "stdout",
     "output_type": "stream",
     "text": [
      "... loading data\n",
      "(50000, 784)\n",
      "(50000, 10)\n"
     ]
    }
   ],
   "source": [
    "train_set, val_set, test_set = load_data('C:/test/mnist.pkl.gz')\n",
    "\n",
    "train_x, train_y = train_set\n",
    "val_x, val_y = val_set\n",
    "test_x, test_y = test_set\n",
    "\n",
    "train_y = pd.get_dummies(train_y)\n",
    "test_y = pd.get_dummies(test_y)\n",
    "\n",
    "print(train_x.shape) # 50k * 784\n",
    "print(train_y.shape) # 50k\n",
    "\n",
    "'''\n",
    "for i in range(100):\n",
    "    samp_img = train_x[i].reshape((28, 28))\n",
    "    scipy.misc.imsave('test'+str(i)+'.jpg', samp_img)\n",
    "    print(train_y[i])\n",
    "'''        \n",
    "\n",
    "save_path = \"G:/내 드라이브/Class/8th/ML\\HW1/\""
   ]
  },
  {
   "cell_type": "code",
   "execution_count": 39,
   "metadata": {},
   "outputs": [],
   "source": [
    "train_x_sam = train_x[0:5000,:]\n",
    "train_y_sam = train_y[0:5000]\n",
    "test_x_sam = test_x[0:500,:]\n",
    "test_y_sam = test_y[0:500]"
   ]
  },
  {
   "cell_type": "code",
   "execution_count": 51,
   "metadata": {},
   "outputs": [
    {
     "data": {
      "text/plain": [
       "array([[0., 0., 0., ..., 0., 0., 0.],\n",
       "       [0., 0., 0., ..., 0., 0., 0.],\n",
       "       [0., 0., 0., ..., 0., 0., 0.],\n",
       "       ...,\n",
       "       [0., 0., 0., ..., 0., 0., 0.],\n",
       "       [0., 0., 0., ..., 0., 0., 0.],\n",
       "       [0., 0., 0., ..., 0., 0., 0.]], dtype=float32)"
      ]
     },
     "execution_count": 51,
     "metadata": {},
     "output_type": "execute_result"
    }
   ],
   "source": [
    "train_x_sam"
   ]
  },
  {
   "cell_type": "code",
   "execution_count": 16,
   "metadata": {},
   "outputs": [],
   "source": [
    "X = tf.placeholder(tf.float32, [None, 784])\n",
    "W = tf.Variable(tf.zeros([784, 10]))\n",
    "b = tf.Variable(tf.zeros([10]))\n",
    "y = tf.placeholder(tf.float32, [None, 10])\n",
    "lr = 0.05"
   ]
  },
  {
   "cell_type": "code",
   "execution_count": 24,
   "metadata": {},
   "outputs": [],
   "source": [
    "activation = tf.nn.softmax(tf.matmul(X, W) + b)"
   ]
  },
  {
   "cell_type": "code",
   "execution_count": 25,
   "metadata": {},
   "outputs": [],
   "source": [
    "cost = -tf.reduce_sum(y*tf.log(activation))"
   ]
  },
  {
   "cell_type": "code",
   "execution_count": 26,
   "metadata": {},
   "outputs": [],
   "source": [
    "optimizer = tf.train.GradientDescentOptimizer(lr).minimize(cost)"
   ]
  },
  {
   "cell_type": "code",
   "execution_count": 27,
   "metadata": {},
   "outputs": [],
   "source": [
    "init = tf.global_variables_initializer()"
   ]
  },
  {
   "cell_type": "code",
   "execution_count": 28,
   "metadata": {},
   "outputs": [],
   "source": [
    "sess = tf.Session()\n",
    "sess.run(init)"
   ]
  },
  {
   "cell_type": "code",
   "execution_count": 43,
   "metadata": {},
   "outputs": [],
   "source": [
    "epochs = 10\n",
    "batch_size = 100"
   ]
  },
  {
   "cell_type": "code",
   "execution_count": 53,
   "metadata": {},
   "outputs": [],
   "source": [
    "sess.run(optimizer, feed_dict = {X : batch_xs, y : batch_ys})"
   ]
  },
  {
   "cell_type": "code",
   "execution_count": null,
   "metadata": {},
   "outputs": [
    {
     "name": "stdout",
     "output_type": "stream",
     "text": [
      "train accuracy: 0.0958\n",
      "train accuracy: 0.0958\n"
     ]
    }
   ],
   "source": [
    "for e in range(epochs):\n",
    "    batch_count = int(train_x_sam.shape[0]/batch_size)\n",
    "    \n",
    "    for i in range(batch_count):\n",
    "        batch_xs, batch_ys = train_x_sam[i*batch_size:i*batch_size+batch_size], train_y_sam[i*batch_size:i*batch_size+batch_size] \n",
    "        sess.run(optimizer, feed_dict = {X : batch_xs, y : batch_ys})\n",
    "        correct_prediction = tf.equal(tf.argmax(activation,1), tf.argmax(y,1))\n",
    "        accuracy = tf.reduce_mean(tf.cast(correct_prediction, \"float\"))\n",
    "        \n",
    "    print(\"train accuracy: \"+str(sess.run(accuracy, feed_dict={X: train_x_sam, y: train_y_sam})))"
   ]
  },
  {
   "cell_type": "code",
   "execution_count": 14,
   "metadata": {},
   "outputs": [
    {
     "name": "stdout",
     "output_type": "stream",
     "text": [
      "(10089, 784)\n"
     ]
    },
    {
     "ename": "TypeError",
     "evalue": "random_sample() takes at most 1 positional argument (2 given)",
     "output_type": "error",
     "traceback": [
      "\u001b[1;31m---------------------------------------------------------------------------\u001b[0m",
      "\u001b[1;31mTypeError\u001b[0m                                 Traceback (most recent call last)",
      "\u001b[1;32m<ipython-input-14-8d370a8bb811>\u001b[0m in \u001b[0;36m<module>\u001b[1;34m()\u001b[0m\n\u001b[0;32m      3\u001b[0m \u001b[0mprint\u001b[0m\u001b[1;33m(\u001b[0m\u001b[0mtrain_x_3_9\u001b[0m\u001b[1;33m.\u001b[0m\u001b[0mshape\u001b[0m\u001b[1;33m)\u001b[0m\u001b[1;33m\u001b[0m\u001b[0m\n\u001b[0;32m      4\u001b[0m \u001b[1;33m\u001b[0m\u001b[0m\n\u001b[1;32m----> 5\u001b[1;33m \u001b[0msample_index\u001b[0m \u001b[1;33m=\u001b[0m \u001b[0mrandom\u001b[0m\u001b[1;33m.\u001b[0m\u001b[0msample\u001b[0m\u001b[1;33m(\u001b[0m\u001b[0mrange\u001b[0m\u001b[1;33m(\u001b[0m\u001b[0mtrain_x_3_9\u001b[0m\u001b[1;33m.\u001b[0m\u001b[0mshape\u001b[0m\u001b[1;33m[\u001b[0m\u001b[1;36m0\u001b[0m\u001b[1;33m]\u001b[0m\u001b[1;33m)\u001b[0m\u001b[1;33m,\u001b[0m \u001b[1;36m5000\u001b[0m\u001b[1;33m)\u001b[0m\u001b[1;33m\u001b[0m\u001b[0m\n\u001b[0m\u001b[0;32m      6\u001b[0m \u001b[0mtrain_x_sam\u001b[0m \u001b[1;33m=\u001b[0m \u001b[0mtrain_x_3_9\u001b[0m\u001b[1;33m[\u001b[0m\u001b[0msample_index\u001b[0m\u001b[1;33m]\u001b[0m\u001b[1;33m\u001b[0m\u001b[0m\n\u001b[0;32m      7\u001b[0m \u001b[0mtrain_y_sam\u001b[0m \u001b[1;33m=\u001b[0m \u001b[0mtrain_y_3_9\u001b[0m\u001b[1;33m[\u001b[0m\u001b[0msample_index\u001b[0m\u001b[1;33m]\u001b[0m\u001b[1;33m\u001b[0m\u001b[0m\n",
      "\u001b[1;32mmtrand.pyx\u001b[0m in \u001b[0;36mmtrand.RandomState.random_sample\u001b[1;34m()\u001b[0m\n",
      "\u001b[1;31mTypeError\u001b[0m: random_sample() takes at most 1 positional argument (2 given)"
     ]
    }
   ],
   "source": [
    "train_x_3_9 = np.append(train_x[train_y == 3], train_x[train_y == 9], axis = 0)\n",
    "train_y_3_9 = np.append(train_y[train_y == 3], train_y[train_y == 9], axis = 0)\n",
    "print(train_x_3_9.shape)\n",
    "\n",
    "sample_index = random.sample(range(train_x_3_9.shape[0]), 5000)\n",
    "train_x_sam = train_x_3_9[sample_index]\n",
    "train_y_sam = train_y_3_9[sample_index]\n",
    "train_x_sam, train_y_sam = shuffle(train_x_sam, train_y_sam, random_state = 0)\n",
    "samples = train_x_sam.shape[0]\n",
    "print(train_x_sam.shape)\n",
    "print(train_y_sam.shape)"
   ]
  },
  {
   "cell_type": "code",
   "execution_count": 9,
   "metadata": {},
   "outputs": [],
   "source": [
    "X = train_x_sam\n",
    "Y = train_y_sam"
   ]
  },
  {
   "cell_type": "code",
   "execution_count": 8,
   "metadata": {},
   "outputs": [],
   "source": [
    "mu = X.mean(0) \n",
    "C = np.cov(X - mu, rowvar=False) \n",
    "d, u = np.linalg.eigh(C) \n",
    "U = u.T[::-1]\n",
    "Z_2 = np.dot(X-mu, U[:2].T)\n",
    "Z_3 = np.dot(X-mu, U[:2].T)"
   ]
  },
  {
   "cell_type": "code",
   "execution_count": null,
   "metadata": {},
   "outputs": [],
   "source": [
    "max_i = 0\n",
    "for i in range(train_):\n",
    "    if max_i < max(U[i]):\n",
    "        max_i = max(U[i])\n",
    "        print(max_i, i)\n",
    "print(max_i)"
   ]
  },
  {
   "cell_type": "code",
   "execution_count": null,
   "metadata": {},
   "outputs": [],
   "source": [
    "print(eig[0])\n",
    "print(eig[0].shape)\n",
    "eig_t = eig[1][0].reshape(1,eig[1][0].shape[0])\n",
    "print(eig[1][0].shape, eig_t.shape)"
   ]
  },
  {
   "cell_type": "code",
   "execution_count": null,
   "metadata": {},
   "outputs": [],
   "source": [
    "print(train_x_sam.shape)\n",
    "print(eig[1][0:2].T.shape)"
   ]
  },
  {
   "cell_type": "code",
   "execution_count": null,
   "metadata": {},
   "outputs": [],
   "source": [
    "eig_train = np.matmul(train_x_sam, eig[1].T)"
   ]
  },
  {
   "cell_type": "code",
   "execution_count": null,
   "metadata": {},
   "outputs": [],
   "source": [
    "eig_train.shape"
   ]
  },
  {
   "cell_type": "code",
   "execution_count": null,
   "metadata": {},
   "outputs": [],
   "source": [
    "k=10\n",
    "init_center = random.sample(range(samples),k)\n",
    "maximum_step = 30"
   ]
  },
  {
   "cell_type": "code",
   "execution_count": null,
   "metadata": {},
   "outputs": [],
   "source": [
    "centers = train_x_sam[init_center]\n",
    "\n",
    "for m in range(maximum_step):\n",
    "    labels = []\n",
    "    for i in range(samples):\n",
    "        min_dist = dist(train_x_sam[i], centers[0])\n",
    "        labels.append(0)\n",
    "        for c in range(1,k):\n",
    "            dist_x = dist(train_x_sam[i], centers[c])\n",
    "            if min_dist > dist_x:\n",
    "                min_dist = dist_x\n",
    "                labels[i] = c\n",
    "    for c in range(k):\n",
    "        centers[c] = train_x_sam[np.array(labels) == c].mean(axis = 0)\n",
    "    print(\"interation: \"+str(m+1))"
   ]
  },
  {
   "cell_type": "code",
   "execution_count": null,
   "metadata": {},
   "outputs": [],
   "source": [
    "prediction = df(data={'real_y': list(train_y_sam), 'predict_y':labels})\n",
    "prediction.to_csv(\"k_means_\"+str(k)+\".csv\", index=False, header=True, columns = ['real_y','predict_y'])"
   ]
  }
 ],
 "metadata": {
  "kernelspec": {
   "display_name": "Python 3",
   "language": "python",
   "name": "python3"
  },
  "language_info": {
   "codemirror_mode": {
    "name": "ipython",
    "version": 3
   },
   "file_extension": ".py",
   "mimetype": "text/x-python",
   "name": "python",
   "nbconvert_exporter": "python",
   "pygments_lexer": "ipython3",
   "version": "3.5.4"
  }
 },
 "nbformat": 4,
 "nbformat_minor": 2
}
