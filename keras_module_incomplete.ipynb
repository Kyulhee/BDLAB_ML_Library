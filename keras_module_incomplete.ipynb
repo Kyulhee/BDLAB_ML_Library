{
 "cells": [
  {
   "cell_type": "code",
   "execution_count": null,
   "metadata": {},
   "outputs": [],
   "source": [
    "#return 순서: 마지막 레이어(t-ensemble용), 학습 완료한 model, tr, ts predictions, tr accuracy, sensitivity, specificity, ts accuracy, sensitivity, specificity], \n",
    "\n",
    "def train_early_stopping_model(DataFrame x_val, pandas.core.series.Series y_val, \n",
    "                               pandas.core.frame.DataFrame test_x_val, pandas.core.series.Series test_y_val,\n",
    "                               list layers, int drop_out, int input_drop_out, int learn_rate, int count, int batch_size):\n",
    "\n",
    "    tr_loss_best = 100\n",
    "    cnt=0\n",
    "    best_model=[]\n",
    "    features = shape(x_val)[1]\n",
    "    input_layer = Input(shape=(features,))\n",
    "    m_dp = Dropout(input_drop_out)(input_layer)\n",
    "\n",
    "    for i in layers:\n",
    "        m_layer = Dense(i,activation='relu')(m_dp)\n",
    "        m_dp = Dropout(drop_out)(m_layer)\n",
    "\n",
    "    final_layer = m_dp\n",
    "    output_layer = Dense(1, activation=\"sigmoid\")(final_layer)\n",
    "    model_final = Model(inputs=input_layer,outputs=output_layer)\n",
    "    model_final.compile(optimizer=tf.train.AdamOptimizer(learning_rate=learn_rate), \n",
    "                        loss='binary_crossentropy',\n",
    "                        metrics=['accuracy'])\n",
    "    while 1:\n",
    "        model_final.fit(x_val, y_val, batch_size=batch_size, nb_epoch=1)\n",
    "        tr_loss=model_final.evaluate(x_val,y_val)[0]\n",
    "        if tr_loss < tr_loss_best:\n",
    "            tr_loss_best = tr_loss\n",
    "            count=0\n",
    "            best_model = model_final\n",
    "        else if cnt>count:\n",
    "            model_final = best_model\n",
    "            break\n",
    "        else: cnt=cnt+1\n",
    "\n",
    "    tr_accuracy=model_final.evaluate(x_val,y_val)[1]\n",
    "    ts_accuracy= model_final.evaluate(test_x_val,test_y_val)[1]\n",
    "\n",
    "    tr_predictions = model_final.predict(x_val)\n",
    "    tr_labeled_predictions = np.where(tr_predictions > 0.5, 1, 0).flatten()\n",
    "    tr_sensitivity, tr_specificity = check_correct(tr_labeled_predictions, y_val)\n",
    "\n",
    "    ts_predictions = model_final.predict(test_x_val)\n",
    "    ts_labeled_predictions = np.where(ts_predictions > 0.5, 1, 0).flatten()\n",
    "    ts_sensitivity, ts_specificity = check_correct(ts_labeled_predictions, test_y_val)\n",
    "    \n",
    "    return final_layer, model_final, tr_predictions, ts_predictions, tr_accuracy, tr_sensitivity, tr_specificity, ts_accuracy, ts_sensitivity, ts_specificity\n",
    "\n"
   ]
  }
 ],
 "metadata": {
  "kernelspec": {
   "display_name": "Python 3",
   "language": "python",
   "name": "python3"
  },
  "language_info": {
   "codemirror_mode": {
    "name": "ipython",
    "version": 3
   },
   "file_extension": ".py",
   "mimetype": "text/x-python",
   "name": "python",
   "nbconvert_exporter": "python",
   "pygments_lexer": "ipython3",
   "version": "3.5.4"
  }
 },
 "nbformat": 4,
 "nbformat_minor": 2
}
