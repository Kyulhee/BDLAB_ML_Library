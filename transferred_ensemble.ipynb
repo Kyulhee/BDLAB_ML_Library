{
 "cells": [
  {
   "cell_type": "markdown",
   "metadata": {},
   "source": [
    "## Importing Library"
   ]
  },
  {
   "cell_type": "code",
   "execution_count": 54,
   "metadata": {},
   "outputs": [
    {
     "name": "stdout",
     "output_type": "stream",
     "text": [
      "1.5.0\n"
     ]
    }
   ],
   "source": [
    "# prediction\n",
    "def check_correct(predict, y):\n",
    "    result = {}\n",
    "    result['cancer-correct'] = 0\n",
    "    result['cancer-wrong'] = 0\n",
    "    result['normal-correct'] = 0\n",
    "    result['normal-wrong'] = 0\n",
    "\n",
    "    for i in range(len(predict)) :\n",
    "        if predict[i] == y[i] :\n",
    "            if y[i] == 0 :\n",
    "                result['normal-correct'] += 1\n",
    "            else :\n",
    "                result['cancer-correct'] += 1\n",
    "        else :\n",
    "            if y[i] == 0 :\n",
    "                result['normal-wrong'] += 1\n",
    "            else :\n",
    "                result['cancer-wrong'] += 1\n",
    "\n",
    "    for result_k, result_v in result.items():\n",
    "        print(result_k +\" : \"+ str(result_v))\n",
    "    sensitivity=result['cancer-correct']/(result['cancer-correct']+result['cancer-wrong'])\n",
    "    specificity=result['normal-correct']/(result['normal-correct']+result['normal-wrong'])\n",
    "    print(\"Sensitivity :\", sensitivity)\n",
    "    print(\"Specificity :\", specificity)\n",
    "    return sensitivity, specificity\n",
    "\n",
    "# TensorFlow and tf.keras\n",
    "import tensorflow as tf\n",
    "from tensorflow import keras\n",
    "from keras import backend as K\n",
    "from keras.models import Sequential \n",
    "from keras.layers import Dropout\n",
    "from keras.callbacks import EarlyStopping\n",
    "early_stopping = EarlyStopping(patience=10)\n",
    "\n",
    "# Helper libraries\n",
    "import numpy as np\n",
    "import pandas as pd\n",
    "import matplotlib.pyplot as plt\n",
    "from sklearn.model_selection import train_test_split\n",
    "\n",
    "print(tf.__version__)"
   ]
  },
  {
   "cell_type": "markdown",
   "metadata": {},
   "source": [
    "## Import Data"
   ]
  },
  {
   "cell_type": "code",
   "execution_count": 55,
   "metadata": {},
   "outputs": [
    {
     "name": "stdout",
     "output_type": "stream",
     "text": [
      "[1] file_name:  C://test/TC_intersect_subsamples/inter_OV_CV_400.csv \n",
      "sample : 196  \n",
      "features : 402\n",
      "[2] file_name:  C://test/TC_intersect_subsamples/inter_OV_Clin.csv \n",
      "sample : 196  \n",
      "features : 37\n",
      "[3] file_name:  C://test/TC_intersect_subsamples/inter_OV_SNV_ch.csv \n",
      "sample : 196  \n",
      "features : 284\n"
     ]
    },
    {
     "data": {
      "text/plain": [
       "'\\nprint(\"[4] file_name: \", file_4, \"\\nsample : {}  \\nfeatures : {}\".format(sample_4,features_4))\\nprint(\"[5] file_name: \", file_5, \"\\nsample : {}  \\nfeatures : {}\".format(sample_5,features_5))\\nprint(\"[6] file_name: \", file_6, \"\\nsample : {}  \\nfeatures : {}\".format(sample_6,features_6))\\n'"
      ]
     },
     "execution_count": 55,
     "metadata": {},
     "output_type": "execute_result"
    }
   ],
   "source": [
    "path = \"C://test/TC_intersect_subsamples/\"\n",
    "types = [\"inter_OV_Var_200\", \"inter_OV_Annotation3000_100\", \n",
    "         \"inter_OV_CV_400\", \"inter_OV_new_Diff_400\",\n",
    "         \"inter_OV_Clin\", \n",
    "         \"inter_OV_SNV_ch\" \n",
    "         ]\n",
    "nodes = [[150, 150, 150, 150],\n",
    "         [150, 200, 200, 150],\n",
    "         [150, 200, 300, 400],\n",
    "         [200, 200, 200],\n",
    "         [150, 200, 250],\n",
    "         [200, 200, 200]\n",
    "        ]\n",
    "batches = [10,5,10,10,5,5]\n",
    "rates = [0.0005, 0.001, 0.001, 0.001, 0.01, 0.01]\n",
    "\n",
    "file_1 = path+types[2]+\".csv\"\n",
    "file_2 = path+types[4]+\".csv\"\n",
    "file_3 = path+types[5]+\".csv\"\n",
    "batch_1, batch_2, batch_3 = batches[0], batches[1], batches[2]\n",
    "node_1, node_2, node_3 = nodes[0],nodes[1],nodes[2]\n",
    "rate_1, rate_2, rate_3 = rates[0],rates[1],rates[2]\n",
    "\n",
    "\n",
    "'''\n",
    "file_4 = path+types[3]+\".csv\"\n",
    "file_5 = path+types[4]+\".csv\"\n",
    "file_6 = path+types[5]+\".csv\"\n",
    "'''\n",
    "\n",
    "idx_col = 0\n",
    "\n",
    "data_1 = pd.read_csv(file_1,index_col=idx_col)\n",
    "data_2 = pd.read_csv(file_2,index_col=idx_col)\n",
    "data_3 = pd.read_csv(file_3,index_col=idx_col)\n",
    "'''\n",
    "data_4 = pd.read_csv(file_4,index_col=idx_col)\n",
    "data_5 = pd.read_csv(file_5,index_col=idx_col)\n",
    "data_6 = pd.read_csv(file_6,index_col=idx_col)\n",
    "'''\n",
    "\n",
    "sample_1,features_1 = data_1.shape\n",
    "sample_2,features_2 = data_2.shape\n",
    "sample_3,features_3 = data_3.shape\n",
    "'''\n",
    "sample_4,features_4 = data_4.shape\n",
    "sample_5,features_5 = data_5.shape\n",
    "sample_6,features_6 = data_6.shape\n",
    "'''\n",
    "\n",
    "print(\"[1] file_name: \", file_1, \"\\nsample : {}  \\nfeatures : {}\".format(sample_1,features_1))\n",
    "print(\"[2] file_name: \", file_2, \"\\nsample : {}  \\nfeatures : {}\".format(sample_2,features_2))\n",
    "print(\"[3] file_name: \", file_3, \"\\nsample : {}  \\nfeatures : {}\".format(sample_3,features_3))\n",
    "'''\n",
    "print(\"[4] file_name: \", file_4, \"\\nsample : {}  \\nfeatures : {}\".format(sample_4,features_4))\n",
    "print(\"[5] file_name: \", file_5, \"\\nsample : {}  \\nfeatures : {}\".format(sample_5,features_5))\n",
    "print(\"[6] file_name: \", file_6, \"\\nsample : {}  \\nfeatures : {}\".format(sample_6,features_6))\n",
    "'''"
   ]
  },
  {
   "cell_type": "markdown",
   "metadata": {},
   "source": [
    "## Split Train Test Data"
   ]
  },
  {
   "cell_type": "code",
   "execution_count": 56,
   "metadata": {},
   "outputs": [
    {
     "data": {
      "text/plain": [
       "'\\ntrain_data_4,test_data_4 = train_test_split(data_4, test_size=0.2)\\ny_val_4 = train_data_4.Platinum_Status\\nx_val_4 = train_data_4.drop([\"Platinum_Status\",\"index\"],axis=1)\\ntest_y_val_4 = test_data_4.Platinum_Status\\ntest_x_val_4 = test_data_4.drop([\"Platinum_Status\",\"index\"],axis=1)\\n\\ntrain_data_5,test_data_5 = train_test_split(data_5, test_size=0.2)\\ny_val_5 = train_data_5.Platinum_Status\\nx_val_5 = train_data_5.drop([\"Platinum_Status\",\"index\"],axis=1)\\ntest_y_val_5 = test_data_5.Platinum_Status\\ntest_x_val_5 = test_data_5.drop([\"Platinum_Status\",\"index\"],axis=1)\\n\\ntrain_data_6,test_data_6 = train_test_split(data_6, test_size=0.2)\\ny_val_6 = train_data_6.Platinum_Status\\nx_val_6 = train_data_6.drop([\"Platinum_Status\",\"index\"],axis=1)\\ntest_y_val_6 = test_data_6.Platinum_Status\\ntest_x_val_6 = test_data_6.drop([\"Platinum_Status\",\"index\"],axis=1)\\n'"
      ]
     },
     "execution_count": 56,
     "metadata": {},
     "output_type": "execute_result"
    }
   ],
   "source": [
    "train_data_1,test_data_1 = train_test_split(data_1, test_size=0.2)\n",
    "y_val_1 = train_data_1.Platinum_Status\n",
    "x_val_1 = train_data_1.drop([\"Platinum_Status\",\"index\"],axis=1)\n",
    "test_y_val_1 = test_data_1.Platinum_Status\n",
    "test_x_val_1 = test_data_1.drop([\"Platinum_Status\",\"index\"],axis=1)\n",
    "\n",
    "train_data_2,test_data_2 = train_test_split(data_2, test_size=0.2)\n",
    "y_val_2 = train_data_2.Platinum_Status\n",
    "x_val_2 = train_data_2.drop([\"Platinum_Status\",\"index\"],axis=1)\n",
    "test_y_val_2 = test_data_2.Platinum_Status\n",
    "test_x_val_2 = test_data_2.drop([\"Platinum_Status\",\"index\"],axis=1)\n",
    "\n",
    "train_data_3,test_data_3 = train_test_split(data_3, test_size=0.2)\n",
    "y_val_3 = train_data_3.Platinum_Status\n",
    "x_val_3 = train_data_3.drop([\"Platinum_Status\",\"index\"],axis=1)\n",
    "test_y_val_3 = test_data_3.Platinum_Status\n",
    "test_x_val_3 = test_data_3.drop([\"Platinum_Status\",\"index\"],axis=1)\n",
    "\n",
    "'''\n",
    "train_data_4,test_data_4 = train_test_split(data_4, test_size=0.2)\n",
    "y_val_4 = train_data_4.Platinum_Status\n",
    "x_val_4 = train_data_4.drop([\"Platinum_Status\",\"index\"],axis=1)\n",
    "test_y_val_4 = test_data_4.Platinum_Status\n",
    "test_x_val_4 = test_data_4.drop([\"Platinum_Status\",\"index\"],axis=1)\n",
    "\n",
    "train_data_5,test_data_5 = train_test_split(data_5, test_size=0.2)\n",
    "y_val_5 = train_data_5.Platinum_Status\n",
    "x_val_5 = train_data_5.drop([\"Platinum_Status\",\"index\"],axis=1)\n",
    "test_y_val_5 = test_data_5.Platinum_Status\n",
    "test_x_val_5 = test_data_5.drop([\"Platinum_Status\",\"index\"],axis=1)\n",
    "\n",
    "train_data_6,test_data_6 = train_test_split(data_6, test_size=0.2)\n",
    "y_val_6 = train_data_6.Platinum_Status\n",
    "x_val_6 = train_data_6.drop([\"Platinum_Status\",\"index\"],axis=1)\n",
    "test_y_val_6 = test_data_6.Platinum_Status\n",
    "test_x_val_6 = test_data_6.drop([\"Platinum_Status\",\"index\"],axis=1)\n",
    "'''"
   ]
  },
  {
   "cell_type": "markdown",
   "metadata": {},
   "source": [
    "## Modeling Seperate Model"
   ]
  },
  {
   "cell_type": "markdown",
   "metadata": {},
   "source": [
    "###  Building seperate model for ensemble(model 1, 2, 3)"
   ]
  },
  {
   "cell_type": "code",
   "execution_count": 57,
   "metadata": {},
   "outputs": [
    {
     "name": "stdout",
     "output_type": "stream",
     "text": [
      "402 37 284\n"
     ]
    }
   ],
   "source": [
    "print(features_1, features_2, features_3)"
   ]
  },
  {
   "cell_type": "code",
   "execution_count": 84,
   "metadata": {
    "scrolled": true
   },
   "outputs": [
    {
     "name": "stdout",
     "output_type": "stream",
     "text": [
      "<keras.callbacks.EarlyStopping object at 0x00000212A1C53160>\n",
      "Epoch 1/13\n",
      "156/156 [==============================] - 4s 24ms/step - loss: 0.7322 - acc: 0.5256\n",
      "Epoch 2/13\n",
      "120/156 [======================>.......] - ETA: 0s - loss: 0.8169 - acc: 0.4833"
     ]
    },
    {
     "name": "stderr",
     "output_type": "stream",
     "text": [
      "c:\\users\\hgh97\\appdata\\local\\programs\\python\\python35\\lib\\site-packages\\keras\\callbacks.py:535: RuntimeWarning: Early stopping conditioned on metric `val_loss` which is not available. Available metrics are: loss,acc\n",
      "  (self.monitor, ','.join(list(logs.keys()))), RuntimeWarning\n"
     ]
    },
    {
     "name": "stdout",
     "output_type": "stream",
     "text": [
      "156/156 [==============================] - 0s 1ms/step - loss: 0.7871 - acc: 0.5128\n",
      "Epoch 3/13\n",
      "156/156 [==============================] - 0s 1ms/step - loss: 0.6905 - acc: 0.6410\n",
      "Epoch 4/13\n",
      "156/156 [==============================] - 0s 2ms/step - loss: 0.7565 - acc: 0.5641\n",
      "Epoch 5/13\n",
      "156/156 [==============================] - 0s 2ms/step - loss: 0.6567 - acc: 0.6026\n",
      "Epoch 6/13\n",
      "156/156 [==============================] - 0s 2ms/step - loss: 0.7199 - acc: 0.5321\n",
      "Epoch 7/13\n",
      "156/156 [==============================] - 0s 1ms/step - loss: 0.7191 - acc: 0.5449\n",
      "Epoch 8/13\n",
      "156/156 [==============================] - 0s 2ms/step - loss: 0.7137 - acc: 0.5705\n",
      "Epoch 9/13\n",
      "156/156 [==============================] - 0s 2ms/step - loss: 0.6275 - acc: 0.6731\n",
      "Epoch 10/13\n",
      "156/156 [==============================] - 0s 2ms/step - loss: 0.7426 - acc: 0.5256\n",
      "Epoch 11/13\n",
      "156/156 [==============================] - 0s 1ms/step - loss: 0.6353 - acc: 0.6282\n",
      "Epoch 12/13\n",
      "156/156 [==============================] - 0s 2ms/step - loss: 0.7195 - acc: 0.5769\n",
      "Epoch 13/13\n",
      "156/156 [==============================] - 0s 2ms/step - loss: 0.7033 - acc: 0.5705\n",
      "Epoch 1/13\n",
      "156/156 [==============================] - 3s 21ms/step - loss: 0.7790 - acc: 0.5513\n",
      "Epoch 2/13\n",
      "156/156 [==============================] - 0s 2ms/step - loss: 0.7460 - acc: 0.5385\n",
      "Epoch 3/13\n",
      "156/156 [==============================] - 0s 2ms/step - loss: 0.6741 - acc: 0.5641\n",
      "Epoch 4/13\n",
      "156/156 [==============================] - 0s 2ms/step - loss: 0.6842 - acc: 0.6154\n",
      "Epoch 5/13\n",
      "156/156 [==============================] - 0s 2ms/step - loss: 0.7155 - acc: 0.5769\n",
      "Epoch 6/13\n",
      "156/156 [==============================] - 0s 2ms/step - loss: 0.7349 - acc: 0.5833\n",
      "Epoch 7/13\n",
      "156/156 [==============================] - 0s 2ms/step - loss: 0.6698 - acc: 0.6026\n",
      "Epoch 8/13\n",
      "156/156 [==============================] - 0s 2ms/step - loss: 0.6473 - acc: 0.6474A: 0s - loss: 0.7068 - acc: 0.5\n",
      "Epoch 9/13\n",
      "156/156 [==============================] - 0s 2ms/step - loss: 0.6473 - acc: 0.6474\n",
      "Epoch 10/13\n",
      "156/156 [==============================] - 0s 2ms/step - loss: 0.6975 - acc: 0.6346A: 0s - loss: 0.7388 - acc: 0\n",
      "Epoch 11/13\n",
      "156/156 [==============================] - 0s 2ms/step - loss: 0.6940 - acc: 0.5641\n",
      "Epoch 12/13\n",
      "156/156 [==============================] - 0s 2ms/step - loss: 0.6911 - acc: 0.5769\n",
      "Epoch 13/13\n",
      "156/156 [==============================] - 0s 2ms/step - loss: 0.6798 - acc: 0.5833\n",
      "Epoch 1/13\n",
      "156/156 [==============================] - 4s 24ms/step - loss: 0.7186 - acc: 0.4936\n",
      "Epoch 2/13\n",
      "156/156 [==============================] - 0s 2ms/step - loss: 0.6930 - acc: 0.5321\n",
      "Epoch 3/13\n",
      "156/156 [==============================] - 0s 2ms/step - loss: 0.6808 - acc: 0.5513\n",
      "Epoch 4/13\n",
      "156/156 [==============================] - 0s 2ms/step - loss: 0.6942 - acc: 0.4808\n",
      "Epoch 5/13\n",
      "156/156 [==============================] - 0s 2ms/step - loss: 0.6724 - acc: 0.5577\n",
      "Epoch 6/13\n",
      "156/156 [==============================] - 0s 2ms/step - loss: 0.6483 - acc: 0.5897\n",
      "Epoch 7/13\n",
      "156/156 [==============================] - 0s 2ms/step - loss: 0.6536 - acc: 0.6154\n",
      "Epoch 8/13\n",
      "156/156 [==============================] - 0s 2ms/step - loss: 0.6355 - acc: 0.6218\n",
      "Epoch 9/13\n",
      "156/156 [==============================] - 0s 2ms/step - loss: 0.6014 - acc: 0.6410\n",
      "Epoch 10/13\n",
      "156/156 [==============================] - 0s 2ms/step - loss: 0.5762 - acc: 0.7308\n",
      "Epoch 11/13\n",
      "156/156 [==============================] - 0s 2ms/step - loss: 0.5906 - acc: 0.7051\n",
      "Epoch 12/13\n",
      "156/156 [==============================] - 0s 2ms/step - loss: 0.5647 - acc: 0.6795\n",
      "Epoch 13/13\n",
      "156/156 [==============================] - 0s 2ms/step - loss: 0.5211 - acc: 0.7692\n"
     ]
    },
    {
     "data": {
      "text/plain": [
       "'\\nmodel4.fit(x_val_4, y_val_4, epochs=13)\\nmodel5.fit(x_val_5, y_val_5, epochs=13)\\nmodel6.fit(x_val_6, y_val_6, epochs=13)\\n'"
      ]
     },
     "execution_count": 84,
     "metadata": {},
     "output_type": "execute_result"
    }
   ],
   "source": [
    "from keras.layers import Input, Dense\n",
    "from keras.models import Model\n",
    "\n",
    "'''\n",
    "m1 = Sequential()\n",
    "m1.add(Dense(features_1-2, input_dim = sample_1 * (features_1-2), activation='relu', init='glorot_uniform'))\n",
    "m1.add(Dropout(0.5))\n",
    "m1.add(Dense(150, activation='relu'))\n",
    "m1.add(Dropout(0.5))\n",
    "m1.add(Dense(200, activation='relu'))\n",
    "m1.add(Dropout(0.5))\n",
    "m1.add(Dense(300, activation='relu'))\n",
    "m1.add(Dropout(0.5))\n",
    "m1.add(Dense(150, activation='relu'))\n",
    "m1.add(Dropout(0.5))\n",
    "m1.add(Dense(1, activation='sigmoid'))\n",
    "'''\n",
    "keep_prob = 0.5\n",
    "\n",
    "input_m1 = Input(shape=(features_1-2,))\n",
    "input_drop_m1 = Dropout(keep_prob)(input_m1)\n",
    "h1_m1 = Dense(150,activation='relu')(input_drop_m1)\n",
    "h1_m1 = Dropout(keep_prob)(h1_m1)\n",
    "h2_m1 = Dense(200,activation='relu')(h1_m1)\n",
    "h2_m1 = Dropout(keep_prob)(h2_m1)\n",
    "h3_m1 = Dense(300,activation='relu')(h2_m1) \n",
    "h3_m1 = Dropout(keep_prob)(h3_m1)\n",
    "h4_m1 = Dense(150,activation='relu')(h3_m1) \n",
    "h4_m1 = Dropout(keep_prob)(h4_m1)\n",
    "output_m1 = Dense(1,activation=\"sigmoid\")(h4_m1) \n",
    "model1 = Model(inputs=input_m1,outputs=output_m1)\n",
    "\n",
    "input_m2 = Input(shape=(features_2-2,))\n",
    "input_drop_m2 = Dropout(keep_prob)(input_m2)\n",
    "h1_m2 = Dense(150,activation='relu')(input_drop_m2)\n",
    "h1_m2 = Dropout(keep_prob)(h1_m2)\n",
    "h2_m2 = Dense(200,activation='relu')(h1_m2)\n",
    "h2_m2 = Dropout(keep_prob)(h2_m2)\n",
    "h3_m2 = Dense(250,activation='relu')(h2_m2)\n",
    "h3_m2 = Dropout(keep_prob)(h3_m2)\n",
    "#h4_m2 = Dense(10,activation='relu')(h3_m2)\n",
    "h4_m2 = h3_m2\n",
    "#h4_m2 = Dropout(keep_prob)(h4_m2)\n",
    "output_m2 = Dense(1,activation=\"sigmoid\")(h4_m2)\n",
    "model2 = Model(inputs=input_m2,outputs=output_m2)\n",
    "\n",
    "input_m3 = Input(shape=(features_3-2,))\n",
    "input_drop_m3 = Dropout(keep_prob)(input_m3)\n",
    "h1_m3 = Dense(200,activation='relu')(input_drop_m3)\n",
    "h1_m3 = Dropout(keep_prob)(h1_m3)\n",
    "h2_m3 = Dense(200,activation='relu')(h1_m3)\n",
    "h2_m3 = Dropout(keep_prob)(h2_m3)\n",
    "h3_m3 = Dense(200,activation='relu')(h2_m3)\n",
    "h3_m3 = Dropout(keep_prob)(h3_m3)\n",
    "h4_m3 = h3_m3\n",
    "output_m3 = Dense(1,activation=\"sigmoid\")(h4_m3)\n",
    "model3 = Model(inputs=input_m3,outputs=output_m3)\n",
    "\n",
    "'''\n",
    "input_m4 = Input(shape=(features_4-2,))\n",
    "h1_m4 = Dense(150,activation='relu')(input_m4)\n",
    "h2_m4 = Dense(200,activation='relu')(h1_m4) \n",
    "h3_m4 = Dense(200,activation='relu')(h2_m4) \n",
    "h4_m4 = Dense(150,activation='relu')(h3_m4) \n",
    "output_m4 = Dense(1,activation=\"sigmoid\")(h4_m4) \n",
    "model4 = Model(inputs=input_m4,outputs=output_m4)\n",
    "\n",
    "input_m5 = Input(shape=(features_5-2,))\n",
    "h1_m5 = Dense(250,activation='relu')(input_m5)\n",
    "h2_m5 = Dense(100,activation='relu')(h1_m5) \n",
    "h3_m5 = Dense(30,activation='relu')(h2_m5)\n",
    "h4_m5 = Dense(10,activation='relu')(h3_m5) \n",
    "output_m5 = Dense(1,activation=\"sigmoid\")(h4_m5)\n",
    "model5 = Model(inputs=input_m5,outputs=output_m5)\n",
    "\n",
    "input_m6 = Input(shape=(features_6-2,))\n",
    "h1_m6 = Dense(200,activation='relu')(input_m6)\n",
    "h2_m6 = Dense(100,activation='relu')(h1_m6) \n",
    "h3_m6 = Dense(100,activation='relu')(h2_m6)\n",
    "h4_m6 = Dense(10,activation='relu')(h3_m6) \n",
    "output_m6 = Dense(1,activation=\"sigmoid\")(h4_m6)\n",
    "model6 = Model(inputs=input_m6,outputs=output_m6)\n",
    "'''\n",
    "\n",
    "'''m1.compile(optimizer=tf.train.AdamOptimizer(), \n",
    "              loss='binary_crossentropy',\n",
    "              metrics=['accuracy'])\n",
    "'''\n",
    "model1.compile(optimizer=tf.train.AdamOptimizer(), \n",
    "              loss='binary_crossentropy',\n",
    "              metrics=['accuracy'])\n",
    "model2.compile(optimizer=tf.train.AdamOptimizer(), \n",
    "              loss='binary_crossentropy',\n",
    "              metrics=['accuracy'])\n",
    "model3.compile(optimizer=tf.train.AdamOptimizer(), \n",
    "              loss='binary_crossentropy',\n",
    "              metrics=['accuracy'])\n",
    "'''\n",
    "model4.compile(optimizer=tf.train.AdamOptimizer(), \n",
    "              loss='binary_crossentropy',\n",
    "              metrics=['accuracy'])\n",
    "model5.compile(optimizer=tf.train.AdamOptimizer(), \n",
    "              loss='binary_crossentropy',\n",
    "              metrics=['accuracy'])\n",
    "model6.compile(optimizer=tf.train.AdamOptimizer(), \n",
    "              loss='binary_crossentropy',\n",
    "              metrics=['accuracy'])\n",
    "'''\n",
    "#m1.fit(x_val_1, y_val_1, epochs=13, batch_size=10)\n",
    "print(early_stopping)\n",
    "model1.fit(x_val_1, y_val_1, epochs=13, batch_size=10, callbacks=[early_stopping])\n",
    "model2.fit(x_val_2, y_val_2, epochs=13, batch_size=5, callbacks=[early_stopping])\n",
    "model3.fit(x_val_3, y_val_3, epochs=13, batch_size=5, callbacks=[early_stopping])\n",
    "'''\n",
    "model4.fit(x_val_4, y_val_4, epochs=13)\n",
    "model5.fit(x_val_5, y_val_5, epochs=13)\n",
    "model6.fit(x_val_6, y_val_6, epochs=13)\n",
    "'''"
   ]
  },
  {
   "cell_type": "code",
   "execution_count": 85,
   "metadata": {},
   "outputs": [
    {
     "name": "stdout",
     "output_type": "stream",
     "text": [
      "Saved model to disk\n"
     ]
    }
   ],
   "source": [
    "from keras.models import model_from_json\n",
    "\n",
    "# serialize model to JSON\n",
    "model1_json = model1.to_json()\n",
    "with open(\"model1.json\", \"w\") as json_file:\n",
    "    json_file.write(model1_json)\n",
    "# serialize weights to HDF5\n",
    "model1.save_weights(\"model1.h5\")\n",
    "print(\"Saved model to disk\")"
   ]
  },
  {
   "cell_type": "code",
   "execution_count": 86,
   "metadata": {},
   "outputs": [],
   "source": [
    "# later...\n",
    " \n",
    "# load json and create model\n",
    "json_file1 = open('model1.json', 'r')\n",
    "loaded_model_json1 = json_file1.read()\n",
    "json_file1.close()\n",
    "loaded_model1 = model_from_json(loaded_model_json1)\n",
    "# load weights into new model\n",
    "loaded_model1.load_weights(\"model1.h5\")"
   ]
  },
  {
   "cell_type": "markdown",
   "metadata": {},
   "source": [
    "### Evaluating seperate model's performance"
   ]
  },
  {
   "cell_type": "code",
   "execution_count": 87,
   "metadata": {},
   "outputs": [
    {
     "name": "stdout",
     "output_type": "stream",
     "text": [
      "156/156 [==============================] - 3s 20ms/step\n",
      "156/156 [==============================] - 1s 8ms/step\n",
      "156/156 [==============================] - 1s 8ms/step\n",
      "40/40 [==============================] - 0s 407us/step\n",
      "40/40 [==============================] - 0s 460us/step\n",
      "40/40 [==============================] - 0s 713us/step\n",
      "156/156 [==============================] - 1s 8ms/step\n",
      "40/40 [==============================] - 0s 330us/step\n",
      "C://test/TC_intersect_subsamples/inter_OV_CV_400.csv C://test/TC_intersect_subsamples/inter_OV_Clin.csv C://test/TC_intersect_subsamples/inter_OV_SNV_ch.csv\n",
      "\n",
      "Train Accuracy for model 1, 2, 3 : 0.8782051297334524,0.7628205128205128,0.8974358974358975, 0.8782051297334524\n",
      "\n",
      "Test Accuracy for model 1, 2, 3 : 0.6,0.525,0.475, 0.6\n"
     ]
    }
   ],
   "source": [
    "model1_new=loaded_model1\n",
    "model1_new.compile(optimizer=tf.train.AdamOptimizer(), \n",
    "              loss='binary_crossentropy',\n",
    "              metrics=['accuracy'])\n",
    "\n",
    "m1_tr_loss,m1_tr_accuracy=model1.evaluate(x_val_1,y_val_1)\n",
    "m2_tr_loss,m2_tr_accuracy=model2.evaluate(x_val_2,y_val_2)\n",
    "m3_tr_loss,m3_tr_accuracy=model3.evaluate(x_val_3,y_val_3)\n",
    "\n",
    "m1_loss,m1_accuracy= model1.evaluate(test_x_val_1,test_y_val_1)\n",
    "m2_loss,m2_accuracy= model2.evaluate(test_x_val_2,test_y_val_2)\n",
    "m3_loss,m3_accuracy= model3.evaluate(test_x_val_3,test_y_val_3)\n",
    "\n",
    "m1_tr_loss_new,m1_tr_accuracy_new=model1_new.evaluate(x_val_1,y_val_1)\n",
    "m1_loss_new,m1_accuracy_new= model1_new.evaluate(test_x_val_1,test_y_val_1)\n",
    "\n",
    "print(file_1,file_2,file_3)\n",
    "print(\"\\nTrain Accuracy for model 1, 2, 3 : {},{},{}, {}\".format(m1_tr_accuracy,m2_tr_accuracy))\n",
    "print(\"\\nTest Accuracy for model 1, 2, 3 : {},{},{}, {}\".format(m1_accuracy,m2_accuracy,m3_accuracy))"
   ]
  },
  {
   "cell_type": "markdown",
   "metadata": {},
   "source": [
    "## Modeling Ensemble model"
   ]
  },
  {
   "cell_type": "markdown",
   "metadata": {},
   "source": [
    "### Building original ensemble model"
   ]
  },
  {
   "cell_type": "code",
   "execution_count": 60,
   "metadata": {},
   "outputs": [
    {
     "name": "stdout",
     "output_type": "stream",
     "text": [
      "Epoch 1/5\n",
      "156/156 [==============================]156/156 [==============================] - 4s 26ms/step - loss: 0.7046 - acc: 0.5513\n",
      "\n",
      "Epoch 2/5\n",
      "156/156 [==============================]156/156 [==============================] - 1s 6ms/step - loss: 0.6868 - acc: 0.5577\n",
      "\n",
      "Epoch 3/5\n",
      "156/156 [==============================]156/156 [==============================] - 1s 7ms/step - loss: 0.6799 - acc: 0.5769\n",
      "\n",
      "Epoch 4/5\n",
      "156/156 [==============================]156/156 [==============================] - 1s 7ms/step - loss: 0.6776 - acc: 0.5833\n",
      "\n",
      "Epoch 5/5\n",
      "156/156 [==============================]156/156 [==============================] - 1s 6ms/step - loss: 0.6741 - acc: 0.5769\n",
      "\n"
     ]
    },
    {
     "data": {
      "text/plain": [
       "<tensorflow.python.keras._impl.keras.callbacks.History at 0x212b81d6c88>"
      ]
     },
     "execution_count": 60,
     "metadata": {},
     "output_type": "execute_result"
    }
   ],
   "source": [
    "m1_predictions = model1.predict(x_val_1)\n",
    "m2_predictions = model2.predict(x_val_2)\n",
    "m3_predictions = model3.predict(x_val_3)\n",
    "\n",
    "ensemble_x_val = np.concatenate([m1_predictions, m2_predictions, m3_predictions], axis=1)\n",
    "\n",
    "ensemble_model = keras.Sequential([\n",
    "    keras.layers.Dense(3,input_shape=(3,),name=\"input_layer\"),\n",
    "    keras.layers.Dense(2,activation=\"relu\"),        \n",
    "    keras.layers.Dense(1,activation='sigmoid',name=\"output_layer\")])\n",
    "\n",
    "ensemble_model.compile(optimizer=tf.train.AdamOptimizer(), \n",
    "              loss='binary_crossentropy',\n",
    "              metrics=['accuracy'])\n",
    "\n",
    "ensemble_model.fit(ensemble_x_val, y_val_1, epochs=5, batch_size= 1)\n"
   ]
  },
  {
   "cell_type": "markdown",
   "metadata": {},
   "source": [
    "### Evaluating _DNN Combiner_ ensemble model"
   ]
  },
  {
   "cell_type": "code",
   "execution_count": 61,
   "metadata": {},
   "outputs": [
    {
     "name": "stdout",
     "output_type": "stream",
     "text": [
      "40/40 [==============================]40/40 [==============================] - 2s 39ms/step\n",
      "\n",
      "Accuracy for DNN combiner ensemble : 0.575\n"
     ]
    }
   ],
   "source": [
    "m1_test_predictions = model1.predict(test_x_val_1)\n",
    "m2_test_predictions = model2.predict(test_x_val_2)\n",
    "m3_test_predictions = model3.predict(test_x_val_3)\n",
    "\n",
    "ensemble_test_x_val = np.concatenate([m1_test_predictions, m2_test_predictions, m3_test_predictions], axis=1)\n",
    "\n",
    "em_loss,em_accuracy= ensemble_model.evaluate(ensemble_test_x_val,test_y_val_1)\n",
    "\n",
    "print(\"Accuracy for DNN combiner ensemble : {}\".format(em_accuracy))"
   ]
  },
  {
   "cell_type": "markdown",
   "metadata": {},
   "source": [
    "### Evaluating _mean_ ensemble model"
   ]
  },
  {
   "cell_type": "code",
   "execution_count": 62,
   "metadata": {},
   "outputs": [
    {
     "name": "stdout",
     "output_type": "stream",
     "text": [
      "Accuracy for mean ensemble : 0.6\n"
     ]
    }
   ],
   "source": [
    "mean_predictions=(m1_test_predictions+m2_test_predictions+m3_test_predictions)/3\n",
    "labled_predictions = np.where(mean_predictions > 0.5, 1, 0).flatten()\n",
    "mean_em_accuracy = sum(labled_predictions==test_y_val_1.values)/len(test_y_val_1)\n",
    "\n",
    "print(\"Accuracy for mean ensemble : {}\".format(mean_em_accuracy))"
   ]
  },
  {
   "cell_type": "markdown",
   "metadata": {},
   "source": [
    "## Transferred Ensemble Modeling "
   ]
  },
  {
   "cell_type": "markdown",
   "metadata": {},
   "source": [
    "### Making new input data for t-ensemble"
   ]
  },
  {
   "cell_type": "code",
   "execution_count": 71,
   "metadata": {},
   "outputs": [
    {
     "name": "stdout",
     "output_type": "stream",
     "text": [
      "[[0.         0.         0.         ... 0.         0.         0.00368698]\n",
      " [0.         0.0352152  0.         ... 0.         0.         0.        ]\n",
      " [0.08995163 0.         0.         ... 0.         0.         0.        ]\n",
      " ...\n",
      " [0.         0.         0.         ... 0.         0.         0.03741145]\n",
      " [0.         0.04493077 0.         ... 0.         0.         0.1015228 ]\n",
      " [0.         0.         0.         ... 0.         0.         0.0150783 ]]\n",
      "(156, 600)\n"
     ]
    }
   ],
   "source": [
    "from keras.models import Model\n",
    "model = Model(inputs=[input_m1], outputs=[h4_m1])\n",
    "results_m1 = model.predict([x_val_1])\n",
    "\n",
    "model = Model(inputs=[input_m2], outputs=[h4_m2])\n",
    "results_m2 = model.predict([x_val_2])\n",
    "\n",
    "model = Model(inputs=[input_m3], outputs=[h4_m3])\n",
    "results_m3 = model.predict([x_val_3])\n",
    "\n",
    "t_ensemble_x_val = np.concatenate([results_m1, results_m2, results_m3], axis=1)\n",
    "print(t_ensemble_x_val.shape)"
   ]
  },
  {
   "cell_type": "markdown",
   "metadata": {},
   "source": [
    "### Modeling t-ensemble  "
   ]
  },
  {
   "cell_type": "code",
   "execution_count": 64,
   "metadata": {},
   "outputs": [
    {
     "name": "stdout",
     "output_type": "stream",
     "text": [
      "Epoch 1/2\n",
      "156/156 [==============================] - 3s 18ms/step - loss: 0.6879 - acc: 0.5769\n",
      "Epoch 2/2\n",
      "156/156 [==============================] - 0s 1ms/step - loss: 0.6537 - acc: 0.6603\n"
     ]
    },
    {
     "data": {
      "text/plain": [
       "<keras.callbacks.History at 0x212b95956a0>"
      ]
     },
     "execution_count": 64,
     "metadata": {},
     "output_type": "execute_result"
    }
   ],
   "source": [
    "t_ensemble_input = Input(shape=(t_ensemble_x_val.shape[1],))\n",
    "t_ensemble_h1 = Dense(20,activation='relu')(t_ensemble_input)\n",
    "t_ensemble_h2 = Dense(10,activation='relu')(t_ensemble_h1)\n",
    "t_ensemble_h3 = Dense(5,activation='relu')(t_ensemble_h2)\n",
    "t_ensemble_output = Dense(1,activation='sigmoid')(t_ensemble_h3)\n",
    "\n",
    "t_ensemble_model = Model(inputs=[t_ensemble_input],outputs=[t_ensemble_output])\n",
    "t_ensemble_model.compile(optimizer=tf.train.AdamOptimizer(), \n",
    "              loss='binary_crossentropy',\n",
    "              metrics=['accuracy'])\n",
    "\n",
    "t_ensemble_model.fit(t_ensemble_x_val, y_val_1, epochs=2,batch_size=5)"
   ]
  },
  {
   "cell_type": "markdown",
   "metadata": {},
   "source": [
    "### Evaluating t-ensemble"
   ]
  },
  {
   "cell_type": "code",
   "execution_count": 65,
   "metadata": {},
   "outputs": [
    {
     "name": "stdout",
     "output_type": "stream",
     "text": [
      "40/40 [==============================] - 1s 25ms/step\n",
      "\n",
      "Accuracy for t-ensemble:  0.625\n"
     ]
    }
   ],
   "source": [
    "model = Model(inputs=[input_m1], outputs=[h4_m1])\n",
    "test_results_m1 = model.predict([test_x_val_1])\n",
    "model = Model(inputs=[input_m2], outputs=[h4_m2])\n",
    "test_results_m2 = model.predict([test_x_val_2])\n",
    "model = Model(inputs=[input_m3], outputs=[h4_m3])\n",
    "test_results_m3 = model.predict([test_x_val_3])\n",
    "\n",
    "t_ensemble_test_x_val = np.concatenate([test_results_m1, test_results_m2, test_results_m3], axis=1)\n",
    "t_em_accuracy = t_ensemble_model.evaluate(t_ensemble_test_x_val,test_y_val_1)[1]\n",
    "print(\"\\nAccuracy for t-ensemble: \",t_em_accuracy )"
   ]
  },
  {
   "cell_type": "markdown",
   "metadata": {},
   "source": [
    "## Performance Comparison"
   ]
  },
  {
   "cell_type": "code",
   "execution_count": 66,
   "metadata": {},
   "outputs": [
    {
     "name": "stdout",
     "output_type": "stream",
     "text": [
      "model1: 0.625\n",
      "model2: 0.65\n",
      "model3: 0.35\n",
      "mean-em: 0.6\n",
      "d-comb em: 0.575\n",
      "t-em: 0.625\n"
     ]
    }
   ],
   "source": [
    "label = [\"model1\",\"model2\",\"model3\",\"mean-em\",\"d-comb em\",\"t-em\"]\n",
    "accuracy = [m1_accuracy,m2_accuracy,m3_accuracy,mean_em_accuracy,em_accuracy,t_em_accuracy ]\n",
    "print(\"model1: \"+str(accuracy[0])+\"\\nmodel2: \"+str(accuracy[1])+\"\\nmodel3: \"+str(accuracy[2])+\"\\nmean-em: \"+str(accuracy[3])+\"\\nd-comb em: \"+str(accuracy[4])+\"\\nt-em: \"+str(accuracy[5]))"
   ]
  },
  {
   "cell_type": "code",
   "execution_count": 67,
   "metadata": {},
   "outputs": [],
   "source": [
    "def plot_bar_x():\n",
    "    # this is for plotting purpose\n",
    "    plt.figure(figsize=(30,20))\n",
    "    axes = plt.gca()\n",
    "    axes.set_ylim([min(m1_accuracy,m2_accuracy,m3_accuracy,mean_em_accuracy,em_accuracy,t_em_accuracy)-0.02,1])\n",
    "    index = np.arange(len(label))\n",
    "    plt.bar(index, accuracy,color=['red', 'orange', 'yellow', \"green\",'blue', 'purple',],alpha=0.5,width=0.3)\n",
    "    plt.xlabel('Method', fontsize=35)\n",
    "    plt.ylabel('Accuracy', fontsize=35)\n",
    "    plt.yticks(fontsize=30)    \n",
    "    plt.xticks(index, label, fontsize=30, rotation=90)\n",
    "    plt.title('Performance Comparison for each Ensemble Model',fontsize=40)\n",
    "    plt.show()"
   ]
  },
  {
   "cell_type": "code",
   "execution_count": 68,
   "metadata": {
    "scrolled": true
   },
   "outputs": [
    {
     "data": {
      "image/png": "[encoded data removed]",
      "text/plain": [
       "<Figure size 2160x1440 with 1 Axes>"
      ]
     },
     "metadata": {},
     "output_type": "display_data"
    }
   ],
   "source": [
    "plot_bar_x()"
   ]
  },
  {
   "cell_type": "code",
   "execution_count": null,
   "metadata": {},
   "outputs": [],
   "source": []
  }
 ],
 "metadata": {
  "kernelspec": {
   "display_name": "Python 3",
   "language": "python",
   "name": "python3"
  }
 },
 "nbformat": 4,
 "nbformat_minor": 2
}
