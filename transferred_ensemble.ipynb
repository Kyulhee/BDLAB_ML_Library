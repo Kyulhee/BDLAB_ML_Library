{
 "cells": [
  {
   "cell_type": "markdown",
   "metadata": {},
   "source": [
    "## Importing Library"
   ]
  },
  {
   "cell_type": "code",
   "execution_count": 1,
   "metadata": {},
   "outputs": [
    {
     "name": "stderr",
     "output_type": "stream",
     "text": [
      "Using TensorFlow backend.\n"
     ]
    },
    {
     "name": "stdout",
     "output_type": "stream",
     "text": [
      "1.5.0\n"
     ]
    }
   ],
   "source": [
    "# prediction\n",
    "def check_correct(predict, y):\n",
    "    result = {}\n",
    "    result['cancer-correct'] = 0\n",
    "    result['cancer-wrong'] = 0\n",
    "    result['normal-correct'] = 0\n",
    "    result['normal-wrong'] = 0\n",
    "\n",
    "    for i in range(len(predict)) :\n",
    "        if predict[i] == y[i] :\n",
    "            if y[i] == 0 :\n",
    "                result['normal-correct'] += 1\n",
    "            else :\n",
    "                result['cancer-correct'] += 1\n",
    "        else :\n",
    "            if y[i] == 0 :\n",
    "                result['normal-wrong'] += 1\n",
    "            else :\n",
    "                result['cancer-wrong'] += 1\n",
    "\n",
    "    for result_k, result_v in result.items():\n",
    "        print(result_k +\" : \"+ str(result_v))\n",
    "    sensitivity=result['cancer-correct']/(result['cancer-correct']+result['cancer-wrong'])\n",
    "    specificity=result['normal-correct']/(result['normal-correct']+result['normal-wrong'])\n",
    "    print(\"Sensitivity :\", sensitivity)\n",
    "    print(\"Specificity :\", specificity)\n",
    "    return sensitivity, specificity\n",
    "\n",
    "# TensorFlow and tf.keras\n",
    "import tensorflow as tf\n",
    "from tensorflow import keras\n",
    "from keras import backend as K\n",
    "from keras.models import Sequential \n",
    "from keras.layers import Dropout\n",
    "from keras.callbacks import EarlyStopping\n",
    "early_stopping = EarlyStopping(patience=10)\n",
    "\n",
    "# Helper libraries\n",
    "import numpy as np\n",
    "import pandas as pd\n",
    "import matplotlib.pyplot as plt\n",
    "from sklearn.model_selection import train_test_split\n",
    "\n",
    "print(tf.__version__)"
   ]
  },
  {
   "cell_type": "markdown",
   "metadata": {},
   "source": [
    "## Import Data"
   ]
  },
  {
   "cell_type": "code",
   "execution_count": 57,
   "metadata": {},
   "outputs": [
    {
     "name": "stdout",
     "output_type": "stream",
     "text": [
      "[1] file_name:  C://test/TC_intersect_subsamples/inter_OV_Var_200.csv \n",
      "sample : 196  \n",
      "features : 200\n",
      "[2] file_name:  C://test/TC_intersect_subsamples/inter_OV_Annotation3000_100.csv \n",
      "sample : 196  \n",
      "features : 100\n",
      "[3] file_name:  C://test/TC_intersect_subsamples/inter_OV_CV_400.csv \n",
      "sample : 196  \n",
      "features : 400\n",
      "[4] file_name:  C://test/TC_intersect_subsamples/inter_OV_new_Diff_400.csv \n",
      "sample : 196  \n",
      "features : 400\n",
      "[5] file_name:  C://test/TC_intersect_subsamples/inter_OV_Clin.csv \n",
      "sample : 196  \n",
      "features : 35\n",
      "[6] file_name:  C://test/TC_intersect_subsamples/inter_OV_SNV_ch.csv \n",
      "sample : 196  \n",
      "features : 282\n"
     ]
    }
   ],
   "source": [
    "path = \"C://test/TC_intersect_subsamples/\"\n",
    "types = [\"inter_OV_Var_200\", \"inter_OV_Annotation3000_100\", \n",
    "         \"inter_OV_CV_400\", \"inter_OV_new_Diff_400\",\n",
    "         \"inter_OV_Clin\", \n",
    "         \"inter_OV_SNV_ch\" \n",
    "         ]\n",
    "\n",
    "file_1 = path+types[0]+\".csv\"\n",
    "file_2 = path+types[1]+\".csv\"\n",
    "file_3 = path+types[2]+\".csv\"\n",
    "file_4 = path+types[3]+\".csv\"\n",
    "file_5 = path+types[4]+\".csv\"\n",
    "file_6 = path+types[5]+\".csv\"\n",
    "\n",
    "idx_col = 0\n",
    "\n",
    "data_1 = pd.read_csv(file_1,index_col=idx_col)\n",
    "data_2 = pd.read_csv(file_2,index_col=idx_col)\n",
    "data_3 = pd.read_csv(file_3,index_col=idx_col)\n",
    "data_4 = pd.read_csv(file_4,index_col=idx_col)\n",
    "data_5 = pd.read_csv(file_5,index_col=idx_col)\n",
    "data_6 = pd.read_csv(file_6,index_col=idx_col)\n",
    "\n",
    "sample_1,features_1 = data_1.shape\n",
    "sample_2,features_2 = data_2.shape\n",
    "sample_3,features_3 = data_3.shape\n",
    "sample_4,features_4 = data_4.shape\n",
    "sample_5,features_5 = data_5.shape\n",
    "sample_6,features_6 = data_6.shape\n",
    "\n",
    "\n",
    "[features_1, features_2, features_3, features_4, features_5, features_6] = [features_1-2, features_2-2, features_3-2, features_4-2, features_5-2, features_6-2]\n",
    "\n",
    "print(\"[1] file_name: \", file_1, \"\\nsample : {}  \\nfeatures : {}\".format(sample_1,features_1))\n",
    "print(\"[2] file_name: \", file_2, \"\\nsample : {}  \\nfeatures : {}\".format(sample_2,features_2))\n",
    "print(\"[3] file_name: \", file_3, \"\\nsample : {}  \\nfeatures : {}\".format(sample_3,features_3))\n",
    "print(\"[4] file_name: \", file_4, \"\\nsample : {}  \\nfeatures : {}\".format(sample_4,features_4))\n",
    "print(\"[5] file_name: \", file_5, \"\\nsample : {}  \\nfeatures : {}\".format(sample_5,features_5))\n",
    "print(\"[6] file_name: \", file_6, \"\\nsample : {}  \\nfeatures : {}\".format(sample_6,features_6))\n"
   ]
  },
  {
   "cell_type": "markdown",
   "metadata": {},
   "source": [
    "## Split Train Test Data"
   ]
  },
  {
   "cell_type": "code",
   "execution_count": 61,
   "metadata": {},
   "outputs": [
    {
     "name": "stdout",
     "output_type": "stream",
     "text": [
      "(156, 200) (40, 200)\n"
     ]
    }
   ],
   "source": [
    "train_data_1 = data_1.iloc[list(data_1.iloc[:,-1]!=1)]\n",
    "test_data_1 = data_1.iloc[list(data_1.iloc[:,-1]==1)]\n",
    "\n",
    "y_val_1 = train_data_1.Platinum_Status\n",
    "x_val_1 = train_data_1.drop([\"Platinum_Status\",\"index\"],axis=1)\n",
    "test_y_val_1 = test_data_1.Platinum_Status\n",
    "test_x_val_1 = test_data_1.drop([\"Platinum_Status\",\"index\"],axis=1)\n",
    "\n",
    "print(x_val_1.shape, test_x_val_1.shape)"
   ]
  },
  {
   "cell_type": "code",
   "execution_count": 62,
   "metadata": {},
   "outputs": [
    {
     "name": "stdout",
     "output_type": "stream",
     "text": [
      "(156, 100) (40, 100)\n"
     ]
    }
   ],
   "source": [
    "train_data_2 = data_2.iloc[list(data_2.iloc[:,-1]!=1)]\n",
    "test_data_2 = data_2.iloc[list(data_2.iloc[:,-1]==1)]\n",
    "\n",
    "y_val_2 = train_data_2.Platinum_Status\n",
    "x_val_2 = train_data_2.drop([\"Platinum_Status\",\"index\"],axis=1)\n",
    "test_y_val_2 = test_data_2.Platinum_Status\n",
    "test_x_val_2 = test_data_2.drop([\"Platinum_Status\",\"index\"],axis=1)\n",
    "\n",
    "print(x_val_2.shape, test_x_val_2.shape)"
   ]
  },
  {
   "cell_type": "code",
   "execution_count": 55,
   "metadata": {},
   "outputs": [
    {
     "name": "stdout",
     "output_type": "stream",
     "text": [
      "(156, 402) (40, 402)\n"
     ]
    },
    {
     "data": {
      "text/plain": [
       "'\\ntrain_data_4,test_data_4 = train_test_split(data_4, test_size=0.2)\\ny_val_4 = train_data_4.Platinum_Status\\nx_val_4 = train_data_4.drop([\"Platinum_Status\",\"index\"],axis=1)\\ntest_y_val_4 = test_data_4.Platinum_Status\\ntest_x_val_4 = test_data_4.drop([\"Platinum_Status\",\"index\"],axis=1)\\n\\ntrain_data_5,test_data_5 = train_test_split(data_5, test_size=0.2)\\ny_val_5 = train_data_5.Platinum_Status\\nx_val_5 = train_data_5.drop([\"Platinum_Status\",\"index\"],axis=1)\\ntest_y_val_5 = test_data_5.Platinum_Status\\ntest_x_val_5 = test_data_5.drop([\"Platinum_Status\",\"index\"],axis=1)\\n\\ntrain_data_6,test_data_6 = train_test_split(data_6, test_size=0.2)\\ny_val_6 = train_data_6.Platinum_Status\\nx_val_6 = train_data_6.drop([\"Platinum_Status\",\"index\"],axis=1)\\ntest_y_val_6 = test_data_6.Platinum_Status\\ntest_x_val_6 = test_data_6.drop([\"Platinum_Status\",\"index\"],axis=1)\\n'"
      ]
     },
     "execution_count": 55,
     "metadata": {},
     "output_type": "execute_result"
    }
   ],
   "source": [
    "train_data_3 = data_3.iloc[list(data_3.iloc[:,-1]!=1)]\n",
    "test_data_3 = data_3.iloc[list(data_3.iloc[:,-1]==1)]\n",
    "\n",
    "y_val_3 = train_data_3.Platinum_Status\n",
    "x_val_3 = train_data_3.drop([\"Platinum_Status\",\"index\"],axis=1)\n",
    "test_y_val_3 = test_data_3.Platinum_Status\n",
    "test_x_val_3 = test_data_3.drop([\"Platinum_Status\",\"index\"],axis=1)\n",
    "\n",
    "print(x_val_3.shape, test_x_val_3.shape)"
   ]
  },
  {
   "cell_type": "code",
   "execution_count": 63,
   "metadata": {},
   "outputs": [
    {
     "name": "stdout",
     "output_type": "stream",
     "text": [
      "(156, 400) (40, 400)\n"
     ]
    }
   ],
   "source": [
    "train_data_4 = data_4.iloc[list(data_4.iloc[:,-1]!=1)]\n",
    "test_data_4 = data_4.iloc[list(data_4.iloc[:,-1]==1)]\n",
    "\n",
    "y_val_4 = train_data_4.Platinum_Status\n",
    "x_val_4 = train_data_4.drop([\"Platinum_Status\",\"index\"],axis=1)\n",
    "test_y_val_4 = test_data_4.Platinum_Status\n",
    "test_x_val_4 = test_data_4.drop([\"Platinum_Status\",\"index\"],axis=1)\n",
    "\n",
    "print(x_val_4.shape, test_x_val_4.shape)"
   ]
  },
  {
   "cell_type": "code",
   "execution_count": 64,
   "metadata": {},
   "outputs": [
    {
     "name": "stdout",
     "output_type": "stream",
     "text": [
      "(156, 35) (40, 35)\n"
     ]
    }
   ],
   "source": [
    "train_data_5 = data_5.iloc[list(data_5.iloc[:,-1]!=1)]\n",
    "test_data_5 = data_5.iloc[list(data_5.iloc[:,-1]==1)]\n",
    "\n",
    "y_val_5 = train_data_5.Platinum_Status\n",
    "x_val_5 = train_data_5.drop([\"Platinum_Status\",\"index\"],axis=1)\n",
    "test_y_val_5 = test_data_5.Platinum_Status\n",
    "test_x_val_5 = test_data_5.drop([\"Platinum_Status\",\"index\"],axis=1)\n",
    "\n",
    "print(x_val_5.shape, test_x_val_5.shape)"
   ]
  },
  {
   "cell_type": "code",
   "execution_count": 65,
   "metadata": {},
   "outputs": [
    {
     "name": "stdout",
     "output_type": "stream",
     "text": [
      "(156, 282) (40, 282)\n"
     ]
    }
   ],
   "source": [
    "train_data_6 = data_6.iloc[list(data_6.iloc[:,-1]!=1)]\n",
    "test_data_6 = data_6.iloc[list(data_6.iloc[:,-1]==1)]\n",
    "\n",
    "y_val_6 = train_data_6.Platinum_Status\n",
    "x_val_6 = train_data_6.drop([\"Platinum_Status\",\"index\"],axis=1)\n",
    "test_y_val_6 = test_data_6.Platinum_Status\n",
    "test_x_val_6 = test_data_6.drop([\"Platinum_Status\",\"index\"],axis=1)\n",
    "\n",
    "print(x_val_6.shape, test_x_val_6.shape)"
   ]
  },
  {
   "cell_type": "markdown",
   "metadata": {},
   "source": [
    "## Modeling Seperate Model"
   ]
  },
  {
   "cell_type": "markdown",
   "metadata": {},
   "source": [
    "###  Building seperate model for ensemble(model 1, 2, 3)"
   ]
  },
  {
   "cell_type": "code",
   "execution_count": 67,
   "metadata": {},
   "outputs": [
    {
     "name": "stdout",
     "output_type": "stream",
     "text": [
      "200 100 400 400 35 282\n"
     ]
    }
   ],
   "source": [
    "from keras.layers import Input, Dense\n",
    "from keras.models import Model\n",
    "\n",
    "print(features_1, features_2, features_3, features_4, features_5, features_6)"
   ]
  },
  {
   "cell_type": "code",
   "execution_count": 79,
   "metadata": {},
   "outputs": [
    {
     "name": "stderr",
     "output_type": "stream",
     "text": [
      "c:\\users\\hgh97\\appdata\\local\\programs\\python\\python35\\lib\\site-packages\\ipykernel_launcher.py:4: UserWarning: Update your `Dense` call to the Keras 2 API: `Dense(200, activation=\"relu\", input_dim=200, kernel_initializer=\"glorot_uniform\")`\n",
      "  after removing the cwd from sys.path.\n"
     ]
    },
    {
     "name": "stdout",
     "output_type": "stream",
     "text": [
      "Epoch 1/13\n",
      "156/156 [==============================] - 1s 5ms/step - loss: 1.0079 - acc: 0.4679\n",
      "Epoch 2/13\n",
      "156/156 [==============================] - 0s 971us/step - loss: 0.8812 - acc: 0.4872\n",
      "Epoch 3/13\n",
      " 10/156 [>.............................] - ETA: 0s - loss: 0.5891 - acc: 0.7000"
     ]
    },
    {
     "name": "stderr",
     "output_type": "stream",
     "text": [
      "c:\\users\\hgh97\\appdata\\local\\programs\\python\\python35\\lib\\site-packages\\keras\\callbacks.py:535: RuntimeWarning: Early stopping conditioned on metric `val_loss` which is not available. Available metrics are: loss,acc\n",
      "  (self.monitor, ','.join(list(logs.keys()))), RuntimeWarning\n"
     ]
    },
    {
     "name": "stdout",
     "output_type": "stream",
     "text": [
      "156/156 [==============================] - 0s 948us/step - loss: 0.7549 - acc: 0.5385\n",
      "Epoch 4/13\n",
      "156/156 [==============================] - 0s 802us/step - loss: 0.8273 - acc: 0.4679\n",
      "Epoch 5/13\n",
      "156/156 [==============================] - 0s 788us/step - loss: 0.7209 - acc: 0.5769\n",
      "Epoch 6/13\n",
      "156/156 [==============================] - 0s 813us/step - loss: 0.7346 - acc: 0.5513\n",
      "Epoch 7/13\n",
      "156/156 [==============================] - 0s 856us/step - loss: 0.7119 - acc: 0.5705\n",
      "Epoch 8/13\n",
      "156/156 [==============================] - 0s 768us/step - loss: 0.7317 - acc: 0.5064\n",
      "Epoch 9/13\n",
      "156/156 [==============================] - 0s 756us/step - loss: 0.7265 - acc: 0.5385\n",
      "Epoch 10/13\n",
      "156/156 [==============================] - 0s 830us/step - loss: 0.7373 - acc: 0.5000\n",
      "Epoch 11/13\n",
      "156/156 [==============================] - 0s 819us/step - loss: 0.7691 - acc: 0.5321\n",
      "Epoch 12/13\n",
      "156/156 [==============================] - 0s 830us/step - loss: 0.7053 - acc: 0.5000\n",
      "Epoch 13/13\n",
      "156/156 [==============================] - 0s 715us/step - loss: 0.7180 - acc: 0.5449\n"
     ]
    },
    {
     "name": "stderr",
     "output_type": "stream",
     "text": [
      "c:\\users\\hgh97\\appdata\\local\\programs\\python\\python35\\lib\\site-packages\\keras\\engine\\saving.py:126: UserWarning: TensorFlow optimizers do not make it possible to access optimizer attributes or optimizer state after instantiation. As a result, we cannot save the optimizer as part of the model save file.You will have to compile your model again after loading it. Prefer using a Keras optimizer instead (see keras.io/optimizers).\n",
      "  'TensorFlow optimizers do not '\n"
     ]
    }
   ],
   "source": [
    "keep_prob_1 = 0.5\n",
    "\n",
    "m1 = Sequential()\n",
    "m1.add(Dense(features_1, input_dim = features_1, activation='relu', init='glorot_uniform'))\n",
    "\n",
    "for i in [100, 300, 200, 100]:\n",
    "    m1.add(Dropout(keep_prob_1))\n",
    "    m1.add(Dense(i, activation='relu'))\n",
    "\n",
    "m1.add(Dropout(keep_prob))\n",
    "m1.add(Dense(1, activation='sigmoid'))\n",
    "\n",
    "m1.compile(optimizer=tf.train.AdamOptimizer(learning_rate=0.001), \n",
    "              loss='binary_crossentropy',\n",
    "              metrics=['accuracy'])\n",
    "\n",
    "m1.fit(x_val_1, y_val_1, epochs=13, batch_size=10, callbacks=[early_stopping])\n",
    "m1.save(\"m1.h5\")"
   ]
  },
  {
   "cell_type": "code",
   "execution_count": null,
   "metadata": {},
   "outputs": [],
   "source": []
  },
  {
   "cell_type": "code",
   "execution_count": 9,
   "metadata": {
    "scrolled": true
   },
   "outputs": [
    {
     "name": "stdout",
     "output_type": "stream",
     "text": [
      "<keras.callbacks.EarlyStopping object at 0x00000164FF007940>\n",
      "Epoch 1/13\n",
      "156/156 [==============================] - 1s 9ms/step - loss: 0.7718 - acc: 0.4936\n",
      "Epoch 2/13\n",
      " 90/156 [================>.............] - ETA: 0s - loss: 0.7175 - acc: 0.511\r"
     ]
    },
    {
     "name": "stderr",
     "output_type": "stream",
     "text": [
      "c:\\users\\hgh97\\appdata\\local\\programs\\python\\python35\\lib\\site-packages\\keras\\callbacks.py:535: RuntimeWarning: Early stopping conditioned on metric `val_loss` which is not available. Available metrics are: acc,loss\n",
      "  (self.monitor, ','.join(list(logs.keys()))), RuntimeWarning\n"
     ]
    },
    {
     "name": "stdout",
     "output_type": "stream",
     "text": [
      "156/156 [==============================] - 0s 2ms/step - loss: 0.7279 - acc: 0.5000\n",
      "Epoch 3/13\n",
      "156/156 [==============================] - 0s 1ms/step - loss: 0.7576 - acc: 0.4808\n",
      "Epoch 4/13\n",
      "156/156 [==============================] - 0s 2ms/step - loss: 0.6959 - acc: 0.5256\n",
      "Epoch 5/13\n",
      "156/156 [==============================] - 0s 1ms/step - loss: 0.7014 - acc: 0.5769\n",
      "Epoch 6/13\n",
      "156/156 [==============================] - 0s 1ms/step - loss: 0.6774 - acc: 0.5833\n",
      "Epoch 7/13\n",
      "156/156 [==============================] - 0s 956us/step - loss: 0.6762 - acc: 0.5769\n",
      "Epoch 8/13\n",
      "156/156 [==============================] - 0s 1ms/step - loss: 0.7193 - acc: 0.5769\n",
      "Epoch 9/13\n",
      "156/156 [==============================] - 0s 1ms/step - loss: 0.6808 - acc: 0.5449\n",
      "Epoch 10/13\n",
      "156/156 [==============================] - 0s 1ms/step - loss: 0.6431 - acc: 0.6282\n",
      "Epoch 11/13\n",
      "156/156 [==============================] - 0s 1ms/step - loss: 0.6382 - acc: 0.6410\n",
      "Epoch 12/13\n",
      "156/156 [==============================] - 0s 1ms/step - loss: 0.6707 - acc: 0.6026\n",
      "Epoch 13/13\n",
      "156/156 [==============================] - 0s 1ms/step - loss: 0.6160 - acc: 0.6474\n",
      "Epoch 1/13\n",
      "156/156 [==============================] - 1s 4ms/step - loss: 0.7775 - acc: 0.5385\n",
      "Epoch 2/13\n",
      "156/156 [==============================] - 0s 1ms/step - loss: 0.8130 - acc: 0.5128\n",
      "Epoch 3/13\n",
      "156/156 [==============================] - 0s 1ms/step - loss: 0.7307 - acc: 0.5705\n",
      "Epoch 4/13\n",
      "156/156 [==============================] - 0s 2ms/step - loss: 0.7360 - acc: 0.6026\n",
      "Epoch 5/13\n",
      "156/156 [==============================] - 0s 2ms/step - loss: 0.7371 - acc: 0.5577\n",
      "Epoch 6/13\n",
      "156/156 [==============================] - 0s 2ms/step - loss: 0.6587 - acc: 0.6154\n",
      "Epoch 7/13\n",
      "156/156 [==============================] - 0s 1ms/step - loss: 0.7415 - acc: 0.6218\n",
      "Epoch 8/13\n",
      "156/156 [==============================] - 0s 1ms/step - loss: 0.7209 - acc: 0.5962\n",
      "Epoch 9/13\n",
      "156/156 [==============================] - 0s 1ms/step - loss: 0.7006 - acc: 0.5962\n",
      "Epoch 10/13\n",
      "156/156 [==============================] - 0s 1ms/step - loss: 0.7063 - acc: 0.5769\n",
      "Epoch 11/13\n",
      "156/156 [==============================] - 0s 1ms/step - loss: 0.6870 - acc: 0.6090\n",
      "Epoch 12/13\n",
      "156/156 [==============================] - 0s 977us/step - loss: 0.6885 - acc: 0.6603\n",
      "Epoch 13/13\n",
      "156/156 [==============================] - 0s 1ms/step - loss: 0.6648 - acc: 0.6346\n",
      "Epoch 1/13\n",
      "156/156 [==============================] - 1s 4ms/step - loss: 0.7034 - acc: 0.5064\n",
      "Epoch 2/13\n",
      "156/156 [==============================] - 0s 1ms/step - loss: 0.7084 - acc: 0.5192\n",
      "Epoch 3/13\n",
      "156/156 [==============================] - 0s 1ms/step - loss: 0.6871 - acc: 0.5962\n",
      "Epoch 4/13\n",
      "156/156 [==============================] - 0s 1ms/step - loss: 0.6736 - acc: 0.6026\n",
      "Epoch 5/13\n",
      "156/156 [==============================] - 0s 1ms/step - loss: 0.6888 - acc: 0.5962\n",
      "Epoch 6/13\n",
      "156/156 [==============================] - 0s 1ms/step - loss: 0.6789 - acc: 0.5833\n",
      "Epoch 7/13\n",
      "156/156 [==============================] - 0s 1ms/step - loss: 0.6389 - acc: 0.6603\n",
      "Epoch 8/13\n",
      "156/156 [==============================] - 0s 1ms/step - loss: 0.6508 - acc: 0.6474\n",
      "Epoch 9/13\n",
      "156/156 [==============================] - 0s 1ms/step - loss: 0.6264 - acc: 0.6923\n",
      "Epoch 10/13\n",
      "156/156 [==============================] - 0s 1ms/step - loss: 0.5715 - acc: 0.6987\n",
      "Epoch 11/13\n",
      "156/156 [==============================] - 0s 1ms/step - loss: 0.5984 - acc: 0.6282\n",
      "Epoch 12/13\n",
      "156/156 [==============================] - 0s 1ms/step - loss: 0.5052 - acc: 0.7692\n",
      "Epoch 13/13\n",
      "156/156 [==============================] - 0s 1ms/step - loss: 0.5432 - acc: 0.6795\n"
     ]
    },
    {
     "data": {
      "text/plain": [
       "'\\nmodel4.fit(x_val_4, y_val_4, epochs=13)\\nmodel5.fit(x_val_5, y_val_5, epochs=13)\\nmodel6.fit(x_val_6, y_val_6, epochs=13)\\n'"
      ]
     },
     "execution_count": 9,
     "metadata": {},
     "output_type": "execute_result"
    }
   ],
   "source": [
    "\n",
    "\n",
    "\n",
    "\n",
    "\n",
    "keep_prob = 0.5\n",
    "\n",
    "input_m1 = Input(shape=(features_1-2,))\n",
    "input_drop_m1 = Dropout(keep_prob)(input_m1)\n",
    "h1_m1 = Dense(150,activation='relu')(input_drop_m1)\n",
    "h1_m1 = Dropout(keep_prob)(h1_m1)\n",
    "h2_m1 = Dense(200,activation='relu')(h1_m1)\n",
    "h2_m1 = Dropout(keep_prob)(h2_m1)\n",
    "h3_m1 = Dense(300,activation='relu')(h2_m1) \n",
    "h3_m1 = Dropout(keep_prob)(h3_m1)\n",
    "h4_m1 = Dense(150,activation='relu')(h3_m1) \n",
    "h4_m1 = Dropout(keep_prob)(h4_m1)\n",
    "output_m1 = Dense(1,activation=\"sigmoid\")(h4_m1) \n",
    "model1 = Model(inputs=input_m1,outputs=output_m1)\n",
    "\n",
    "input_m2 = Input(shape=(features_2-2,))\n",
    "input_drop_m2 = Dropout(keep_prob)(input_m2)\n",
    "h1_m2 = Dense(150,activation='relu')(input_drop_m2)\n",
    "h1_m2 = Dropout(keep_prob)(h1_m2)\n",
    "h2_m2 = Dense(200,activation='relu')(h1_m2)\n",
    "h2_m2 = Dropout(keep_prob)(h2_m2)\n",
    "h3_m2 = Dense(250,activation='relu')(h2_m2)\n",
    "h3_m2 = Dropout(keep_prob)(h3_m2)\n",
    "#h4_m2 = Dense(10,activation='relu')(h3_m2)\n",
    "h4_m2 = h3_m2\n",
    "#h4_m2 = Dropout(keep_prob)(h4_m2)\n",
    "output_m2 = Dense(1,activation=\"sigmoid\")(h4_m2)\n",
    "model2 = Model(inputs=input_m2,outputs=output_m2)\n",
    "\n",
    "input_m3 = Input(shape=(features_3-2,))\n",
    "input_drop_m3 = Dropout(keep_prob)(input_m3)\n",
    "h1_m3 = Dense(200,activation='relu')(input_drop_m3)\n",
    "h1_m3 = Dropout(keep_prob)(h1_m3)\n",
    "h2_m3 = Dense(200,activation='relu')(h1_m3)\n",
    "h2_m3 = Dropout(keep_prob)(h2_m3)\n",
    "h3_m3 = Dense(200,activation='relu')(h2_m3)\n",
    "h3_m3 = Dropout(keep_prob)(h3_m3)\n",
    "h4_m3 = h3_m3\n",
    "output_m3 = Dense(1,activation=\"sigmoid\")(h4_m3)\n",
    "model3 = Model(inputs=input_m3,outputs=output_m3)\n",
    "\n",
    "'''\n",
    "input_m4 = Input(shape=(features_4-2,))\n",
    "h1_m4 = Dense(150,activation='relu')(input_m4)\n",
    "h2_m4 = Dense(200,activation='relu')(h1_m4) \n",
    "h3_m4 = Dense(200,activation='relu')(h2_m4) \n",
    "h4_m4 = Dense(150,activation='relu')(h3_m4) \n",
    "output_m4 = Dense(1,activation=\"sigmoid\")(h4_m4) \n",
    "model4 = Model(inputs=input_m4,outputs=output_m4)\n",
    "\n",
    "input_m5 = Input(shape=(features_5-2,))\n",
    "h1_m5 = Dense(250,activation='relu')(input_m5)\n",
    "h2_m5 = Dense(100,activation='relu')(h1_m5) \n",
    "h3_m5 = Dense(30,activation='relu')(h2_m5)\n",
    "h4_m5 = Dense(10,activation='relu')(h3_m5) \n",
    "output_m5 = Dense(1,activation=\"sigmoid\")(h4_m5)\n",
    "model5 = Model(inputs=input_m5,outputs=output_m5)\n",
    "\n",
    "input_m6 = Input(shape=(features_6-2,))\n",
    "h1_m6 = Dense(200,activation='relu')(input_m6)\n",
    "h2_m6 = Dense(100,activation='relu')(h1_m6) \n",
    "h3_m6 = Dense(100,activation='relu')(h2_m6)\n",
    "h4_m6 = Dense(10,activation='relu')(h3_m6) \n",
    "output_m6 = Dense(1,activation=\"sigmoid\")(h4_m6)\n",
    "model6 = Model(inputs=input_m6,outputs=output_m6)\n",
    "'''\n",
    "\n",
    "'''m1.compile(optimizer=tf.train.AdamOptimizer(), \n",
    "              loss='binary_crossentropy',\n",
    "              metrics=['accuracy'])\n",
    "'''\n",
    "model1.compile(optimizer=tf.train.AdamOptimizer(learning_rate=0.001), \n",
    "              loss='binary_crossentropy',\n",
    "              metrics=['accuracy'])\n",
    "model2.compile(optimizer=tf.train.AdamOptimizer(learning_rate=0.01), \n",
    "              loss='binary_crossentropy',\n",
    "              metrics=['accuracy'])\n",
    "model3.compile(optimizer=tf.train.AdamOptimizer(learning_rate=0.01), \n",
    "              loss='binary_crossentropy',\n",
    "              metrics=['accuracy'])\n",
    "'''\n",
    "model4.compile(optimizer=tf.train.AdamOptimizer(), \n",
    "              loss='binary_crossentropy',\n",
    "              metrics=['accuracy'])\n",
    "model5.compile(optimizer=tf.train.AdamOptimizer(), \n",
    "              loss='binary_crossentropy',\n",
    "              metrics=['accuracy'])\n",
    "model6.compile(optimizer=tf.train.AdamOptimizer(), \n",
    "              loss='binary_crossentropy',\n",
    "              metrics=['accuracy'])\n",
    "'''\n",
    "#m1.fit(x_val_1, y_val_1, epochs=13, batch_size=10)\n",
    "print(early_stopping)\n",
    "model1.fit(x_val_1, y_val_1, epochs=13, batch_size=10, callbacks=[early_stopping])\n",
    "model2.fit(x_val_2, y_val_2, epochs=13, batch_size=5, callbacks=[early_stopping])\n",
    "model3.fit(x_val_3, y_val_3, epochs=13, batch_size=5, callbacks=[early_stopping])\n",
    "'''\n",
    "model4.fit(x_val_4, y_val_4, epochs=13)\n",
    "model5.fit(x_val_5, y_val_5, epochs=13)\n",
    "model6.fit(x_val_6, y_val_6, epochs=13)\n",
    "'''"
   ]
  },
  {
   "cell_type": "code",
   "execution_count": 85,
   "metadata": {},
   "outputs": [
    {
     "name": "stdout",
     "output_type": "stream",
     "text": [
      "Saved model to disk\n"
     ]
    }
   ],
   "source": [
    "from keras.models import model_from_json\n",
    "\n",
    "# serialize model to JSON\n",
    "model1_json = model1.to_json()\n",
    "with open(\"model1.json\", \"w\") as json_file:\n",
    "    json_file.write(model1_json)\n",
    "# serialize weights to HDF5\n",
    "model1.save_weights(\"model1.h5\")\n",
    "print(\"Saved model to disk\")"
   ]
  },
  {
   "cell_type": "code",
   "execution_count": 86,
   "metadata": {},
   "outputs": [],
   "source": [
    "# later...\n",
    " \n",
    "# load json and create model\n",
    "json_file1 = open('model1.json', 'r')\n",
    "loaded_model_json1 = json_file1.read()\n",
    "json_file1.close()\n",
    "loaded_model1 = model_from_json(loaded_model_json1)\n",
    "# load weights into new model\n",
    "loaded_model1.load_weights(\"model1.h5\")"
   ]
  },
  {
   "cell_type": "markdown",
   "metadata": {},
   "source": [
    "### Evaluating seperate model's performance"
   ]
  },
  {
   "cell_type": "code",
   "execution_count": 13,
   "metadata": {},
   "outputs": [
    {
     "name": "stdout",
     "output_type": "stream",
     "text": [
      "156/156 [==============================] - 0s 188us/step\n",
      "156/156 [==============================] - 0s 309us/step\n",
      "156/156 [==============================] - 0s 270us/step\n",
      "40/40 [==============================] - 0s 449us/step\n",
      "40/40 [==============================] - 0s 424us/step\n",
      "40/40 [==============================] - 0s 480us/step\n",
      "C://test/TC_intersect_subsamples/inter_OV_CV_400.csv C://test/TC_intersect_subsamples/inter_OV_Clin.csv C://test/TC_intersect_subsamples/inter_OV_SNV_ch.csv\n",
      "\n",
      "Train Accuracy for model 1, 2, 3 : 0.8205128174561721,0.7499999954150274,0.9294871779588553\n",
      "\n",
      "Test Accuracy for model 1, 2, 3 : 0.575,0.625,0.575\n"
     ]
    }
   ],
   "source": [
    "#model1_new=loaded_model1\n",
    "#model1_new.compile(optimizer=tf.train.AdamOptimizer(), \n",
    "#              loss='binary_crossentropy',\n",
    "#              metrics=['accuracy'])\n",
    "\n",
    "m1_tr_loss,m1_tr_accuracy=model1.evaluate(x_val_1,y_val_1)\n",
    "m2_tr_loss,m2_tr_accuracy=model2.evaluate(x_val_2,y_val_2)\n",
    "m3_tr_loss,m3_tr_accuracy=model3.evaluate(x_val_3,y_val_3)\n",
    "\n",
    "m1_loss,m1_accuracy= model1.evaluate(test_x_val_1,test_y_val_1)\n",
    "m2_loss,m2_accuracy= model2.evaluate(test_x_val_2,test_y_val_2)\n",
    "m3_loss,m3_accuracy= model3.evaluate(test_x_val_3,test_y_val_3)\n",
    "\n",
    "#m1_tr_loss_new,m1_tr_accuracy_new=model1_new.evaluate(x_val_1,y_val_1)\n",
    "#m1_loss_new,m1_accuracy_new= model1_new.evaluate(test_x_val_1,test_y_val_1)\n",
    "\n",
    "print(file_1,file_2,file_3)\n",
    "print(\"\\nTrain Accuracy for model 1, 2, 3 : {},{},{}\".format(m1_tr_accuracy,m2_tr_accuracy,m3_tr_accuracy))\n",
    "print(\"\\nTest Accuracy for model 1, 2, 3 : {},{},{}\".format(m1_accuracy,m2_accuracy,m3_accuracy))"
   ]
  },
  {
   "cell_type": "markdown",
   "metadata": {},
   "source": [
    "## Modeling Ensemble model"
   ]
  },
  {
   "cell_type": "markdown",
   "metadata": {},
   "source": [
    "### Building original ensemble model"
   ]
  },
  {
   "cell_type": "code",
   "execution_count": 14,
   "metadata": {},
   "outputs": [
    {
     "name": "stdout",
     "output_type": "stream",
     "text": [
      "[[0.61387694]\n",
      " [0.2791472 ]\n",
      " [0.587619  ]\n",
      " [0.62159365]\n",
      " [0.5299795 ]\n",
      " [0.48753676]\n",
      " [0.44699344]\n",
      " [0.41624078]\n",
      " [0.40831476]\n",
      " [0.36715665]\n",
      " [0.37325436]\n",
      " [0.41579792]\n",
      " [0.41022357]\n",
      " [0.3028223 ]\n",
      " [0.3871858 ]\n",
      " [0.44115305]\n",
      " [0.3818252 ]\n",
      " [0.4963078 ]\n",
      " [0.54422545]\n",
      " [0.44848093]\n",
      " [0.55933636]\n",
      " [0.41484404]\n",
      " [0.3118703 ]\n",
      " [0.4348281 ]\n",
      " [0.4114312 ]\n",
      " [0.38410565]\n",
      " [0.28912583]\n",
      " [0.5131408 ]\n",
      " [0.458787  ]\n",
      " [0.4721161 ]\n",
      " [0.5380538 ]\n",
      " [0.44413647]\n",
      " [0.60147196]\n",
      " [0.23819533]\n",
      " [0.45228004]\n",
      " [0.49882427]\n",
      " [0.46496126]\n",
      " [0.50566006]\n",
      " [0.54888207]\n",
      " [0.31897572]\n",
      " [0.334885  ]\n",
      " [0.49782133]\n",
      " [0.4936863 ]\n",
      " [0.42408317]\n",
      " [0.4133823 ]\n",
      " [0.46844485]\n",
      " [0.2764286 ]\n",
      " [0.29509088]\n",
      " [0.2755778 ]\n",
      " [0.34684584]\n",
      " [0.4041901 ]\n",
      " [0.4902683 ]\n",
      " [0.39915594]\n",
      " [0.18159267]\n",
      " [0.39067832]\n",
      " [0.52510005]\n",
      " [0.41682646]\n",
      " [0.47121006]\n",
      " [0.43468136]\n",
      " [0.32362244]\n",
      " [0.44482115]\n",
      " [0.30899298]\n",
      " [0.42513037]\n",
      " [0.22333   ]\n",
      " [0.25030226]\n",
      " [0.43546695]\n",
      " [0.31937417]\n",
      " [0.20432642]\n",
      " [0.48939592]\n",
      " [0.5208191 ]\n",
      " [0.4165901 ]\n",
      " [0.5053352 ]\n",
      " [0.4866056 ]\n",
      " [0.45528412]\n",
      " [0.5408599 ]\n",
      " [0.51025206]\n",
      " [0.37668034]\n",
      " [0.33054113]\n",
      " [0.4294757 ]\n",
      " [0.4794847 ]\n",
      " [0.49110043]\n",
      " [0.576257  ]\n",
      " [0.47463167]\n",
      " [0.471242  ]\n",
      " [0.4687538 ]\n",
      " [0.35776067]\n",
      " [0.41443172]\n",
      " [0.4511209 ]\n",
      " [0.5716197 ]\n",
      " [0.563533  ]\n",
      " [0.19299032]\n",
      " [0.31511906]\n",
      " [0.3964351 ]\n",
      " [0.38098416]\n",
      " [0.54209214]\n",
      " [0.3804613 ]\n",
      " [0.3962649 ]\n",
      " [0.40741974]\n",
      " [0.55278164]\n",
      " [0.4487845 ]\n",
      " [0.2988361 ]\n",
      " [0.5166751 ]\n",
      " [0.47988683]\n",
      " [0.32344878]\n",
      " [0.36343145]\n",
      " [0.38010973]\n",
      " [0.52336913]\n",
      " [0.6066176 ]\n",
      " [0.5829846 ]\n",
      " [0.23560348]\n",
      " [0.5757843 ]\n",
      " [0.5351213 ]\n",
      " [0.43166783]\n",
      " [0.282129  ]\n",
      " [0.38590068]\n",
      " [0.45659158]\n",
      " [0.32715833]\n",
      " [0.4026008 ]\n",
      " [0.38089952]\n",
      " [0.42653614]\n",
      " [0.4923515 ]\n",
      " [0.6119355 ]\n",
      " [0.25803295]\n",
      " [0.30424464]\n",
      " [0.5549674 ]\n",
      " [0.40208614]\n",
      " [0.2699769 ]\n",
      " [0.471635  ]\n",
      " [0.36789438]\n",
      " [0.44852826]\n",
      " [0.5480803 ]\n",
      " [0.55874693]\n",
      " [0.57007045]\n",
      " [0.37367877]\n",
      " [0.46525252]\n",
      " [0.35641587]\n",
      " [0.5319462 ]\n",
      " [0.3929708 ]\n",
      " [0.5583086 ]\n",
      " [0.5164272 ]\n",
      " [0.49832252]\n",
      " [0.48772758]\n",
      " [0.63168377]\n",
      " [0.43515497]\n",
      " [0.37799156]\n",
      " [0.4162561 ]\n",
      " [0.36375746]\n",
      " [0.30927706]\n",
      " [0.56345284]\n",
      " [0.58640647]\n",
      " [0.49907345]\n",
      " [0.5828868 ]\n",
      " [0.5367943 ]\n",
      " [0.45985264]\n",
      " [0.45084506]\n",
      " [0.46087506]]\n",
      "WARNING:tensorflow:From c:\\users\\hgh97\\appdata\\local\\programs\\python\\python35\\lib\\site-packages\\tensorflow\\python\\keras\\_impl\\keras\\backend.py:1557: calling reduce_mean (from tensorflow.python.ops.math_ops) with keep_dims is deprecated and will be removed in a future version.\n",
      "Instructions for updating:\n",
      "keep_dims is deprecated, use keepdims instead\n",
      "Epoch 1/5\n",
      "156/156 [==============================]156/156 [==============================] - 1s 8ms/step - loss: 0.6945 - acc: 0.5641\n",
      "\n",
      "Epoch 2/5\n",
      "156/156 [==============================]156/156 [==============================] - 1s 4ms/step - loss: 0.6930 - acc: 0.5641\n",
      "\n",
      "Epoch 3/5\n",
      "156/156 [==============================]156/156 [==============================] - 1s 4ms/step - loss: 0.6920 - acc: 0.5641\n",
      "\n",
      "Epoch 4/5\n",
      "156/156 [==============================]156/156 [==============================] - 1s 4ms/step - loss: 0.6910 - acc: 0.5641\n",
      "\n",
      "Epoch 5/5\n",
      "156/156 [==============================]156/156 [==============================] - 1s 4ms/step - loss: 0.6899 - acc: 0.5641\n",
      "\n"
     ]
    },
    {
     "data": {
      "text/plain": [
       "<tensorflow.python.keras._impl.keras.callbacks.History at 0x164918157b8>"
      ]
     },
     "execution_count": 14,
     "metadata": {},
     "output_type": "execute_result"
    }
   ],
   "source": [
    "m1_predictions = model1.predict(x_val_1)\n",
    "m2_predictions = model2.predict(x_val_2)\n",
    "m3_predictions = model3.predict(x_val_3)\n",
    "\n",
    "ensemble_x_val = np.concatenate([m1_predictions, m2_predictions, m3_predictions], axis=1)\n",
    "\n",
    "ensemble_model = keras.Sequential([\n",
    "    keras.layers.Dense(3,input_shape=(3,),name=\"input_layer\"),\n",
    "    keras.layers.Dense(2,activation=\"relu\"),        \n",
    "    keras.layers.Dense(1,activation='sigmoid',name=\"output_layer\")])\n",
    "\n",
    "ensemble_model.compile(optimizer=tf.train.AdamOptimizer(), \n",
    "              loss='binary_crossentropy',\n",
    "              metrics=['accuracy'])\n",
    "\n",
    "ensemble_model.fit(ensemble_x_val, y_val_1, epochs=5, batch_size= 1)\n"
   ]
  },
  {
   "cell_type": "markdown",
   "metadata": {},
   "source": [
    "### Evaluating _DNN Combiner_ ensemble model"
   ]
  },
  {
   "cell_type": "code",
   "execution_count": 16,
   "metadata": {},
   "outputs": [
    {
     "name": "stdout",
     "output_type": "stream",
     "text": [
      "40/40 [==============================]40/40 [==============================] - 0s 97us/step\n",
      "\n",
      "Accuracy for DNN combiner ensemble : 0.55\n"
     ]
    }
   ],
   "source": [
    "m1_test_predictions = model1.predict(test_x_val_1)\n",
    "m2_test_predictions = model2.predict(test_x_val_2)\n",
    "m3_test_predictions = model3.predict(test_x_val_3)\n",
    "\n",
    "ensemble_test_x_val = np.concatenate([m1_test_predictions, m2_test_predictions, m3_test_predictions], axis=1)\n",
    "\n",
    "em_loss,em_accuracy= ensemble_model.evaluate(ensemble_test_x_val,test_y_val_1)\n",
    "\n",
    "print(\"Accuracy for DNN combiner ensemble : {}\".format(em_accuracy))"
   ]
  },
  {
   "cell_type": "markdown",
   "metadata": {},
   "source": [
    "### Evaluating _mean_ ensemble model"
   ]
  },
  {
   "cell_type": "code",
   "execution_count": 17,
   "metadata": {},
   "outputs": [
    {
     "name": "stdout",
     "output_type": "stream",
     "text": [
      "Accuracy for mean ensemble : 0.425\n"
     ]
    }
   ],
   "source": [
    "mean_predictions=(m1_test_predictions+m2_test_predictions+m3_test_predictions)/3\n",
    "labled_predictions = np.where(mean_predictions > 0.5, 1, 0).flatten()\n",
    "mean_em_accuracy = sum(labled_predictions==test_y_val_1.values)/len(test_y_val_1)\n",
    "\n",
    "print(\"Accuracy for mean ensemble : {}\".format(mean_em_accuracy))"
   ]
  },
  {
   "cell_type": "markdown",
   "metadata": {},
   "source": [
    "## Transferred Ensemble Modeling "
   ]
  },
  {
   "cell_type": "markdown",
   "metadata": {},
   "source": [
    "### Making new input data for t-ensemble"
   ]
  },
  {
   "cell_type": "code",
   "execution_count": 18,
   "metadata": {},
   "outputs": [
    {
     "name": "stdout",
     "output_type": "stream",
     "text": [
      "(156, 600)\n"
     ]
    }
   ],
   "source": [
    "from keras.models import Model\n",
    "model = Model(inputs=[input_m1], outputs=[h4_m1])\n",
    "results_m1 = model.predict([x_val_1])\n",
    "\n",
    "model = Model(inputs=[input_m2], outputs=[h4_m2])\n",
    "results_m2 = model.predict([x_val_2])\n",
    "\n",
    "model = Model(inputs=[input_m3], outputs=[h4_m3])\n",
    "results_m3 = model.predict([x_val_3])\n",
    "\n",
    "t_ensemble_x_val = np.concatenate([results_m1, results_m2, results_m3], axis=1)\n",
    "print(t_ensemble_x_val.shape)"
   ]
  },
  {
   "cell_type": "markdown",
   "metadata": {},
   "source": [
    "### Modeling t-ensemble  "
   ]
  },
  {
   "cell_type": "code",
   "execution_count": 19,
   "metadata": {},
   "outputs": [
    {
     "name": "stdout",
     "output_type": "stream",
     "text": [
      "Epoch 1/2\n",
      "156/156 [==============================] - 1s 5ms/step - loss: 0.6908 - acc: 0.5385\n",
      "Epoch 2/2\n",
      "156/156 [==============================] - 0s 1ms/step - loss: 0.6525 - acc: 0.7051\n"
     ]
    },
    {
     "data": {
      "text/plain": [
       "<keras.callbacks.History at 0x1649175acc0>"
      ]
     },
     "execution_count": 19,
     "metadata": {},
     "output_type": "execute_result"
    }
   ],
   "source": [
    "t_ensemble_input = Input(shape=(t_ensemble_x_val.shape[1],))\n",
    "t_ensemble_h1 = Dense(20,activation='relu')(t_ensemble_input)\n",
    "t_ensemble_h2 = Dense(10,activation='relu')(t_ensemble_h1)\n",
    "t_ensemble_h3 = Dense(5,activation='relu')(t_ensemble_h2)\n",
    "t_ensemble_output = Dense(1,activation='sigmoid')(t_ensemble_h3)\n",
    "\n",
    "t_ensemble_model = Model(inputs=[t_ensemble_input],outputs=[t_ensemble_output])\n",
    "t_ensemble_model.compile(optimizer=tf.train.AdamOptimizer(), \n",
    "              loss='binary_crossentropy',\n",
    "              metrics=['accuracy'])\n",
    "\n",
    "t_ensemble_model.fit(t_ensemble_x_val, y_val_1, epochs=2,batch_size=5)"
   ]
  },
  {
   "cell_type": "markdown",
   "metadata": {},
   "source": [
    "### Evaluating t-ensemble"
   ]
  },
  {
   "cell_type": "code",
   "execution_count": 20,
   "metadata": {},
   "outputs": [
    {
     "name": "stdout",
     "output_type": "stream",
     "text": [
      "40/40 [==============================] - 0s 4ms/step\n",
      "\n",
      "Accuracy for t-ensemble:  0.55\n"
     ]
    }
   ],
   "source": [
    "model = Model(inputs=[input_m1], outputs=[h4_m1])\n",
    "test_results_m1 = model.predict([test_x_val_1])\n",
    "model = Model(inputs=[input_m2], outputs=[h4_m2])\n",
    "test_results_m2 = model.predict([test_x_val_2])\n",
    "model = Model(inputs=[input_m3], outputs=[h4_m3])\n",
    "test_results_m3 = model.predict([test_x_val_3])\n",
    "\n",
    "t_ensemble_test_x_val = np.concatenate([test_results_m1, test_results_m2, test_results_m3], axis=1)\n",
    "t_em_accuracy = t_ensemble_model.evaluate(t_ensemble_test_x_val,test_y_val_1)[1]\n",
    "print(\"\\nAccuracy for t-ensemble: \",t_em_accuracy )"
   ]
  },
  {
   "cell_type": "markdown",
   "metadata": {},
   "source": [
    "## Performance Comparison"
   ]
  },
  {
   "cell_type": "code",
   "execution_count": 21,
   "metadata": {},
   "outputs": [
    {
     "name": "stdout",
     "output_type": "stream",
     "text": [
      "model1: 0.575\n",
      "model2: 0.625\n",
      "model3: 0.575\n",
      "mean-em: 0.425\n",
      "d-comb em: 0.55\n",
      "t-em: 0.55\n"
     ]
    }
   ],
   "source": [
    "label = [\"model1\",\"model2\",\"model3\",\"mean-em\",\"d-comb em\",\"t-em\"]\n",
    "accuracy = [m1_accuracy,m2_accuracy,m3_accuracy,mean_em_accuracy,em_accuracy,t_em_accuracy ]\n",
    "print(\"model1: \"+str(accuracy[0])+\"\\nmodel2: \"+str(accuracy[1])+\"\\nmodel3: \"+str(accuracy[2])+\"\\nmean-em: \"+str(accuracy[3])+\"\\nd-comb em: \"+str(accuracy[4])+\"\\nt-em: \"+str(accuracy[5]))"
   ]
  },
  {
   "cell_type": "code",
   "execution_count": 22,
   "metadata": {},
   "outputs": [],
   "source": [
    "def plot_bar_x():\n",
    "    # this is for plotting purpose\n",
    "    plt.figure(figsize=(30,20))\n",
    "    axes = plt.gca()\n",
    "    axes.set_ylim([min(m1_accuracy,m2_accuracy,m3_accuracy,mean_em_accuracy,em_accuracy,t_em_accuracy)-0.02,1])\n",
    "    index = np.arange(len(label))\n",
    "    plt.bar(index, accuracy,color=['red', 'orange', 'yellow', \"green\",'blue', 'purple',],alpha=0.5,width=0.3)\n",
    "    plt.xlabel('Method', fontsize=35)\n",
    "    plt.ylabel('Accuracy', fontsize=35)\n",
    "    plt.yticks(fontsize=30)    \n",
    "    plt.xticks(index, label, fontsize=30, rotation=90)\n",
    "    plt.title('Performance Comparison for each Ensemble Model',fontsize=40)\n",
    "    plt.show()"
   ]
  },
  {
   "cell_type": "code",
   "execution_count": 23,
   "metadata": {
    "scrolled": true
   },
   "outputs": [
    {
     "data": {
      "image/png": "[encoded data removed]",
      "text/plain": [
       "<Figure size 2160x1440 with 1 Axes>"
      ]
     },
     "metadata": {},
     "output_type": "display_data"
    }
   ],
   "source": [
    "plot_bar_x()"
   ]
  },
  {
   "cell_type": "code",
   "execution_count": null,
   "metadata": {},
   "outputs": [],
   "source": []
  },
  {
   "cell_type": "code",
   "execution_count": null,
   "metadata": {},
   "outputs": [],
   "source": []
  }
 ],
 "metadata": {
  "kernelspec": {
   "display_name": "Python 3",
   "language": "python",
   "name": "python3"
  },
  "language_info": {
   "codemirror_mode": {
    "name": "ipython",
    "version": 3
   },
   "file_extension": ".py",
   "mimetype": "text/x-python",
   "name": "python",
   "nbconvert_exporter": "python",
   "pygments_lexer": "ipython3",
   "version": "3.5.4"
  }
 },
 "nbformat": 4,
 "nbformat_minor": 2
}
